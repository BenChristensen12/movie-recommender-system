{
 "cells": [
  {
   "cell_type": "markdown",
   "metadata": {},
   "source": [
    "## Movie Recommender System"
   ]
  },
  {
   "cell_type": "markdown",
   "metadata": {},
   "source": [
    "### KNNeighbors and KMeans"
   ]
  },
  {
   "cell_type": "code",
   "execution_count": 14,
   "metadata": {
    "collapsed": true
   },
   "outputs": [],
   "source": [
    "import pandas as pd\n",
    "from scipy import linalg as la\n",
    "import numpy as np\n",
    "from scipy.sparse import csr_matrix\n",
    "from pandas.api.types import CategoricalDtype\n",
    "from sklearn.neighbors import NearestNeighbors\n",
    "from sklearn.cluster import KMeans\n",
    "from scipy.sparse import linalg as spla\n",
    "from time import time"
   ]
  },
  {
   "cell_type": "markdown",
   "metadata": {},
   "source": [
    "### Notes\n",
    " - Create a graph showing the distribution of average ratings for all users\n",
    " - Maybe another graph grouped by clusters"
   ]
  },
  {
   "cell_type": "code",
   "execution_count": 2,
   "metadata": {
    "collapsed": true
   },
   "outputs": [],
   "source": [
    "#Benjamin's path: path = \"/Users/Armen/Desktop/SpringDataProject/\"\n",
    "#Ben C's path:\n",
    "path = \"/Users/benchristensen/Desktop/Recommneder_System_Project/ml-20m/\"\n",
    "ratings = pd.read_csv(path + \"ratings.csv\", nrows = 10000)"
   ]
  },
  {
   "cell_type": "code",
   "execution_count": 3,
   "metadata": {},
   "outputs": [
    {
     "data": {
      "text/html": [
       "<div>\n",
       "<style scoped>\n",
       "    .dataframe tbody tr th:only-of-type {\n",
       "        vertical-align: middle;\n",
       "    }\n",
       "\n",
       "    .dataframe tbody tr th {\n",
       "        vertical-align: top;\n",
       "    }\n",
       "\n",
       "    .dataframe thead th {\n",
       "        text-align: right;\n",
       "    }\n",
       "</style>\n",
       "<table border=\"1\" class=\"dataframe\">\n",
       "  <thead>\n",
       "    <tr style=\"text-align: right;\">\n",
       "      <th></th>\n",
       "      <th>userId</th>\n",
       "      <th>movieId</th>\n",
       "      <th>rating</th>\n",
       "      <th>timestamp</th>\n",
       "    </tr>\n",
       "  </thead>\n",
       "  <tbody>\n",
       "    <tr>\n",
       "      <th>0</th>\n",
       "      <td>1</td>\n",
       "      <td>2</td>\n",
       "      <td>3.5</td>\n",
       "      <td>1112486027</td>\n",
       "    </tr>\n",
       "    <tr>\n",
       "      <th>1</th>\n",
       "      <td>1</td>\n",
       "      <td>29</td>\n",
       "      <td>3.5</td>\n",
       "      <td>1112484676</td>\n",
       "    </tr>\n",
       "    <tr>\n",
       "      <th>2</th>\n",
       "      <td>1</td>\n",
       "      <td>32</td>\n",
       "      <td>3.5</td>\n",
       "      <td>1112484819</td>\n",
       "    </tr>\n",
       "    <tr>\n",
       "      <th>3</th>\n",
       "      <td>1</td>\n",
       "      <td>47</td>\n",
       "      <td>3.5</td>\n",
       "      <td>1112484727</td>\n",
       "    </tr>\n",
       "    <tr>\n",
       "      <th>4</th>\n",
       "      <td>1</td>\n",
       "      <td>50</td>\n",
       "      <td>3.5</td>\n",
       "      <td>1112484580</td>\n",
       "    </tr>\n",
       "    <tr>\n",
       "      <th>5</th>\n",
       "      <td>1</td>\n",
       "      <td>112</td>\n",
       "      <td>3.5</td>\n",
       "      <td>1094785740</td>\n",
       "    </tr>\n",
       "    <tr>\n",
       "      <th>6</th>\n",
       "      <td>1</td>\n",
       "      <td>151</td>\n",
       "      <td>4.0</td>\n",
       "      <td>1094785734</td>\n",
       "    </tr>\n",
       "    <tr>\n",
       "      <th>7</th>\n",
       "      <td>1</td>\n",
       "      <td>223</td>\n",
       "      <td>4.0</td>\n",
       "      <td>1112485573</td>\n",
       "    </tr>\n",
       "    <tr>\n",
       "      <th>8</th>\n",
       "      <td>1</td>\n",
       "      <td>253</td>\n",
       "      <td>4.0</td>\n",
       "      <td>1112484940</td>\n",
       "    </tr>\n",
       "    <tr>\n",
       "      <th>9</th>\n",
       "      <td>1</td>\n",
       "      <td>260</td>\n",
       "      <td>4.0</td>\n",
       "      <td>1112484826</td>\n",
       "    </tr>\n",
       "    <tr>\n",
       "      <th>10</th>\n",
       "      <td>1</td>\n",
       "      <td>293</td>\n",
       "      <td>4.0</td>\n",
       "      <td>1112484703</td>\n",
       "    </tr>\n",
       "    <tr>\n",
       "      <th>11</th>\n",
       "      <td>1</td>\n",
       "      <td>296</td>\n",
       "      <td>4.0</td>\n",
       "      <td>1112484767</td>\n",
       "    </tr>\n",
       "    <tr>\n",
       "      <th>12</th>\n",
       "      <td>1</td>\n",
       "      <td>318</td>\n",
       "      <td>4.0</td>\n",
       "      <td>1112484798</td>\n",
       "    </tr>\n",
       "    <tr>\n",
       "      <th>13</th>\n",
       "      <td>1</td>\n",
       "      <td>337</td>\n",
       "      <td>3.5</td>\n",
       "      <td>1094785709</td>\n",
       "    </tr>\n",
       "    <tr>\n",
       "      <th>14</th>\n",
       "      <td>1</td>\n",
       "      <td>367</td>\n",
       "      <td>3.5</td>\n",
       "      <td>1112485980</td>\n",
       "    </tr>\n",
       "    <tr>\n",
       "      <th>15</th>\n",
       "      <td>1</td>\n",
       "      <td>541</td>\n",
       "      <td>4.0</td>\n",
       "      <td>1112484603</td>\n",
       "    </tr>\n",
       "    <tr>\n",
       "      <th>16</th>\n",
       "      <td>1</td>\n",
       "      <td>589</td>\n",
       "      <td>3.5</td>\n",
       "      <td>1112485557</td>\n",
       "    </tr>\n",
       "    <tr>\n",
       "      <th>17</th>\n",
       "      <td>1</td>\n",
       "      <td>593</td>\n",
       "      <td>3.5</td>\n",
       "      <td>1112484661</td>\n",
       "    </tr>\n",
       "    <tr>\n",
       "      <th>18</th>\n",
       "      <td>1</td>\n",
       "      <td>653</td>\n",
       "      <td>3.0</td>\n",
       "      <td>1094785691</td>\n",
       "    </tr>\n",
       "    <tr>\n",
       "      <th>19</th>\n",
       "      <td>1</td>\n",
       "      <td>919</td>\n",
       "      <td>3.5</td>\n",
       "      <td>1094785621</td>\n",
       "    </tr>\n",
       "  </tbody>\n",
       "</table>\n",
       "</div>"
      ],
      "text/plain": [
       "    userId  movieId  rating   timestamp\n",
       "0        1        2     3.5  1112486027\n",
       "1        1       29     3.5  1112484676\n",
       "2        1       32     3.5  1112484819\n",
       "3        1       47     3.5  1112484727\n",
       "4        1       50     3.5  1112484580\n",
       "5        1      112     3.5  1094785740\n",
       "6        1      151     4.0  1094785734\n",
       "7        1      223     4.0  1112485573\n",
       "8        1      253     4.0  1112484940\n",
       "9        1      260     4.0  1112484826\n",
       "10       1      293     4.0  1112484703\n",
       "11       1      296     4.0  1112484767\n",
       "12       1      318     4.0  1112484798\n",
       "13       1      337     3.5  1094785709\n",
       "14       1      367     3.5  1112485980\n",
       "15       1      541     4.0  1112484603\n",
       "16       1      589     3.5  1112485557\n",
       "17       1      593     3.5  1112484661\n",
       "18       1      653     3.0  1094785691\n",
       "19       1      919     3.5  1094785621"
      ]
     },
     "execution_count": 3,
     "metadata": {},
     "output_type": "execute_result"
    }
   ],
   "source": [
    "ratings.head()"
   ]
  },
  {
   "cell_type": "code",
   "execution_count": 4,
   "metadata": {
    "collapsed": true
   },
   "outputs": [],
   "source": [
    "#Create variable \"count\" for number of ratings for each movie\n",
    "ratings = ratings.merge(ratings.groupby(\"movieId\").size().reset_index(name='count'), how='right', on='movieId')"
   ]
  },
  {
   "cell_type": "code",
   "execution_count": 5,
   "metadata": {
    "collapsed": true
   },
   "outputs": [],
   "source": [
    "#Drop any movies that have 17 or fewer ratings\n",
    "ratings = ratings[ratings[\"count\"]>17].sort_values(['userId', 'movieId'])"
   ]
  },
  {
   "cell_type": "code",
   "execution_count": 6,
   "metadata": {
    "scrolled": true
   },
   "outputs": [
    {
     "data": {
      "text/plain": [
       "1.0"
      ]
     },
     "execution_count": 6,
     "metadata": {},
     "output_type": "execute_result"
    }
   ],
   "source": [
    "#Find the minimum number of movies reviewed by a user\n",
    "reviews_per_user = ratings.groupby(\"userId\").userId.apply(lambda x: len(x))\n",
    "reviews_per_user.describe().min()"
   ]
  },
  {
   "cell_type": "markdown",
   "metadata": {},
   "source": [
    "## inherit from sklearn?\n",
    " - Scoring Accuracy:\n",
    " - predict for every movie of the user (binary recommend/do not recommend)\n",
    " - that will be your 'x test'\n",
    " - create a 'y test' that gives if the user liked each movie or not\n",
    " - percent correctly predicted."
   ]
  },
  {
   "cell_type": "markdown",
   "metadata": {},
   "source": [
    "## KMeans - Clustering Users"
   ]
  },
  {
   "cell_type": "markdown",
   "metadata": {},
   "source": [
    "Method for predicting user $i$'s movie rating for movie $j$:\n",
    "\n",
    "$P_{i, j}:$ Prediction for user $i$'s rating of movie $j$\n",
    "\n",
    "$\\bar{u}_i:$ User $i$'s average movie rating\n",
    "\n",
    "$\\bar{m}_j:$ Cluster's average rating for movie $j$\n",
    "\n",
    "$\\bar{c}:$ Cluster's average movie rating\n",
    "\n",
    "$C:$ Cluster corresponding to user $i$\n",
    "\n",
    "$M:$ All movies\n",
    "\n",
    "$\\mathbb{1}(r_{i,j}):$ A function indiciating if user $i$ has rated movie $j$ \n",
    "\n",
    "$\\gamma_j : \\frac{\\sum_{i\\in C}{\\mathbb{1}(r_{i,j})}}{\\sum_{i\\in C, k\\in M}\\mathbb{1}(r_{i,k})}$\n",
    "\n",
    "$$P_{i, j} = \\bar{u}_i + (\\bar{m}_j - \\bar{c})*\\frac{\\gamma_j}{\\max_{k\\in M}{\\gamma_k}} $$\n",
    "\n"
   ]
  },
  {
   "cell_type": "code",
   "execution_count": 92,
   "metadata": {
    "collapsed": true
   },
   "outputs": [],
   "source": [
    "def KMeans_Predict(model, df):\n",
    "    \"\"\"\n",
    "    Use a fitted KMeans clustering model to predict a user's movie rating\n",
    "    \n",
    "    Parameter:\n",
    "        model (): Fitted KMeans Model\n",
    "        df (Sparse DataFrame): user-movie rating sparse dataframe\n",
    "    \n",
    "    Returns:\n",
    "        df (DataFrame): New Dataframe with NaNs filled with predicted ratings\n",
    "        update_df (DataFrame): Dataframe for testing that includes predictions rather\n",
    "                              than any actual ratings.\n",
    "    \"\"\"\n",
    "    #Assign clusters\n",
    "    df['cluster'] = model.labels_\n",
    "    #Find the proportion of ratings given for each movie by cluster\n",
    "    share_df = df.groupby(['cluster']).count()/df.groupby(['cluster']).count().sum(1).values.reshape((-1,1)) #SHARE\n",
    "    #Find the average rating for each movie by cluster\n",
    "    cluster_avgs_df = df.groupby([\"cluster\"]).mean()  #m_bar\n",
    "    #Define the average movie rating over all movies by user\n",
    "    df['avg'] = df.mean(1)                            #u_bar\n",
    "    #Find the average movie rating over all movies by cluster\n",
    "    cluster_avgs = df.groupby([\"cluster\"]).mean().avg #c_bar\n",
    "    #Calculate the adjustment for predicting purposes\n",
    "    diff_df = (cluster_avgs_df - cluster_avgs.values.values.reshape((-1,1)))*(share_df/share_df.max(0))\n",
    "    #If no one in cluster has seen the movie, adjustment is zero\n",
    "    diff_df = diff_df.fillna(0)\n",
    "    #Make the diff_df same size as df\n",
    "    update_df = df[['cluster']].reset_index().merge(diff_df, how='left', on='cluster').set_index('index')\n",
    "    #Add the adjustment to each user's avg movie rating\n",
    "    update_df = update_df.iloc[:,1:].apply(lambda x: x + df.avg)\n",
    "    #Fill the NaNs with the predictions\n",
    "    df.update(update_df, overwrite=False)\n",
    "    \n",
    "    return df.iloc[:,:-2], update_df\n",
    "\n",
    "def Test_KMeans(updated, predictions):\n",
    "    #Find the sum of squared residuals REPLACE WITH ANOTHER LOSS METRIC? SOFTMAX??\n",
    "    return ((updated - predictions)**2).sum().sum() / len(updated)\n",
    "\n",
    "def standardize(df):\n",
    "    \"\"\"\n",
    "    Change Predictions to standard movie rating format:\n",
    "        Only takes values 0.5, 1, 1.5, ..., 5.0\n",
    "        \n",
    "    Parameters:\n",
    "        df(Sparse Dataframe): user-movie rating dataframe\n",
    "        \n",
    "    Returns:\n",
    "        (Sparse Dataframe): Standardized user-movie rating dataframe\n",
    "    \"\"\"\n",
    "    #Only pass in columns of movie_IDs to standardize movie ratings for\n",
    "    #Wouldn't want to change clusters\n",
    "    clipped = df.clip(.5, 5)\n",
    "    return clipped.apply(lambda x: round(2*x)/2)\n",
    "    "
   ]
  },
  {
   "cell_type": "code",
   "execution_count": 22,
   "metadata": {
    "collapsed": true
   },
   "outputs": [],
   "source": [
    "path = \"/Users/benchristensen/Desktop/Recommneder_System_Project/ml-20m/\"\n",
    "ratings = pd.read_csv(path + \"ratings.csv\", nrows = 10000)\n",
    "#Generate user-movie matrix with ratings as its values\n",
    "user_c = CategoricalDtype(sorted(ratings.userId.unique()), ordered=True)\n",
    "movie_c = CategoricalDtype(sorted(ratings.movieId.unique()), ordered=True)\n",
    "\n",
    "row = ratings.userId.astype(user_c).cat.codes\n",
    "col = ratings.movieId.astype(movie_c).cat.codes\n",
    "sparse_matrix = csr_matrix((ratings['rating'], (row, col)), \\\n",
    "                           shape=(user_c.categories.size, movie_c.categories.size))"
   ]
  },
  {
   "cell_type": "code",
   "execution_count": 23,
   "metadata": {
    "collapsed": true
   },
   "outputs": [],
   "source": [
    "#Create sparse dataframe from user-movie matrix\n",
    "dfs = pd.SparseDataFrame(sparse_matrix, \\\n",
    "                         index=user_c.categories, \\\n",
    "                         columns=movie_c.categories) #,\n",
    "                         #default_fill_value=2.5)\n",
    "#Initialize KMeans model\n",
    "##Kmeans can't be performed in SciKitLearn on data with missing values\n",
    "##So we fill NA with 2.5 to find the clusters\n",
    "KM_model = KMeans(n_clusters=5).fit(dfs.fillna(2.5))\n",
    "KM_model.labels_\n",
    "df = dfs.copy()"
   ]
  },
  {
   "cell_type": "code",
   "execution_count": 102,
   "metadata": {
    "collapsed": true
   },
   "outputs": [],
   "source": [
    "KM_model = KMeans(n_clusters=5).fit(dfs.fillna(2.5))\n",
    "KM_model.labels_\n",
    "df = dfs.copy()"
   ]
  },
  {
   "cell_type": "code",
   "execution_count": 103,
   "metadata": {
    "collapsed": true
   },
   "outputs": [],
   "source": [
    "new, test = KMeans_Predict(KM_model, df)\n",
    "mse = Test_KMeans(standardize(new), standardize(test))"
   ]
  },
  {
   "cell_type": "code",
   "execution_count": 104,
   "metadata": {},
   "outputs": [
    {
     "name": "stdout",
     "output_type": "stream",
     "text": [
      "mean squared error: 59.69505494505494\n"
     ]
    }
   ],
   "source": [
    "print(\"mean squared error:\", mse)"
   ]
  },
  {
   "cell_type": "markdown",
   "metadata": {},
   "source": [
    "## KNN with cosine similarity"
   ]
  },
  {
   "cell_type": "code",
   "execution_count": 15,
   "metadata": {
    "collapsed": true
   },
   "outputs": [],
   "source": [
    "path = \"/Users/benchristensen/Desktop/Recommneder_System_Project/ml-20m/\"\n",
    "ratings = pd.read_csv(path + \"ratings.csv\", nrows = 10000)\n",
    "#Generate user-movie matrix with ratings as its values\n",
    "user_c = CategoricalDtype(sorted(ratings.userId.unique()), ordered=True)\n",
    "movie_c = CategoricalDtype(sorted(ratings.movieId.unique()), ordered=True)\n",
    "\n",
    "row = ratings.userId.astype(user_c).cat.codes\n",
    "col = ratings.movieId.astype(movie_c).cat.codes\n",
    "sparse_matrix = csr_matrix((ratings['rating'], (row, col)), \\\n",
    "                           shape=(user_c.categories.size, movie_c.categories.size))\n",
    "#Create sparse dataframe from user-movie matrix\n",
    "dfs = pd.SparseDataFrame(sparse_matrix, \\\n",
    "                         index=user_c.categories, \\\n",
    "                         columns=movie_c.categories) #,\n",
    "                         #default_fill_value=2.5)"
   ]
  },
  {
   "cell_type": "markdown",
   "metadata": {},
   "source": [
    "Cosine Similarity:\n",
    "$$sim(u, v) = \\frac{\\sum_i{\\hat{r}_{ui}\\hat{r}_{vi}}}{\\sqrt{\\sum_i{\\hat{r}_{ui}^2}}\\sqrt{\\sum_i{\\hat{r}_{vi}^2}}}$$"
   ]
  },
  {
   "cell_type": "code",
   "execution_count": 16,
   "metadata": {
    "collapsed": true
   },
   "outputs": [],
   "source": [
    "def cosine_similarity(u, v):\n",
    "    \"\"\"\n",
    "    Find the cosine similarity between two users given their \n",
    "        movie ratings.\n",
    "        \n",
    "    Parameters:\n",
    "        u (Series): user 'u' movie ratings\n",
    "        v (Series): user 'v' movie ratings\n",
    "        \n",
    "    Returns:\n",
    "        (float): cosine similarity between u and v\n",
    "    \"\"\"\n",
    "    #Demean the ratings\n",
    "    #    then fill NaN values with 0\n",
    "    #    this penalizes not seeing the same movies\n",
    "    u_hat = (u-u.mean()).fillna(0)\n",
    "    v_hat = (v-v.mean()).fillna(0)\n",
    "    \n",
    "    return np.sum(u_hat*v_hat)/(np.sqrt(np.sum(u_hat**2))*np.sqrt(np.sum(v_hat**2)))\n",
    "    "
   ]
  },
  {
   "cell_type": "markdown",
   "metadata": {},
   "source": [
    "Prediction using cosine similarity (Pham et. al):\n",
    "\n",
    "$P_{i, j}:$ Prediction for user $i$'s rating of movie $j$\n",
    "\n",
    "$r_{k,j}:$ User $k$'s rating of movie $j$ (Equal to $\\bar{r}_k$ if user $k$ hasn't rated movie $j$)\n",
    "\n",
    "$\\bar{r}_i:$ User $i$'s average movie rating\n",
    "\n",
    "$w_{i,n}:$ Cosine similarity between user $i$ and user $k$\n",
    "\n",
    "$N_i:$ The set of user $i$'s neighbors\n",
    "\n",
    "$$P_{i,j} = \\bar{r}_i + \\frac{\\sum_{k\\in N}{(r_{k,j}-\\bar{r}_k)w_{i,k}}}{\\sum_{k\\in N}{\\mid w_{i,k}\\mid}}    $$\n"
   ]
  },
  {
   "cell_type": "code",
   "execution_count": 125,
   "metadata": {},
   "outputs": [],
   "source": [
    "def KNN_Predict(df, k):\n",
    "    \"\"\"\n",
    "    Peform K-Nearest Neighbors and use it to predict movie ratings\n",
    "    \n",
    "    Parameter:\n",
    "        df (Sparse DataFrame): user-movie rating sparse dataframe\n",
    "        k (int): Hyperparameter - the number of neighbors\n",
    "    \n",
    "    Returns:\n",
    "        df (DataFrame): New Dataframe with NaNs filled with predicted ratings\n",
    "        update_df (DataFrame): Dataframe for testing that includes predictions rather\n",
    "                              than any actual ratings.\n",
    "    \"\"\"\n",
    "    update_df = df.copy().to_dense()\n",
    "    for user_id in df.index:\n",
    "        user = df.loc[user_id]\n",
    "        #Find the cosine similarity for 'user' with every other user\n",
    "        similarities = df.apply(lambda row: cosine_similarity(row, user), axis=1)\n",
    "        similarity_df = pd.DataFrame(data={\"similarity\": similarities, \"idx\": similarities.index})\n",
    "        similarity_df.sort_values(\"similarity\", ascending = False, inplace=True)\n",
    "        #Find the k nearest neighbors\n",
    "        neighbors = similarity_df.iloc[1:k+1].idx.values\n",
    "        #Predict movie rating using eq. (4) from Pham et. al paper\n",
    "        predict = user.mean() + ((df.loc[neighbors] - df.loc[neighbors].mean(1).values.reshape((-1,1))) * similarity_df.iloc[1:k+1][\"similarity\"].values.values.reshape((-1,1))).sum()/similarity_df.iloc[1:k+1][\"similarity\"].abs().sum()  \n",
    "        update_df.loc[user_id] = predict\n",
    "    \n",
    "    df.update(update_df, overwrite=False)\n",
    "    return df, update_df"
   ]
  },
  {
   "cell_type": "code",
   "execution_count": 90,
   "metadata": {},
   "outputs": [],
   "source": [
    "df = dfs.copy()"
   ]
  },
  {
   "cell_type": "code",
   "execution_count": 126,
   "metadata": {},
   "outputs": [],
   "source": [
    "new, test = KNN_Predict(df, 5)"
   ]
  },
  {
   "cell_type": "code",
   "execution_count": 130,
   "metadata": {},
   "outputs": [
    {
     "name": "stdout",
     "output_type": "stream",
     "text": [
      "mean squared error: 94.4532967032967\n"
     ]
    }
   ],
   "source": [
    "mse = Test_KMeans(standardize(new), standardize(test))\n",
    "print(\"mean squared error:\", mse)"
   ]
  },
  {
   "cell_type": "code",
   "execution_count": 133,
   "metadata": {},
   "outputs": [
    {
     "name": "stdout",
     "output_type": "stream",
     "text": [
      "mean squared error: 91.78305731559963\n"
     ]
    }
   ],
   "source": [
    "mse = Test_KMeans(new, test)\n",
    "print(\"mean squared error:\", mse)"
   ]
  },
  {
   "cell_type": "markdown",
   "metadata": {},
   "source": [
    "## Selecting Hyperparameters"
   ]
  },
  {
   "cell_type": "code",
   "execution_count": null,
   "metadata": {
    "collapsed": true
   },
   "outputs": [],
   "source": []
  }
 ],
 "metadata": {
  "kernelspec": {
   "display_name": "Python 3",
   "language": "python",
   "name": "python3"
  },
  "language_info": {
   "codemirror_mode": {
    "name": "ipython",
    "version": 3
   },
   "file_extension": ".py",
   "mimetype": "text/x-python",
   "name": "python",
   "nbconvert_exporter": "python",
   "pygments_lexer": "ipython3",
   "version": "3.6.8"
  }
 },
 "nbformat": 4,
 "nbformat_minor": 2
}
