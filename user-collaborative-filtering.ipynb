{
 "cells": [
  {
   "cell_type": "markdown",
   "metadata": {},
   "source": [
    "## Movie Recommender System"
   ]
  },
  {
   "cell_type": "markdown",
   "metadata": {},
   "source": [
    "### KNNeighbors and KMeans"
   ]
  },
  {
   "cell_type": "code",
   "execution_count": 1,
   "metadata": {
    "collapsed": true
   },
   "outputs": [],
   "source": [
    "import pandas as pd\n",
    "from scipy import linalg as la\n",
    "import numpy as np\n",
    "from scipy.sparse import csr_matrix\n",
    "from pandas.api.types import CategoricalDtype\n",
    "from sklearn.neighbors import NearestNeighbors\n",
    "from sklearn.cluster import KMeans\n",
    "from scipy.sparse import linalg as spla"
   ]
  },
  {
   "cell_type": "code",
   "execution_count": 2,
   "metadata": {
    "collapsed": true
   },
   "outputs": [],
   "source": [
    "#Benjamin's path: path = \"/Users/Armen/Desktop/SpringDataProject/\"\n",
    "#Ben C's path:\n",
    "path = \"/Users/benchristensen/Desktop/Recommneder_System_Project/ml-20m/\"\n",
    "ratings = pd.read_csv(path + \"ratings.csv\", nrows = 10000)"
   ]
  },
  {
   "cell_type": "code",
   "execution_count": 3,
   "metadata": {
    "collapsed": true
   },
   "outputs": [],
   "source": [
    "#Create variable \"count\" for number of ratings for each movie\n",
    "ratings = ratings.merge(ratings.groupby(\"movieId\").size().reset_index(name='count'), how='right', on='movieId')"
   ]
  },
  {
   "cell_type": "code",
   "execution_count": 4,
   "metadata": {
    "collapsed": true
   },
   "outputs": [],
   "source": [
    "#Drop any movies that have 17 or fewer ratings\n",
    "ratings = ratings[ratings[\"count\"]>17].sort_values(['userId', 'movieId'])"
   ]
  },
  {
   "cell_type": "code",
   "execution_count": 5,
   "metadata": {
    "scrolled": true
   },
   "outputs": [
    {
     "data": {
      "text/plain": [
       "1.0"
      ]
     },
     "execution_count": 5,
     "metadata": {},
     "output_type": "execute_result"
    }
   ],
   "source": [
    "#Find the minimum number of movies reviewed by a user\n",
    "reviews_per_user = ratings.groupby(\"userId\").userId.apply(lambda x: len(x))\n",
    "reviews_per_user.describe().min()"
   ]
  },
  {
   "cell_type": "code",
   "execution_count": 6,
   "metadata": {
    "collapsed": true
   },
   "outputs": [],
   "source": [
    "#Generate user-movie matrix with ratings as its values\n",
    "user_c = CategoricalDtype(sorted(ratings.userId.unique()), ordered=True)\n",
    "movie_c = CategoricalDtype(sorted(ratings.movieId.unique()), ordered=True)\n",
    "\n",
    "row = ratings.userId.astype(user_c).cat.codes\n",
    "col = ratings.movieId.astype(movie_c).cat.codes\n",
    "sparse_matrix = csr_matrix((ratings['rating'], (row, col)), \\\n",
    "                           shape=(user_c.categories.size, movie_c.categories.size))\n",
    "\n"
   ]
  },
  {
   "cell_type": "code",
   "execution_count": null,
   "metadata": {},
   "outputs": [],
   "source": [
    "\"\"\"#Change to dense for viewing its data\n",
    "dense = sparse_matrix.todense()\n",
    "\"\"\""
   ]
  },
  {
   "cell_type": "code",
   "execution_count": null,
   "metadata": {
    "collapsed": true
   },
   "outputs": [],
   "source": [
    "#Initialize nearest neighbors model\n",
    "neigh = NearestNeighbors(n_neighbors=1000, algorithm='brute', metric='cosine')"
   ]
  },
  {
   "cell_type": "code",
   "execution_count": null,
   "metadata": {
    "collapsed": true
   },
   "outputs": [],
   "source": [
    "#Fit on the movie ratings we have\n",
    "model = neigh.fit(sparse_matrix)"
   ]
  },
  {
   "cell_type": "code",
   "execution_count": null,
   "metadata": {
    "collapsed": true
   },
   "outputs": [],
   "source": [
    "m = pd.read_csv(path + \"movies.csv\")"
   ]
  },
  {
   "cell_type": "code",
   "execution_count": null,
   "metadata": {},
   "outputs": [],
   "source": [
    "m.head()"
   ]
  },
  {
   "cell_type": "code",
   "execution_count": null,
   "metadata": {
    "collapsed": true
   },
   "outputs": [],
   "source": [
    "def movies_not_seen(df, user_id, matrix, movie_c):\n",
    "    \"\"\"\n",
    "    Determine what movies a user has not seen; \n",
    "    i.e. potential movies to recommend\n",
    "    \n",
    "    Parameters:\n",
    "        df (DataFrame): Dataframe of movies with their titles and genres\n",
    "        user_id (int): id for user we want to recommend something to\n",
    "        matrix (csr matrix): user-movie matrix of movie ratings\n",
    "        \n",
    "    Returns:\n",
    "        new (csr matrix): the columns of matrix corresponding to the movies\n",
    "                          that user_id hasn't seen\n",
    "        not_seen (list): the indices of the movies in the user-movie matrix\n",
    "                         that user_id hasn't seen\n",
    "    \"\"\"\n",
    "    #get the movies the user has seen\n",
    "    movieids_seen = df[df.userId == user_id].movieId.values\n",
    "    \n",
    "    #mask is the indices of the movies that userid has seen in the user-movie matrix\n",
    "    mask = []\n",
    "    for i, j in enumerate(movie_c.categories):\n",
    "        if j in df[df.userId == user_id].movieId.values:\n",
    "            mask.append(i)\n",
    "            \n",
    "    #use the mask to get the indices of the movies userid hasn't seen\n",
    "    not_seen = list(set(range(len(movie_c.categories))) - set(mask))\n",
    "    \n",
    "    #cut out the movies (columns) userid has seen from our matrix\n",
    "    new = matrix[:,not_seen]\n",
    "    \n",
    "    return new, not_seen\n",
    "\n",
    "def count_not_seen(df, movie_c, not_seen, indices):\n",
    "    \"\"\"\n",
    "    This function returns the number a times a movie not seen by the user was seen by the user's nearest neighbors\n",
    "    Input:\n",
    "    Output\n",
    "    \"\"\"\n",
    "    #find how many times each movie has been rated by the neighbors\n",
    "    ratings_count = []\n",
    "    #Loop through the movie_ids not seen by our user\n",
    "    for movie_id in np.array(movie_c.categories)[not_seen]:\n",
    "        count = 0\n",
    "        #Loop through the user_ids of our user's neighbor\n",
    "        for id_ in indices + 1:\n",
    "            #Check if the userId has rated the movie\n",
    "            if movie_id in df[df.userId == id_].movieId.values:\n",
    "                count += 1\n",
    "        ratings_count.append(count)\n",
    "    return np.array(ratings_count)\n",
    "\n",
    "def knn_recommend_movies(df, matrix, fitted_model, user_id, n, movie_c):\n",
    "    \"\"\"\n",
    "    This function uses the K-nearest neighbors algorithm to suggest a movie for the user to watch.\n",
    "    \n",
    "    Inputs:\n",
    "    df: sparse dataframe containing user and movie information. Contains columns user_id, movie_id, rating\n",
    "    matrix: sparse matrix containing user_id on the y axis and movie_id on the x_axis, with the rating for each movie in the rows\n",
    "    fitted_model: the type on model we run this clustering method on  \n",
    "    user_id: the user we want to recommend a movie for\n",
    "    n: number of movies to recommend (MAY NOT USE_ CHECK BEFORE FINAL)\n",
    "    \n",
    "    Outputs: \n",
    "    movie_id, title. The id number and title of the recommended movie\n",
    "    \"\"\"\n",
    "    alpha=1      #we recommend 1 movie \n",
    "    new, not_seen = movies_not_seen(df, user_id, matrix, movie_c)\n",
    "    \n",
    "    #Initialize nearest neighbors model\n",
    "    neigh = NearestNeighbors(n_neighbors=1000, algorithm='brute', metric='cosine')\n",
    "    #Fit on the movie ratings we have\n",
    "    model = neigh.fit(sparse_matrix)\n",
    "    \n",
    "    #get the indices for nearest neighbors of userId\n",
    "    indices = fitted_model.kneighbors(matrix[user_id-1], 3)[1][0]\n",
    "    \n",
    "    #neighbors is the actual rows of the matrix with each neighbors ratings\n",
    "    neighbors = new[indices].todense()\n",
    "\n",
    "    #find how many times each movie has been rated by the neighbors\n",
    "    ratings_count = count_not_seen(df, movie_c, not_seen, indices)\n",
    "    \n",
    "    #Choose the movie to recommend (weight frequently-seen-movies higher)\n",
    "    position = np.argmax(np.mean(neighbors - 2.5, axis=0)*alpha*ratings_count.reshape((-1,1)))\n",
    "    \n",
    "    #get the movieid from the matrix column value\n",
    "    movie_id = np.array(movie_c.categories)[not_seen][position]\n",
    "    print('movie_id',movie_id)\n",
    "    return movie_id, m[m.movieId == movie_id].title"
   ]
  },
  {
   "cell_type": "code",
   "execution_count": null,
   "metadata": {
    "scrolled": false
   },
   "outputs": [],
   "source": [
    "#FIXME: SPARSE MATRIX IS FILLED WITH 0 NOT 2.5\n",
    "print(knn_recommend_movies(df, sparse_matrix, model, 12, 1, movie_c))"
   ]
  },
  {
   "cell_type": "code",
   "execution_count": null,
   "metadata": {
    "collapsed": true
   },
   "outputs": [],
   "source": [
    "x = np.array([[1,1,.5],\n",
    "        [1,6,2],\n",
    "        [2,7,4],\n",
    "        [3,2,4.5],\n",
    "        [3,3,3],\n",
    "        [3,4,1],\n",
    "        [4,1,2],\n",
    "        [5,4,1.5],\n",
    "        [6,3,5],\n",
    "        [7,10,4.5],\n",
    "        [8,5,4.5],\n",
    "        [9,8,.5],\n",
    "        [9,9,1.5],\n",
    "        [10,3,3.5]])\n",
    "df = pd.DataFrame(x,columns=['userId','movieId','rating'])\n",
    "\n",
    "user_c = CategoricalDtype(sorted(df.userId.unique()), ordered=True)\n",
    "movie_c = CategoricalDtype(sorted(df.movieId.unique()), ordered=True)\n",
    "\n",
    "row = df.userId.astype(user_c).cat.codes\n",
    "col = df.movieId.astype(movie_c).cat.codes\n",
    "sparse_matrix = csr_matrix((df['rating'], (row, col)), \\\n",
    "                           shape=(user_c.categories.size, movie_c.categories.size))\n",
    "\n",
    "dense = sparse_matrix.todense()"
   ]
  },
  {
   "cell_type": "code",
   "execution_count": null,
   "metadata": {
    "collapsed": true
   },
   "outputs": [],
   "source": [
    "def model(avg_rating, score_from_model, recommend = False):\n",
    "    recommended_score = avg_rating + score_from_model\n",
    "    if recommended_score >= 3.5:\n",
    "        recommend = True\n",
    "    pass"
   ]
  },
  {
   "cell_type": "code",
   "execution_count": null,
   "metadata": {
    "collapsed": true
   },
   "outputs": [],
   "source": [
    "def knn_recommend_movies_old(df, matrix, fitted_model, user_id, n):\n",
    "    \"\"\"\n",
    "    This function uses the K-nearest neighbors algorithm to suggest a movie for the user to watch.\n",
    "    \n",
    "    Inputs:\n",
    "    df: sparse dataframe containing user and movie information. Contains columns user_id, movie_id, rating\n",
    "    matrix: sparse matrix containing user_id on the y axis and movie_id on the x_axis, with the rating for each movie in the rows\n",
    "    fitted_model: the type on model we run this clustering method on  \n",
    "    user_id: the user we want to recommend a movie for\n",
    "    n: number of movies to recommend (MAY NOT USE_ CHECK BEFORE FINAL)\n",
    "    \n",
    "    Outputs: \n",
    "    movie_id, title. The id number and title of the recommended movie\n",
    "    \"\"\"\n",
    "    alpha=1\n",
    "    movieids_seen = df[df.userId == user_id].movieId.values\n",
    "    #mask is the indices of the movies that userid has seen in the user-movie matrix\n",
    "    mask = []\n",
    "    for i, j in enumerate(movie_c.categories):\n",
    "        if j in df[df.userId == user_id].movieId.values:\n",
    "            mask.append(i)\n",
    "    #use the mask to get the indices of the movies userid hasn't seen\n",
    "    not_seen = list(set(range(len(movie_c.categories))) - set(mask))\n",
    "    #cut out the movies (columns) userid has seen from our matrix\n",
    "    new = matrix[:,not_seen]\n",
    "    #get the indices for nearest neighbors of userId\n",
    "    indices = fitted_model.kneighbors(matrix[user_id-1], 3)[1][0]\n",
    "    #neighbors is the actual rows of the matrix with each neighbors ratings\n",
    "    neighbors = new[indices].todense()\n",
    "    #find how many times each movie has been rated by the neighbors\n",
    "    neigh_movies = []\n",
    "\n",
    "    #find how many times each movie has been rated by the neighbors\n",
    "    ratings_count = []\n",
    "    #Loop through the movie_ids not seen by our user\n",
    "    for movie_id in np.array(movie_c.categories)[not_seen]:\n",
    "        count = 0\n",
    "        #Loop through the user_ids of our user's neighbor\n",
    "        for id_ in indices + 1:\n",
    "            #Check if the userId has rated the movie\n",
    "            if movie_id in df[df.userId == id_].movieId.values:\n",
    "                count += 1\n",
    "        ratings_count.append(count)\n",
    "    ratings_count = np.array(ratings_count)\n",
    "    #Choose the movie to recommend (weight frequently-seen-movies higher)\n",
    "    position = np.argmax(np.mean(neighbors - 2.5, axis=0)*alpha*ratings_count.reshape((-1,1)))\n",
    "    #get the movieid from the matrix column value\n",
    "    movie_id = np.array(movie_c.categories)[not_seen][position]\n",
    "    print('movie_id',movie_id)\n",
    "    return movie_id, m[m.movieId == movie_id].title\n",
    "\n",
    "print(knn_recommend_movies_old(df, sparse_matrix, model, 12, 1))"
   ]
  },
  {
   "cell_type": "code",
   "execution_count": null,
   "metadata": {
    "collapsed": true
   },
   "outputs": [],
   "source": []
  },
  {
   "cell_type": "markdown",
   "metadata": {},
   "source": [
    "## inherit from sklearn?\n",
    " - Scoring Accuracy:\n",
    " - predict for every movie of the user (binary recommend/do not recommend)\n",
    " - that will be your 'x test'\n",
    " - create a 'y test' that gives if the user liked each movie or not\n",
    " - percent correctly predicted."
   ]
  },
  {
   "cell_type": "markdown",
   "metadata": {},
   "source": [
    "## KMeans - Clustering Users"
   ]
  },
  {
   "cell_type": "code",
   "execution_count": 7,
   "metadata": {
    "collapsed": true
   },
   "outputs": [],
   "source": [
    "#Create sparse dataframe from user-movie matrix\n",
    "dfs = pd.SparseDataFrame(sparse_matrix, \\\n",
    "                         index=user_c.categories, \\\n",
    "                         columns=movie_c.categories) #,\n",
    "                         #default_fill_value=2.5)"
   ]
  },
  {
   "cell_type": "code",
   "execution_count": 8,
   "metadata": {
    "scrolled": true
   },
   "outputs": [
    {
     "data": {
      "text/plain": [
       "array([4, 4, 3, 2, 1, 2, 4, 1, 2, 2, 3, 2, 1, 4, 2, 2, 2, 2, 2, 2, 0, 0,\n",
       "       0, 3, 0, 1, 2, 2, 1, 2, 4, 1, 2, 1, 0, 2, 2, 2, 2, 4, 2, 2, 2, 2,\n",
       "       2, 0, 2, 0, 0, 2, 0, 3, 4, 0, 2, 3, 2, 2, 2, 2, 2, 1, 2, 2, 4, 2,\n",
       "       3, 0, 2, 0, 0, 2, 1, 4, 4, 4, 2, 2, 2, 0, 2, 1, 2, 2, 2, 2, 2, 1,\n",
       "       3], dtype=int32)"
      ]
     },
     "execution_count": 8,
     "metadata": {},
     "output_type": "execute_result"
    }
   ],
   "source": [
    "#Initialize KMeans model\n",
    "##Kmeans can't be performed in SciKitLearn on data with missing values\n",
    "##So we fill NA with 2.5 to find the clusters\n",
    "KM_model = KMeans(n_clusters=5).fit(dfs.fillna(2.5))\n",
    "KM_model.labels_\n"
   ]
  },
  {
   "cell_type": "code",
   "execution_count": 176,
   "metadata": {},
   "outputs": [
    {
     "data": {
      "text/plain": [
       "17"
      ]
     },
     "execution_count": 176,
     "metadata": {},
     "output_type": "execute_result"
    }
   ],
   "source": [
    "np.argmax((dfs.mean(0).values - 2.5)*(dfs.notnull().sum().values))"
   ]
  },
  {
   "cell_type": "code",
   "execution_count": 177,
   "metadata": {},
   "outputs": [
    {
     "data": {
      "text/plain": [
       "44"
      ]
     },
     "execution_count": 177,
     "metadata": {},
     "output_type": "execute_result"
    }
   ],
   "source": [
    "np.argmax(dfs.mean(0).values)"
   ]
  },
  {
   "cell_type": "code",
   "execution_count": 188,
   "metadata": {},
   "outputs": [
    {
     "data": {
      "text/plain": [
       "array([[2.92857143, 2.75      , 3.25      , 2.75      , 3.67857143,\n",
       "        4.21428571, 3.78571429, 3.42857143, 2.85714286, 2.53571429,\n",
       "        2.5       , 2.5       , 2.60714286, 2.75      , 2.85714286,\n",
       "        4.60714286, 2.39285714, 4.39285714, 2.28571429, 2.5       ,\n",
       "        2.67857143, 3.10714286, 2.60714286, 2.60714286, 2.57142857,\n",
       "        2.71428571, 2.64285714, 2.67857143, 2.78571429, 3.67857143,\n",
       "        3.17857143, 2.67857143, 2.5       , 3.17857143, 3.10714286,\n",
       "        2.78571429, 4.07142857, 2.71428571, 2.60714286, 3.92857143,\n",
       "        2.75      , 2.57142857, 2.35714286, 2.5       , 3.5       ,\n",
       "        3.35714286, 2.60714286, 3.39285714, 3.        , 3.21428571,\n",
       "        3.35714286, 2.82142857, 3.42857143, 2.89285714, 3.57142857,\n",
       "        3.10714286, 3.14285714, 3.03571429, 3.14285714, 2.82142857,\n",
       "        2.92857143, 2.96428571, 3.17857143, 3.14285714, 3.28571429,\n",
       "        3.10714286, 2.82142857, 3.39285714, 3.64285714, 3.07142857,\n",
       "        3.07142857, 2.85714286, 2.85714286, 2.78571429],\n",
       "       [3.31818182, 3.09090909, 2.90909091, 2.95454545, 3.68181818,\n",
       "        3.09090909, 3.77272727, 2.5       , 4.5       , 3.31818182,\n",
       "        3.31818182, 3.27272727, 2.59090909, 3.77272727, 2.95454545,\n",
       "        3.81818182, 3.31818182, 4.22727273, 3.36363636, 3.04545455,\n",
       "        2.95454545, 4.27272727, 3.63636364, 3.5       , 3.72727273,\n",
       "        3.81818182, 4.22727273, 4.        , 3.81818182, 3.59090909,\n",
       "        2.5       , 3.18181818, 3.40909091, 4.22727273, 4.13636364,\n",
       "        3.5       , 3.5       , 3.86363636, 3.31818182, 2.68181818,\n",
       "        3.18181818, 3.40909091, 3.5       , 3.13636364, 2.5       ,\n",
       "        2.5       , 2.45454545, 2.72727273, 2.72727273, 2.81818182,\n",
       "        2.5       , 2.72727273, 2.5       , 2.86363636, 2.5       ,\n",
       "        2.5       , 2.5       , 2.5       , 2.5       , 2.86363636,\n",
       "        2.59090909, 2.5       , 2.54545455, 2.5       , 2.68181818,\n",
       "        2.45454545, 2.63636364, 2.63636364, 2.72727273, 2.45454545,\n",
       "        2.59090909, 2.68181818, 2.5       , 2.5       ],\n",
       "       [2.79347826, 2.59782609, 2.51086957, 2.60869565, 2.63043478,\n",
       "        2.72826087, 2.70652174, 2.70652174, 2.63043478, 2.48913043,\n",
       "        2.5326087 , 2.5       , 2.52173913, 2.54347826, 2.80434783,\n",
       "        2.90217391, 2.51086957, 2.97826087, 2.52173913, 2.55434783,\n",
       "        2.47826087, 3.13043478, 2.72826087, 2.4673913 , 2.61956522,\n",
       "        2.55434783, 2.69565217, 2.75      , 2.52173913, 2.94565217,\n",
       "        2.5326087 , 2.59782609, 2.64130435, 2.63043478, 2.68478261,\n",
       "        2.51086957, 2.85869565, 2.61956522, 2.54347826, 3.0326087 ,\n",
       "        2.67391304, 2.68478261, 2.52173913, 2.65217391, 2.95652174,\n",
       "        2.5326087 , 2.61956522, 2.56521739, 2.75      , 2.65217391,\n",
       "        2.88043478, 2.76086957, 2.73913043, 2.69565217, 2.64130435,\n",
       "        2.57608696, 2.56521739, 2.69565217, 2.63043478, 2.59782609,\n",
       "        2.63043478, 2.65217391, 2.67391304, 2.79347826, 2.68478261,\n",
       "        2.7173913 , 2.56521739, 2.67391304, 2.90217391, 2.83695652,\n",
       "        2.79347826, 2.69565217, 2.83695652, 2.76086957],\n",
       "       [4.21428571, 3.14285714, 4.57142857, 2.71428571, 3.85714286,\n",
       "        4.14285714, 4.07142857, 3.14285714, 3.21428571, 3.        ,\n",
       "        4.        , 2.78571429, 3.14285714, 3.78571429, 4.42857143,\n",
       "        4.07142857, 3.5       , 4.71428571, 3.28571429, 2.85714286,\n",
       "        3.        , 4.28571429, 3.21428571, 3.57142857, 3.42857143,\n",
       "        3.78571429, 4.28571429, 4.21428571, 3.42857143, 3.78571429,\n",
       "        3.64285714, 3.64285714, 3.28571429, 4.28571429, 3.71428571,\n",
       "        3.57142857, 4.42857143, 2.85714286, 3.07142857, 3.5       ,\n",
       "        3.28571429, 3.5       , 3.42857143, 3.71428571, 3.92857143,\n",
       "        3.14285714, 3.71428571, 4.07142857, 3.78571429, 4.5       ,\n",
       "        4.21428571, 4.35714286, 3.64285714, 4.21428571, 3.92857143,\n",
       "        4.57142857, 3.42857143, 3.5       , 4.07142857, 3.85714286,\n",
       "        3.78571429, 3.5       , 3.35714286, 4.35714286, 3.42857143,\n",
       "        4.42857143, 3.28571429, 4.14285714, 4.14285714, 3.5       ,\n",
       "        3.35714286, 3.        , 3.21428571, 3.21428571],\n",
       "       [2.72727273, 2.5       , 2.68181818, 2.54545455, 2.72727273,\n",
       "        2.59090909, 3.31818182, 2.63636364, 2.72727273, 2.5       ,\n",
       "        2.5       , 2.5       , 2.5       , 2.63636364, 4.5       ,\n",
       "        2.81818182, 2.59090909, 2.63636364, 2.5       , 2.72727273,\n",
       "        2.45454545, 2.77272727, 2.86363636, 2.59090909, 2.54545455,\n",
       "        2.68181818, 2.72727273, 3.5       , 2.45454545, 2.31818182,\n",
       "        3.72727273, 2.72727273, 2.77272727, 3.18181818, 2.86363636,\n",
       "        2.5       , 2.81818182, 2.68181818, 2.63636364, 2.5       ,\n",
       "        2.5       , 2.72727273, 2.54545455, 2.68181818, 2.72727273,\n",
       "        3.31818182, 2.81818182, 3.13636364, 2.95454545, 4.5       ,\n",
       "        3.13636364, 3.59090909, 2.81818182, 4.13636364, 2.5       ,\n",
       "        2.95454545, 3.22727273, 2.86363636, 3.13636364, 3.13636364,\n",
       "        3.13636364, 2.90909091, 2.54545455, 3.09090909, 2.68181818,\n",
       "        3.22727273, 3.04545455, 2.86363636, 2.81818182, 2.72727273,\n",
       "        3.        , 3.09090909, 3.27272727, 3.31818182]])"
      ]
     },
     "execution_count": 188,
     "metadata": {},
     "output_type": "execute_result"
    }
   ],
   "source": [
    "KM_model.cluster_centers_"
   ]
  },
  {
   "cell_type": "code",
   "execution_count": 381,
   "metadata": {
    "collapsed": true
   },
   "outputs": [],
   "source": [
    "def KMeans_Test(model, df, n, alpha=1.):\n",
    "    \"\"\"\n",
    "    Test the accuracy of a fitted KMeans clustering model.\n",
    "        To do this we randomly select n movies. For each of these movies\n",
    "        we replace every non-NAN entry to NAN, then predict the new ratings \n",
    "        as the averages of the non-NAN ratings in their KMeans clusters. \n",
    "        Then compare these predicted ratings with the actual ratings. \n",
    "        Currently using the sum of squared residuals. \n",
    "        Change to softmax loss function??\n",
    "    \n",
    "    Parameters:\n",
    "        model (KMeans): The fitted model\n",
    "        df (DataFrame): The sparse dataframe including NANs that the\n",
    "                        model was trained on\n",
    "        n (int): The number of movies to test on\n",
    "        alpha (float): hyperparameter\n",
    "    \n",
    "    Returns:\n",
    "        score (float): The accuracy of the KMeans clustering\n",
    "        predictions (list): A flattened list of all predictions made\n",
    "        actual (list): A flattened list of all the true ratings\n",
    "    \"\"\"\n",
    "    labels = model.labels_\n",
    "    #Choose indices for the n random movies\n",
    "    movie_ids = df.iloc[:,np.random.randint(0, df.shape[1], 5)].columns.values#This has been changed from: np.random.randint(0, df.shape[1], n)\n",
    "    actual, predictions = np.array([]), list()\n",
    "    for m_id in movie_ids:\n",
    "        #Find the users that have rated the m_id movie\n",
    "        m_rated_mask = df.loc[:,m_id].notnull().values.values\n",
    "        user_ids = df.iloc[m_rated_mask].index.values\n",
    "        #Grab the ratings and store them in the flattened actual list\n",
    "        actual = np.concatenate((actual,df.iloc[m_rated_mask].loc[:,m_id].values.values))\n",
    "        #Find the clusters for each user (df index starts at 1)\n",
    "        clusters = labels[m_rated_mask]\n",
    "        #Calculate the predicted ratings as the average of the ratings\n",
    "        ##of the other users in their clusters. This is different than using the \n",
    "        ##cluster centers because the cluster centers used a dataframe with 2.5\n",
    "        ##filled in for every NaN value\n",
    "        for i, user_id in enumerate(user_ids):\n",
    "            #Remove the user_id from the dataframe for cluster comparisons\n",
    "            temp_df = df[df.index != user_id].copy()\n",
    "            temp_labels = np.delete(labels, np.where(m_rated_mask)[0][i])\n",
    "            neighbor_ratings = temp_df.iloc[temp_labels == clusters[i]].loc[:,m_id]\n",
    "            neighbor_avgs = temp_df.iloc[temp_labels == clusters[i]].mean(1)\n",
    "            user_avg = df.loc[user_id].mean()\n",
    "            #Calculate the number of ratings this user's neighbors have given\n",
    "            ##for every movie that this user hasn't seen\n",
    "            #within_cluster_index = np.where(df.iloc[labels==clusters[i]].columns.values == m_id)[0][0]\n",
    "            #not_seen = np.concatenate((df.iloc[labels==clusters[i]].iloc[i].isnull().values,[within_cluster_index]))\n",
    "            num_ratings = temp_df.iloc[temp_labels == clusters[i]].iloc[:,df.loc[user_id].isnull().values].notnull().sum()\n",
    "            total = num_ratings.sum()\n",
    "            try:\n",
    "                share = (num_ratings/total).loc[m_id]\n",
    "            except:\n",
    "                print(\"Movie ID:\", m_id)\n",
    "                print(\"User ID:\", user_id)\n",
    "                print(\"cluster:\", cluster)\n",
    "                print('i:', i)\n",
    "                print(\"Num_ratings:\", num_ratings, sep=\"\\n\")\n",
    "                raise\n",
    "            predictions.append(round(2*(user_avg + np.mean(neighbor_ratings - neighbor_avgs)*alpha*share))/2)\n",
    "            print(\"worked\")\n",
    "    \n",
    "    return np.sum((np.array(predictions) - actual)**2), predictions, actual"
   ]
  },
  {
   "cell_type": "code",
   "execution_count": 376,
   "metadata": {},
   "outputs": [],
   "source": [
    "m_id, user_id, i = 736, 5, 0"
   ]
  },
  {
   "cell_type": "code",
   "execution_count": 375,
   "metadata": {
    "collapsed": true
   },
   "outputs": [],
   "source": [
    "cluster = 3"
   ]
  },
  {
   "cell_type": "code",
   "execution_count": 378,
   "metadata": {},
   "outputs": [
    {
     "ename": "IndexError",
     "evalue": "indices are out-of-bounds",
     "output_type": "error",
     "traceback": [
      "\u001b[0;31m---------------------------------------------------------------------------\u001b[0m",
      "\u001b[0;31mIndexError\u001b[0m                                Traceback (most recent call last)",
      "\u001b[0;32m/anaconda/lib/python3.6/site-packages/pandas/core/indexing.py\u001b[0m in \u001b[0;36m_getbool_axis\u001b[0;34m(self, key, axis)\u001b[0m\n\u001b[1;32m   1517\u001b[0m         \u001b[0;32mtry\u001b[0m\u001b[0;34m:\u001b[0m\u001b[0;34m\u001b[0m\u001b[0;34m\u001b[0m\u001b[0m\n\u001b[0;32m-> 1518\u001b[0;31m             \u001b[0;32mreturn\u001b[0m \u001b[0mself\u001b[0m\u001b[0;34m.\u001b[0m\u001b[0mobj\u001b[0m\u001b[0;34m.\u001b[0m\u001b[0m_take\u001b[0m\u001b[0;34m(\u001b[0m\u001b[0minds\u001b[0m\u001b[0;34m,\u001b[0m \u001b[0maxis\u001b[0m\u001b[0;34m=\u001b[0m\u001b[0maxis\u001b[0m\u001b[0;34m)\u001b[0m\u001b[0;34m\u001b[0m\u001b[0;34m\u001b[0m\u001b[0m\n\u001b[0m\u001b[1;32m   1519\u001b[0m         \u001b[0;32mexcept\u001b[0m \u001b[0mException\u001b[0m \u001b[0;32mas\u001b[0m \u001b[0mdetail\u001b[0m\u001b[0;34m:\u001b[0m\u001b[0;34m\u001b[0m\u001b[0;34m\u001b[0m\u001b[0m\n",
      "\u001b[0;32m/anaconda/lib/python3.6/site-packages/pandas/core/generic.py\u001b[0m in \u001b[0;36m_take\u001b[0;34m(self, indices, axis, is_copy)\u001b[0m\n\u001b[1;32m   3358\u001b[0m                                    \u001b[0maxis\u001b[0m\u001b[0;34m=\u001b[0m\u001b[0mself\u001b[0m\u001b[0;34m.\u001b[0m\u001b[0m_get_block_manager_axis\u001b[0m\u001b[0;34m(\u001b[0m\u001b[0maxis\u001b[0m\u001b[0;34m)\u001b[0m\u001b[0;34m,\u001b[0m\u001b[0;34m\u001b[0m\u001b[0;34m\u001b[0m\u001b[0m\n\u001b[0;32m-> 3359\u001b[0;31m                                    verify=True)\n\u001b[0m\u001b[1;32m   3360\u001b[0m         \u001b[0mresult\u001b[0m \u001b[0;34m=\u001b[0m \u001b[0mself\u001b[0m\u001b[0;34m.\u001b[0m\u001b[0m_constructor\u001b[0m\u001b[0;34m(\u001b[0m\u001b[0mnew_data\u001b[0m\u001b[0;34m)\u001b[0m\u001b[0;34m.\u001b[0m\u001b[0m__finalize__\u001b[0m\u001b[0;34m(\u001b[0m\u001b[0mself\u001b[0m\u001b[0;34m)\u001b[0m\u001b[0;34m\u001b[0m\u001b[0;34m\u001b[0m\u001b[0m\n",
      "\u001b[0;32m/anaconda/lib/python3.6/site-packages/pandas/core/internals/managers.py\u001b[0m in \u001b[0;36mtake\u001b[0;34m(self, indexer, axis, verify, convert)\u001b[0m\n\u001b[1;32m   1340\u001b[0m         \u001b[0;32mif\u001b[0m \u001b[0mconvert\u001b[0m\u001b[0;34m:\u001b[0m\u001b[0;34m\u001b[0m\u001b[0;34m\u001b[0m\u001b[0m\n\u001b[0;32m-> 1341\u001b[0;31m             \u001b[0mindexer\u001b[0m \u001b[0;34m=\u001b[0m \u001b[0mmaybe_convert_indices\u001b[0m\u001b[0;34m(\u001b[0m\u001b[0mindexer\u001b[0m\u001b[0;34m,\u001b[0m \u001b[0mn\u001b[0m\u001b[0;34m)\u001b[0m\u001b[0;34m\u001b[0m\u001b[0;34m\u001b[0m\u001b[0m\n\u001b[0m\u001b[1;32m   1342\u001b[0m \u001b[0;34m\u001b[0m\u001b[0m\n",
      "\u001b[0;32m/anaconda/lib/python3.6/site-packages/pandas/core/indexing.py\u001b[0m in \u001b[0;36mmaybe_convert_indices\u001b[0;34m(indices, n)\u001b[0m\n\u001b[1;32m   2614\u001b[0m     \u001b[0;32mif\u001b[0m \u001b[0mmask\u001b[0m\u001b[0;34m.\u001b[0m\u001b[0many\u001b[0m\u001b[0;34m(\u001b[0m\u001b[0;34m)\u001b[0m\u001b[0;34m:\u001b[0m\u001b[0;34m\u001b[0m\u001b[0;34m\u001b[0m\u001b[0m\n\u001b[0;32m-> 2615\u001b[0;31m         \u001b[0;32mraise\u001b[0m \u001b[0mIndexError\u001b[0m\u001b[0;34m(\u001b[0m\u001b[0;34m\"indices are out-of-bounds\"\u001b[0m\u001b[0;34m)\u001b[0m\u001b[0;34m\u001b[0m\u001b[0;34m\u001b[0m\u001b[0m\n\u001b[0m\u001b[1;32m   2616\u001b[0m     \u001b[0;32mreturn\u001b[0m \u001b[0mindices\u001b[0m\u001b[0;34m\u001b[0m\u001b[0;34m\u001b[0m\u001b[0m\n",
      "\u001b[0;31mIndexError\u001b[0m: indices are out-of-bounds",
      "\nDuring handling of the above exception, another exception occurred:\n",
      "\u001b[0;31mIndexError\u001b[0m                                Traceback (most recent call last)",
      "\u001b[0;32m<ipython-input-378-dfde2985d996>\u001b[0m in \u001b[0;36m<module>\u001b[0;34m()\u001b[0m\n\u001b[0;32m----> 1\u001b[0;31m \u001b[0mtemp_df\u001b[0m\u001b[0;34m.\u001b[0m\u001b[0miloc\u001b[0m\u001b[0;34m[\u001b[0m\u001b[0mlabels\u001b[0m \u001b[0;34m==\u001b[0m \u001b[0mcluster\u001b[0m\u001b[0;34m]\u001b[0m\u001b[0;31m#.iloc[:,df.loc[user_id].isnull().values].notnull().sum()\u001b[0m\u001b[0;34m\u001b[0m\u001b[0;34m\u001b[0m\u001b[0m\n\u001b[0m",
      "\u001b[0;32m/anaconda/lib/python3.6/site-packages/pandas/core/indexing.py\u001b[0m in \u001b[0;36m__getitem__\u001b[0;34m(self, key)\u001b[0m\n\u001b[1;32m   1498\u001b[0m \u001b[0;34m\u001b[0m\u001b[0m\n\u001b[1;32m   1499\u001b[0m             \u001b[0mmaybe_callable\u001b[0m \u001b[0;34m=\u001b[0m \u001b[0mcom\u001b[0m\u001b[0;34m.\u001b[0m\u001b[0mapply_if_callable\u001b[0m\u001b[0;34m(\u001b[0m\u001b[0mkey\u001b[0m\u001b[0;34m,\u001b[0m \u001b[0mself\u001b[0m\u001b[0;34m.\u001b[0m\u001b[0mobj\u001b[0m\u001b[0;34m)\u001b[0m\u001b[0;34m\u001b[0m\u001b[0;34m\u001b[0m\u001b[0m\n\u001b[0;32m-> 1500\u001b[0;31m             \u001b[0;32mreturn\u001b[0m \u001b[0mself\u001b[0m\u001b[0;34m.\u001b[0m\u001b[0m_getitem_axis\u001b[0m\u001b[0;34m(\u001b[0m\u001b[0mmaybe_callable\u001b[0m\u001b[0;34m,\u001b[0m \u001b[0maxis\u001b[0m\u001b[0;34m=\u001b[0m\u001b[0maxis\u001b[0m\u001b[0;34m)\u001b[0m\u001b[0;34m\u001b[0m\u001b[0;34m\u001b[0m\u001b[0m\n\u001b[0m\u001b[1;32m   1501\u001b[0m \u001b[0;34m\u001b[0m\u001b[0m\n\u001b[1;32m   1502\u001b[0m     \u001b[0;32mdef\u001b[0m \u001b[0m_is_scalar_access\u001b[0m\u001b[0;34m(\u001b[0m\u001b[0mself\u001b[0m\u001b[0;34m,\u001b[0m \u001b[0mkey\u001b[0m\u001b[0;34m)\u001b[0m\u001b[0;34m:\u001b[0m\u001b[0;34m\u001b[0m\u001b[0;34m\u001b[0m\u001b[0m\n",
      "\u001b[0;32m/anaconda/lib/python3.6/site-packages/pandas/core/indexing.py\u001b[0m in \u001b[0;36m_getitem_axis\u001b[0;34m(self, key, axis)\u001b[0m\n\u001b[1;32m   2215\u001b[0m         \u001b[0;32mif\u001b[0m \u001b[0mcom\u001b[0m\u001b[0;34m.\u001b[0m\u001b[0mis_bool_indexer\u001b[0m\u001b[0;34m(\u001b[0m\u001b[0mkey\u001b[0m\u001b[0;34m)\u001b[0m\u001b[0;34m:\u001b[0m\u001b[0;34m\u001b[0m\u001b[0;34m\u001b[0m\u001b[0m\n\u001b[1;32m   2216\u001b[0m             \u001b[0mself\u001b[0m\u001b[0;34m.\u001b[0m\u001b[0m_validate_key\u001b[0m\u001b[0;34m(\u001b[0m\u001b[0mkey\u001b[0m\u001b[0;34m,\u001b[0m \u001b[0maxis\u001b[0m\u001b[0;34m)\u001b[0m\u001b[0;34m\u001b[0m\u001b[0;34m\u001b[0m\u001b[0m\n\u001b[0;32m-> 2217\u001b[0;31m             \u001b[0;32mreturn\u001b[0m \u001b[0mself\u001b[0m\u001b[0;34m.\u001b[0m\u001b[0m_getbool_axis\u001b[0m\u001b[0;34m(\u001b[0m\u001b[0mkey\u001b[0m\u001b[0;34m,\u001b[0m \u001b[0maxis\u001b[0m\u001b[0;34m=\u001b[0m\u001b[0maxis\u001b[0m\u001b[0;34m)\u001b[0m\u001b[0;34m\u001b[0m\u001b[0;34m\u001b[0m\u001b[0m\n\u001b[0m\u001b[1;32m   2218\u001b[0m \u001b[0;34m\u001b[0m\u001b[0m\n\u001b[1;32m   2219\u001b[0m         \u001b[0;31m# a list of integers\u001b[0m\u001b[0;34m\u001b[0m\u001b[0;34m\u001b[0m\u001b[0;34m\u001b[0m\u001b[0m\n",
      "\u001b[0;32m/anaconda/lib/python3.6/site-packages/pandas/core/indexing.py\u001b[0m in \u001b[0;36m_getbool_axis\u001b[0;34m(self, key, axis)\u001b[0m\n\u001b[1;32m   1518\u001b[0m             \u001b[0;32mreturn\u001b[0m \u001b[0mself\u001b[0m\u001b[0;34m.\u001b[0m\u001b[0mobj\u001b[0m\u001b[0;34m.\u001b[0m\u001b[0m_take\u001b[0m\u001b[0;34m(\u001b[0m\u001b[0minds\u001b[0m\u001b[0;34m,\u001b[0m \u001b[0maxis\u001b[0m\u001b[0;34m=\u001b[0m\u001b[0maxis\u001b[0m\u001b[0;34m)\u001b[0m\u001b[0;34m\u001b[0m\u001b[0;34m\u001b[0m\u001b[0m\n\u001b[1;32m   1519\u001b[0m         \u001b[0;32mexcept\u001b[0m \u001b[0mException\u001b[0m \u001b[0;32mas\u001b[0m \u001b[0mdetail\u001b[0m\u001b[0;34m:\u001b[0m\u001b[0;34m\u001b[0m\u001b[0;34m\u001b[0m\u001b[0m\n\u001b[0;32m-> 1520\u001b[0;31m             \u001b[0;32mraise\u001b[0m \u001b[0mself\u001b[0m\u001b[0;34m.\u001b[0m\u001b[0m_exception\u001b[0m\u001b[0;34m(\u001b[0m\u001b[0mdetail\u001b[0m\u001b[0;34m)\u001b[0m\u001b[0;34m\u001b[0m\u001b[0;34m\u001b[0m\u001b[0m\n\u001b[0m\u001b[1;32m   1521\u001b[0m \u001b[0;34m\u001b[0m\u001b[0m\n\u001b[1;32m   1522\u001b[0m     \u001b[0;32mdef\u001b[0m \u001b[0m_get_slice_axis\u001b[0m\u001b[0;34m(\u001b[0m\u001b[0mself\u001b[0m\u001b[0;34m,\u001b[0m \u001b[0mslice_obj\u001b[0m\u001b[0;34m,\u001b[0m \u001b[0maxis\u001b[0m\u001b[0;34m=\u001b[0m\u001b[0;32mNone\u001b[0m\u001b[0;34m)\u001b[0m\u001b[0;34m:\u001b[0m\u001b[0;34m\u001b[0m\u001b[0;34m\u001b[0m\u001b[0m\n",
      "\u001b[0;31mIndexError\u001b[0m: indices are out-of-bounds"
     ]
    }
   ],
   "source": [
    "temp_df.iloc[labels == cluster]#.iloc[:,df.loc[user_id].isnull().values].notnull().sum()"
   ]
  },
  {
   "cell_type": "code",
   "execution_count": 368,
   "metadata": {},
   "outputs": [
    {
     "data": {
      "text/plain": [
       "array([4, 3, 2, 0, 0, 0, 3, 0, 1, 1, 1, 0, 2, 2, 0, 2, 0, 0, 3, 0, 3, 2,\n",
       "       3, 0, 0, 2, 2, 3], dtype=int32)"
      ]
     },
     "execution_count": 368,
     "metadata": {},
     "output_type": "execute_result"
    }
   ],
   "source": [
    "clusters"
   ]
  },
  {
   "cell_type": "code",
   "execution_count": 382,
   "metadata": {
    "scrolled": false
   },
   "outputs": [
    {
     "name": "stdout",
     "output_type": "stream",
     "text": [
      "Movie ID: 1097\n",
      "User ID: 1\n",
      "cluster: 3\n",
      "i: 0\n",
      "Num_ratings:\n",
      "1       2\n",
      "21      0\n",
      "39      1\n",
      "110     6\n",
      "111     1\n",
      "150     1\n",
      "153     0\n",
      "165     0\n",
      "185     0\n",
      "231     0\n",
      "316     4\n",
      "329     0\n",
      "339     2\n",
      "344     2\n",
      "356     2\n",
      "364     3\n",
      "377     1\n",
      "380     2\n",
      "457     2\n",
      "480     6\n",
      "500     1\n",
      "527     1\n",
      "587     2\n",
      "588     3\n",
      "590     2\n",
      "592     0\n",
      "595     1\n",
      "597     1\n",
      "608     0\n",
      "648     0\n",
      "733     1\n",
      "736     1\n",
      "780     2\n",
      "858     1\n",
      "1073    3\n",
      "1197    5\n",
      "1210    8\n",
      "1213    0\n",
      "1265    3\n",
      "1270    4\n",
      "1580    5\n",
      "1721    3\n",
      "1923    1\n",
      "2028    3\n",
      "2329    1\n",
      "2571    5\n",
      "2858    4\n",
      "3578    3\n",
      "dtype: int64\n"
     ]
    },
    {
     "ename": "KeyError",
     "evalue": "1097",
     "output_type": "error",
     "traceback": [
      "\u001b[0;31m---------------------------------------------------------------------------\u001b[0m",
      "\u001b[0;31mKeyError\u001b[0m                                  Traceback (most recent call last)",
      "\u001b[0;32m/anaconda/lib/python3.6/site-packages/pandas/core/indexes/base.py\u001b[0m in \u001b[0;36mget_loc\u001b[0;34m(self, key, method, tolerance)\u001b[0m\n\u001b[1;32m   2655\u001b[0m             \u001b[0;32mtry\u001b[0m\u001b[0;34m:\u001b[0m\u001b[0;34m\u001b[0m\u001b[0;34m\u001b[0m\u001b[0m\n\u001b[0;32m-> 2656\u001b[0;31m                 \u001b[0;32mreturn\u001b[0m \u001b[0mself\u001b[0m\u001b[0;34m.\u001b[0m\u001b[0m_engine\u001b[0m\u001b[0;34m.\u001b[0m\u001b[0mget_loc\u001b[0m\u001b[0;34m(\u001b[0m\u001b[0mkey\u001b[0m\u001b[0;34m)\u001b[0m\u001b[0;34m\u001b[0m\u001b[0;34m\u001b[0m\u001b[0m\n\u001b[0m\u001b[1;32m   2657\u001b[0m             \u001b[0;32mexcept\u001b[0m \u001b[0mKeyError\u001b[0m\u001b[0;34m:\u001b[0m\u001b[0;34m\u001b[0m\u001b[0;34m\u001b[0m\u001b[0m\n",
      "\u001b[0;32mpandas/_libs/index.pyx\u001b[0m in \u001b[0;36mpandas._libs.index.IndexEngine.get_loc\u001b[0;34m()\u001b[0m\n",
      "\u001b[0;32mpandas/_libs/index.pyx\u001b[0m in \u001b[0;36mpandas._libs.index.IndexEngine.get_loc\u001b[0;34m()\u001b[0m\n",
      "\u001b[0;32mpandas/_libs/hashtable_class_helper.pxi\u001b[0m in \u001b[0;36mpandas._libs.hashtable.Int64HashTable.get_item\u001b[0;34m()\u001b[0m\n",
      "\u001b[0;32mpandas/_libs/hashtable_class_helper.pxi\u001b[0m in \u001b[0;36mpandas._libs.hashtable.Int64HashTable.get_item\u001b[0;34m()\u001b[0m\n",
      "\u001b[0;31mKeyError\u001b[0m: 1097",
      "\nDuring handling of the above exception, another exception occurred:\n",
      "\u001b[0;31mKeyError\u001b[0m                                  Traceback (most recent call last)",
      "\u001b[0;32m<ipython-input-382-9fd6c4b61ff1>\u001b[0m in \u001b[0;36m<module>\u001b[0;34m()\u001b[0m\n\u001b[0;32m----> 1\u001b[0;31m \u001b[0mKMeans_Test\u001b[0m\u001b[0;34m(\u001b[0m\u001b[0mKM_model\u001b[0m\u001b[0;34m,\u001b[0m \u001b[0mdfs\u001b[0m\u001b[0;34m,\u001b[0m \u001b[0;36m5\u001b[0m\u001b[0;34m)\u001b[0m\u001b[0;34m\u001b[0m\u001b[0;34m\u001b[0m\u001b[0m\n\u001b[0m",
      "\u001b[0;32m<ipython-input-381-c877a2da9643>\u001b[0m in \u001b[0;36mKMeans_Test\u001b[0;34m(model, df, n, alpha)\u001b[0m\n\u001b[1;32m     51\u001b[0m             \u001b[0mtotal\u001b[0m \u001b[0;34m=\u001b[0m \u001b[0mnum_ratings\u001b[0m\u001b[0;34m.\u001b[0m\u001b[0msum\u001b[0m\u001b[0;34m(\u001b[0m\u001b[0;34m)\u001b[0m\u001b[0;34m\u001b[0m\u001b[0;34m\u001b[0m\u001b[0m\n\u001b[1;32m     52\u001b[0m             \u001b[0;32mtry\u001b[0m\u001b[0;34m:\u001b[0m\u001b[0;34m\u001b[0m\u001b[0;34m\u001b[0m\u001b[0m\n\u001b[0;32m---> 53\u001b[0;31m                 \u001b[0mshare\u001b[0m \u001b[0;34m=\u001b[0m \u001b[0;34m(\u001b[0m\u001b[0mnum_ratings\u001b[0m\u001b[0;34m/\u001b[0m\u001b[0mtotal\u001b[0m\u001b[0;34m)\u001b[0m\u001b[0;34m.\u001b[0m\u001b[0mloc\u001b[0m\u001b[0;34m[\u001b[0m\u001b[0mm_id\u001b[0m\u001b[0;34m]\u001b[0m\u001b[0;34m\u001b[0m\u001b[0;34m\u001b[0m\u001b[0m\n\u001b[0m\u001b[1;32m     54\u001b[0m             \u001b[0;32mexcept\u001b[0m\u001b[0;34m:\u001b[0m\u001b[0;34m\u001b[0m\u001b[0;34m\u001b[0m\u001b[0m\n\u001b[1;32m     55\u001b[0m                 \u001b[0mprint\u001b[0m\u001b[0;34m(\u001b[0m\u001b[0;34m\"Movie ID:\"\u001b[0m\u001b[0;34m,\u001b[0m \u001b[0mm_id\u001b[0m\u001b[0;34m)\u001b[0m\u001b[0;34m\u001b[0m\u001b[0;34m\u001b[0m\u001b[0m\n",
      "\u001b[0;32m/anaconda/lib/python3.6/site-packages/pandas/core/indexing.py\u001b[0m in \u001b[0;36m__getitem__\u001b[0;34m(self, key)\u001b[0m\n\u001b[1;32m   1498\u001b[0m \u001b[0;34m\u001b[0m\u001b[0m\n\u001b[1;32m   1499\u001b[0m             \u001b[0mmaybe_callable\u001b[0m \u001b[0;34m=\u001b[0m \u001b[0mcom\u001b[0m\u001b[0;34m.\u001b[0m\u001b[0mapply_if_callable\u001b[0m\u001b[0;34m(\u001b[0m\u001b[0mkey\u001b[0m\u001b[0;34m,\u001b[0m \u001b[0mself\u001b[0m\u001b[0;34m.\u001b[0m\u001b[0mobj\u001b[0m\u001b[0;34m)\u001b[0m\u001b[0;34m\u001b[0m\u001b[0;34m\u001b[0m\u001b[0m\n\u001b[0;32m-> 1500\u001b[0;31m             \u001b[0;32mreturn\u001b[0m \u001b[0mself\u001b[0m\u001b[0;34m.\u001b[0m\u001b[0m_getitem_axis\u001b[0m\u001b[0;34m(\u001b[0m\u001b[0mmaybe_callable\u001b[0m\u001b[0;34m,\u001b[0m \u001b[0maxis\u001b[0m\u001b[0;34m=\u001b[0m\u001b[0maxis\u001b[0m\u001b[0;34m)\u001b[0m\u001b[0;34m\u001b[0m\u001b[0;34m\u001b[0m\u001b[0m\n\u001b[0m\u001b[1;32m   1501\u001b[0m \u001b[0;34m\u001b[0m\u001b[0m\n\u001b[1;32m   1502\u001b[0m     \u001b[0;32mdef\u001b[0m \u001b[0m_is_scalar_access\u001b[0m\u001b[0;34m(\u001b[0m\u001b[0mself\u001b[0m\u001b[0;34m,\u001b[0m \u001b[0mkey\u001b[0m\u001b[0;34m)\u001b[0m\u001b[0;34m:\u001b[0m\u001b[0;34m\u001b[0m\u001b[0;34m\u001b[0m\u001b[0m\n",
      "\u001b[0;32m/anaconda/lib/python3.6/site-packages/pandas/core/indexing.py\u001b[0m in \u001b[0;36m_getitem_axis\u001b[0;34m(self, key, axis)\u001b[0m\n\u001b[1;32m   1911\u001b[0m         \u001b[0;31m# fall thru to straight lookup\u001b[0m\u001b[0;34m\u001b[0m\u001b[0;34m\u001b[0m\u001b[0;34m\u001b[0m\u001b[0m\n\u001b[1;32m   1912\u001b[0m         \u001b[0mself\u001b[0m\u001b[0;34m.\u001b[0m\u001b[0m_validate_key\u001b[0m\u001b[0;34m(\u001b[0m\u001b[0mkey\u001b[0m\u001b[0;34m,\u001b[0m \u001b[0maxis\u001b[0m\u001b[0;34m)\u001b[0m\u001b[0;34m\u001b[0m\u001b[0;34m\u001b[0m\u001b[0m\n\u001b[0;32m-> 1913\u001b[0;31m         \u001b[0;32mreturn\u001b[0m \u001b[0mself\u001b[0m\u001b[0;34m.\u001b[0m\u001b[0m_get_label\u001b[0m\u001b[0;34m(\u001b[0m\u001b[0mkey\u001b[0m\u001b[0;34m,\u001b[0m \u001b[0maxis\u001b[0m\u001b[0;34m=\u001b[0m\u001b[0maxis\u001b[0m\u001b[0;34m)\u001b[0m\u001b[0;34m\u001b[0m\u001b[0;34m\u001b[0m\u001b[0m\n\u001b[0m\u001b[1;32m   1914\u001b[0m \u001b[0;34m\u001b[0m\u001b[0m\n\u001b[1;32m   1915\u001b[0m \u001b[0;34m\u001b[0m\u001b[0m\n",
      "\u001b[0;32m/anaconda/lib/python3.6/site-packages/pandas/core/indexing.py\u001b[0m in \u001b[0;36m_get_label\u001b[0;34m(self, label, axis)\u001b[0m\n\u001b[1;32m    135\u001b[0m             \u001b[0;31m# but will fail when the index is not present\u001b[0m\u001b[0;34m\u001b[0m\u001b[0;34m\u001b[0m\u001b[0;34m\u001b[0m\u001b[0m\n\u001b[1;32m    136\u001b[0m             \u001b[0;31m# see GH5667\u001b[0m\u001b[0;34m\u001b[0m\u001b[0;34m\u001b[0m\u001b[0;34m\u001b[0m\u001b[0m\n\u001b[0;32m--> 137\u001b[0;31m             \u001b[0;32mreturn\u001b[0m \u001b[0mself\u001b[0m\u001b[0;34m.\u001b[0m\u001b[0mobj\u001b[0m\u001b[0;34m.\u001b[0m\u001b[0m_xs\u001b[0m\u001b[0;34m(\u001b[0m\u001b[0mlabel\u001b[0m\u001b[0;34m,\u001b[0m \u001b[0maxis\u001b[0m\u001b[0;34m=\u001b[0m\u001b[0maxis\u001b[0m\u001b[0;34m)\u001b[0m\u001b[0;34m\u001b[0m\u001b[0;34m\u001b[0m\u001b[0m\n\u001b[0m\u001b[1;32m    138\u001b[0m         \u001b[0;32melif\u001b[0m \u001b[0misinstance\u001b[0m\u001b[0;34m(\u001b[0m\u001b[0mlabel\u001b[0m\u001b[0;34m,\u001b[0m \u001b[0mtuple\u001b[0m\u001b[0;34m)\u001b[0m \u001b[0;32mand\u001b[0m \u001b[0misinstance\u001b[0m\u001b[0;34m(\u001b[0m\u001b[0mlabel\u001b[0m\u001b[0;34m[\u001b[0m\u001b[0maxis\u001b[0m\u001b[0;34m]\u001b[0m\u001b[0;34m,\u001b[0m \u001b[0mslice\u001b[0m\u001b[0;34m)\u001b[0m\u001b[0;34m:\u001b[0m\u001b[0;34m\u001b[0m\u001b[0;34m\u001b[0m\u001b[0m\n\u001b[1;32m    139\u001b[0m             \u001b[0;32mraise\u001b[0m \u001b[0mIndexingError\u001b[0m\u001b[0;34m(\u001b[0m\u001b[0;34m'no slices here, handle elsewhere'\u001b[0m\u001b[0;34m)\u001b[0m\u001b[0;34m\u001b[0m\u001b[0;34m\u001b[0m\u001b[0m\n",
      "\u001b[0;32m/anaconda/lib/python3.6/site-packages/pandas/core/generic.py\u001b[0m in \u001b[0;36mxs\u001b[0;34m(self, key, axis, level, drop_level)\u001b[0m\n\u001b[1;32m   3583\u001b[0m                                                       drop_level=drop_level)\n\u001b[1;32m   3584\u001b[0m         \u001b[0;32melse\u001b[0m\u001b[0;34m:\u001b[0m\u001b[0;34m\u001b[0m\u001b[0;34m\u001b[0m\u001b[0m\n\u001b[0;32m-> 3585\u001b[0;31m             \u001b[0mloc\u001b[0m \u001b[0;34m=\u001b[0m \u001b[0mself\u001b[0m\u001b[0;34m.\u001b[0m\u001b[0mindex\u001b[0m\u001b[0;34m.\u001b[0m\u001b[0mget_loc\u001b[0m\u001b[0;34m(\u001b[0m\u001b[0mkey\u001b[0m\u001b[0;34m)\u001b[0m\u001b[0;34m\u001b[0m\u001b[0;34m\u001b[0m\u001b[0m\n\u001b[0m\u001b[1;32m   3586\u001b[0m \u001b[0;34m\u001b[0m\u001b[0m\n\u001b[1;32m   3587\u001b[0m             \u001b[0;32mif\u001b[0m \u001b[0misinstance\u001b[0m\u001b[0;34m(\u001b[0m\u001b[0mloc\u001b[0m\u001b[0;34m,\u001b[0m \u001b[0mnp\u001b[0m\u001b[0;34m.\u001b[0m\u001b[0mndarray\u001b[0m\u001b[0;34m)\u001b[0m\u001b[0;34m:\u001b[0m\u001b[0;34m\u001b[0m\u001b[0;34m\u001b[0m\u001b[0m\n",
      "\u001b[0;32m/anaconda/lib/python3.6/site-packages/pandas/core/indexes/base.py\u001b[0m in \u001b[0;36mget_loc\u001b[0;34m(self, key, method, tolerance)\u001b[0m\n\u001b[1;32m   2656\u001b[0m                 \u001b[0;32mreturn\u001b[0m \u001b[0mself\u001b[0m\u001b[0;34m.\u001b[0m\u001b[0m_engine\u001b[0m\u001b[0;34m.\u001b[0m\u001b[0mget_loc\u001b[0m\u001b[0;34m(\u001b[0m\u001b[0mkey\u001b[0m\u001b[0;34m)\u001b[0m\u001b[0;34m\u001b[0m\u001b[0;34m\u001b[0m\u001b[0m\n\u001b[1;32m   2657\u001b[0m             \u001b[0;32mexcept\u001b[0m \u001b[0mKeyError\u001b[0m\u001b[0;34m:\u001b[0m\u001b[0;34m\u001b[0m\u001b[0;34m\u001b[0m\u001b[0m\n\u001b[0;32m-> 2658\u001b[0;31m                 \u001b[0;32mreturn\u001b[0m \u001b[0mself\u001b[0m\u001b[0;34m.\u001b[0m\u001b[0m_engine\u001b[0m\u001b[0;34m.\u001b[0m\u001b[0mget_loc\u001b[0m\u001b[0;34m(\u001b[0m\u001b[0mself\u001b[0m\u001b[0;34m.\u001b[0m\u001b[0m_maybe_cast_indexer\u001b[0m\u001b[0;34m(\u001b[0m\u001b[0mkey\u001b[0m\u001b[0;34m)\u001b[0m\u001b[0;34m)\u001b[0m\u001b[0;34m\u001b[0m\u001b[0;34m\u001b[0m\u001b[0m\n\u001b[0m\u001b[1;32m   2659\u001b[0m         \u001b[0mindexer\u001b[0m \u001b[0;34m=\u001b[0m \u001b[0mself\u001b[0m\u001b[0;34m.\u001b[0m\u001b[0mget_indexer\u001b[0m\u001b[0;34m(\u001b[0m\u001b[0;34m[\u001b[0m\u001b[0mkey\u001b[0m\u001b[0;34m]\u001b[0m\u001b[0;34m,\u001b[0m \u001b[0mmethod\u001b[0m\u001b[0;34m=\u001b[0m\u001b[0mmethod\u001b[0m\u001b[0;34m,\u001b[0m \u001b[0mtolerance\u001b[0m\u001b[0;34m=\u001b[0m\u001b[0mtolerance\u001b[0m\u001b[0;34m)\u001b[0m\u001b[0;34m\u001b[0m\u001b[0;34m\u001b[0m\u001b[0m\n\u001b[1;32m   2660\u001b[0m         \u001b[0;32mif\u001b[0m \u001b[0mindexer\u001b[0m\u001b[0;34m.\u001b[0m\u001b[0mndim\u001b[0m \u001b[0;34m>\u001b[0m \u001b[0;36m1\u001b[0m \u001b[0;32mor\u001b[0m \u001b[0mindexer\u001b[0m\u001b[0;34m.\u001b[0m\u001b[0msize\u001b[0m \u001b[0;34m>\u001b[0m \u001b[0;36m1\u001b[0m\u001b[0;34m:\u001b[0m\u001b[0;34m\u001b[0m\u001b[0;34m\u001b[0m\u001b[0m\n",
      "\u001b[0;32mpandas/_libs/index.pyx\u001b[0m in \u001b[0;36mpandas._libs.index.IndexEngine.get_loc\u001b[0;34m()\u001b[0m\n",
      "\u001b[0;32mpandas/_libs/index.pyx\u001b[0m in \u001b[0;36mpandas._libs.index.IndexEngine.get_loc\u001b[0;34m()\u001b[0m\n",
      "\u001b[0;32mpandas/_libs/hashtable_class_helper.pxi\u001b[0m in \u001b[0;36mpandas._libs.hashtable.Int64HashTable.get_item\u001b[0;34m()\u001b[0m\n",
      "\u001b[0;32mpandas/_libs/hashtable_class_helper.pxi\u001b[0m in \u001b[0;36mpandas._libs.hashtable.Int64HashTable.get_item\u001b[0;34m()\u001b[0m\n",
      "\u001b[0;31mKeyError\u001b[0m: 1097"
     ]
    }
   ],
   "source": [
    "KMeans_Test(KM_model, dfs, 5)"
   ]
  },
  {
   "cell_type": "code",
   "execution_count": 271,
   "metadata": {
    "collapsed": true
   },
   "outputs": [],
   "source": [
    "cluster = 4"
   ]
  },
  {
   "cell_type": "code",
   "execution_count": 279,
   "metadata": {
    "scrolled": false
   },
   "outputs": [
    {
     "data": {
      "text/plain": [
       "21      5\n",
       "47      5\n",
       "50      6\n",
       "111     3\n",
       "329     4\n",
       "339     4\n",
       "457     6\n",
       "590     5\n",
       "733     5\n",
       "924     4\n",
       "1208    4\n",
       "1259    4\n",
       "1265    5\n",
       "1923    4\n",
       "2329    4\n",
       "dtype: int64"
      ]
     },
     "execution_count": 279,
     "metadata": {},
     "output_type": "execute_result"
    }
   ],
   "source": [
    "df.iloc[labels == cluster].iloc[:,df.iloc[labels == cluster].iloc[i].isnull().values].notnull().sum()"
   ]
  },
  {
   "cell_type": "code",
   "execution_count": 237,
   "metadata": {},
   "outputs": [
    {
     "data": {
      "text/plain": [
       "0.025"
      ]
     },
     "execution_count": 237,
     "metadata": {},
     "output_type": "execute_result"
    }
   ],
   "source": [
    "(df.iloc[labels == cluster].iloc[:,df.loc[3].isnull().values].notnull().sum() / df.iloc[labels == cluster].iloc[:,df.loc[3].isnull().values].notnull().sum().sum()).iloc[0]#.loc[21]"
   ]
  },
  {
   "cell_type": "code",
   "execution_count": 245,
   "metadata": {},
   "outputs": [
    {
     "data": {
      "text/plain": [
       "1       NaN\n",
       "21      NaN\n",
       "32      3.5\n",
       "39      NaN\n",
       "47      3.5\n",
       "50      3.5\n",
       "110     NaN\n",
       "111     NaN\n",
       "150     NaN\n",
       "153     NaN\n",
       "165     NaN\n",
       "185     NaN\n",
       "231     NaN\n",
       "253     4.0\n",
       "260     4.0\n",
       "296     4.0\n",
       "316     NaN\n",
       "318     4.0\n",
       "329     NaN\n",
       "339     NaN\n",
       "344     NaN\n",
       "356     NaN\n",
       "364     NaN\n",
       "367     3.5\n",
       "377     NaN\n",
       "380     NaN\n",
       "457     NaN\n",
       "480     NaN\n",
       "500     NaN\n",
       "527     NaN\n",
       "       ... \n",
       "858     NaN\n",
       "924     3.5\n",
       "1073    NaN\n",
       "1097    4.0\n",
       "1136    3.5\n",
       "1196    4.5\n",
       "1197    NaN\n",
       "1198    4.5\n",
       "1208    3.5\n",
       "1210    NaN\n",
       "1213    NaN\n",
       "1240    4.0\n",
       "1259    4.0\n",
       "1265    NaN\n",
       "1270    NaN\n",
       "1291    3.5\n",
       "1580    NaN\n",
       "1721    NaN\n",
       "1923    NaN\n",
       "2028    NaN\n",
       "2329    NaN\n",
       "2571    NaN\n",
       "2716    3.5\n",
       "2762    4.0\n",
       "2858    NaN\n",
       "2959    4.0\n",
       "3578    NaN\n",
       "4306    4.0\n",
       "4993    5.0\n",
       "5952    5.0\n",
       "Name: 1, Length: 74, dtype: Sparse[float64, nan]\n",
       "IntIndex\n",
       "Indices: array([ 2,  4,  5, 13, 14, 15, 17, 23, 30, 33, 36, 45, 47, 48, 49, 51, 52,\n",
       "       55, 56, 59, 66, 67, 69, 71, 72, 73], dtype=int32)"
      ]
     },
     "execution_count": 245,
     "metadata": {},
     "output_type": "execute_result"
    }
   ],
   "source": [
    "df.iloc[df.iloc[:,m_index].notnull().values.values].iloc[0]"
   ]
  },
  {
   "cell_type": "code",
   "execution_count": null,
   "metadata": {
    "collapsed": true
   },
   "outputs": [],
   "source": []
  }
 ],
 "metadata": {
  "kernelspec": {
   "display_name": "Python 3",
   "language": "python",
   "name": "python3"
  },
  "language_info": {
   "codemirror_mode": {
    "name": "ipython",
    "version": 3
   },
   "file_extension": ".py",
   "mimetype": "text/x-python",
   "name": "python",
   "nbconvert_exporter": "python",
   "pygments_lexer": "ipython3",
   "version": "3.6.8"
  }
 },
 "nbformat": 4,
 "nbformat_minor": 2
}
