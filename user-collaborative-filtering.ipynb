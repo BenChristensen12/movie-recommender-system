{
 "cells": [
  {
   "cell_type": "code",
   "execution_count": 1,
   "metadata": {
    "collapsed": true
   },
   "outputs": [],
   "source": [
    "import pandas as pd\n",
    "from scipy import linalg as la\n",
    "import numpy as np\n",
    "from scipy.sparse import csr_matrix\n",
    "from pandas.api.types import CategoricalDtype\n",
    "from sklearn.neighbors import NearestNeighbors\n",
    "from scipy.sparse import linalg as spla"
   ]
  },
  {
   "cell_type": "code",
   "execution_count": 2,
   "metadata": {
    "collapsed": true
   },
   "outputs": [],
   "source": [
    "#Benjamin's path: path = \"/Users/Armen/Desktop/SpringDataProject/\"\n",
    "#Ben C's path:\n",
    "path = \"/Users/benchristensen/Desktop/Recommneder_System_Project/ml-20m/\"\n",
    "r = pd.read_csv(path + \"ratings.csv\", nrows = 10000)"
   ]
  },
  {
   "cell_type": "code",
   "execution_count": 3,
   "metadata": {
    "collapsed": true
   },
   "outputs": [],
   "source": [
    "#Create variable \"count\" for number of ratings for each movie\n",
    "merged = r.merge(r.groupby(\"movieId\").size().reset_index(name='count'), how='right', on='movieId')"
   ]
  },
  {
   "cell_type": "code",
   "execution_count": 4,
   "metadata": {
    "collapsed": true
   },
   "outputs": [],
   "source": [
    "#Drop any movies that have 17 or fewer ratings\n",
    "df = merged[merged[\"count\"]>17].sort_values(['userId', 'movieId'])"
   ]
  },
  {
   "cell_type": "code",
   "execution_count": 5,
   "metadata": {},
   "outputs": [
    {
     "data": {
      "text/html": [
       "<div>\n",
       "<style scoped>\n",
       "    .dataframe tbody tr th:only-of-type {\n",
       "        vertical-align: middle;\n",
       "    }\n",
       "\n",
       "    .dataframe tbody tr th {\n",
       "        vertical-align: top;\n",
       "    }\n",
       "\n",
       "    .dataframe thead th {\n",
       "        text-align: right;\n",
       "    }\n",
       "</style>\n",
       "<table border=\"1\" class=\"dataframe\">\n",
       "  <thead>\n",
       "    <tr style=\"text-align: right;\">\n",
       "      <th></th>\n",
       "      <th>userId</th>\n",
       "      <th>movieId</th>\n",
       "      <th>rating</th>\n",
       "      <th>timestamp</th>\n",
       "      <th>count</th>\n",
       "    </tr>\n",
       "  </thead>\n",
       "  <tbody>\n",
       "    <tr>\n",
       "      <th>12</th>\n",
       "      <td>1</td>\n",
       "      <td>32</td>\n",
       "      <td>3.5</td>\n",
       "      <td>1112484819</td>\n",
       "      <td>24</td>\n",
       "    </tr>\n",
       "    <tr>\n",
       "      <th>36</th>\n",
       "      <td>1</td>\n",
       "      <td>47</td>\n",
       "      <td>3.5</td>\n",
       "      <td>1112484727</td>\n",
       "      <td>28</td>\n",
       "    </tr>\n",
       "    <tr>\n",
       "      <th>64</th>\n",
       "      <td>1</td>\n",
       "      <td>50</td>\n",
       "      <td>3.5</td>\n",
       "      <td>1112484580</td>\n",
       "      <td>28</td>\n",
       "    </tr>\n",
       "    <tr>\n",
       "      <th>127</th>\n",
       "      <td>1</td>\n",
       "      <td>253</td>\n",
       "      <td>4.0</td>\n",
       "      <td>1112484940</td>\n",
       "      <td>20</td>\n",
       "    </tr>\n",
       "    <tr>\n",
       "      <th>147</th>\n",
       "      <td>1</td>\n",
       "      <td>260</td>\n",
       "      <td>4.0</td>\n",
       "      <td>1112484826</td>\n",
       "      <td>34</td>\n",
       "    </tr>\n",
       "  </tbody>\n",
       "</table>\n",
       "</div>"
      ],
      "text/plain": [
       "     userId  movieId  rating   timestamp  count\n",
       "12        1       32     3.5  1112484819     24\n",
       "36        1       47     3.5  1112484727     28\n",
       "64        1       50     3.5  1112484580     28\n",
       "127       1      253     4.0  1112484940     20\n",
       "147       1      260     4.0  1112484826     34"
      ]
     },
     "execution_count": 5,
     "metadata": {},
     "output_type": "execute_result"
    }
   ],
   "source": [
    "df.head()"
   ]
  },
  {
   "cell_type": "code",
   "execution_count": 6,
   "metadata": {
    "collapsed": true
   },
   "outputs": [],
   "source": [
    "#Generate user-movie matrix with ratings as its values\n",
    "user_c = CategoricalDtype(sorted(df.userId.unique()), ordered=True)\n",
    "movie_c = CategoricalDtype(sorted(df.movieId.unique()), ordered=True)\n",
    "\n",
    "row = df.userId.astype(user_c).cat.codes\n",
    "col = df.movieId.astype(movie_c).cat.codes\n",
    "sparse_matrix = csr_matrix((df['rating'], (row, col)), \\\n",
    "                           shape=(user_c.categories.size, movie_c.categories.size))\n",
    "\n"
   ]
  },
  {
   "cell_type": "code",
   "execution_count": 7,
   "metadata": {
    "collapsed": true
   },
   "outputs": [],
   "source": [
    "#Change to dense for viewing its data\n",
    "dense = sparse_matrix.todense()"
   ]
  },
  {
   "cell_type": "code",
   "execution_count": 8,
   "metadata": {
    "collapsed": true
   },
   "outputs": [],
   "source": [
    "#Create sparse dataframe from user-movie matrix\n",
    "dfs = pd.SparseDataFrame(sparse_matrix, \\\n",
    "                         index=user_c.categories, \\\n",
    "                         columns=movie_c.categories, \\\n",
    "                         default_fill_value=2.5)"
   ]
  },
  {
   "cell_type": "code",
   "execution_count": 9,
   "metadata": {
    "collapsed": true
   },
   "outputs": [],
   "source": [
    "#Initialize nearest neighbors model\n",
    "neigh = NearestNeighbors(n_neighbors=1000, algorithm='brute', metric='cosine')"
   ]
  },
  {
   "cell_type": "code",
   "execution_count": 10,
   "metadata": {
    "collapsed": true
   },
   "outputs": [],
   "source": [
    "#Fit on the movie ratings we have\n",
    "model = neigh.fit(sparse_matrix)"
   ]
  },
  {
   "cell_type": "code",
   "execution_count": 11,
   "metadata": {
    "collapsed": true
   },
   "outputs": [],
   "source": [
    "m = pd.read_csv(path + \"movies.csv\")"
   ]
  },
  {
   "cell_type": "code",
   "execution_count": 28,
   "metadata": {},
   "outputs": [],
   "source": [
    "def recommend_movies(df, matrix, fitted_model, user_id, n):\n",
    "    alpha=1\n",
    "    movieids_seen = df[df.userId == user_id].movieId.values\n",
    "    #mask is the indices of the movies that userid has seen in the user-movie matrix\n",
    "    mask = []\n",
    "    for i, j in enumerate(movie_c.categories):\n",
    "        if j in df[df.userId == user_id].movieId.values:\n",
    "            mask.append(i)\n",
    "    #use the mask to get the indices of the movies userid hasn't seen\n",
    "    not_seen = list(set(range(len(movie_c.categories))) - set(mask))\n",
    "    #cut out the movies (columns) userid has seen from our matrix\n",
    "    ######new = dense[:,not_seen]\n",
    "    new = matrix[:,not_seen]\n",
    "    #get the indices for nearest neighbors of userId\n",
    "    indices = fitted_model.kneighbors(matrix[user_id-1], 3)[1][0]\n",
    "    \n",
    "    #neighbors is the actual rows of the matrix with each neighbors ratings\n",
    "    neighbors = new[indices].todense()\n",
    "    #find how many times each movie has been rated by the neighbors\n",
    "    neigh_movies = []\n",
    "\n",
    "    #find how many times each movie has been rated by the neighbors\n",
    "    ratings_count = []\n",
    "    #Loop through the movie_ids not seen by our user\n",
    "    for movie_id in np.array(movie_c.categories)[not_seen]:\n",
    "        count = 0\n",
    "        #Loop through the user_ids of our user's neighbor\n",
    "        for id_ in indices + 1:\n",
    "            #Check if the userId has rated the movie\n",
    "            if movie_id in df[df.userId == id_].movieId.values:\n",
    "                count += 1\n",
    "        ratings_count.append(count)\n",
    "    ratings_count = np.array(ratings_count)\n",
    "    #Choose the movie to recommend (weight frequently-seen-movies higher)\n",
    "    position = np.argmax(np.mean(neighbors - 2.5, axis=0)*alpha*ratings_count.reshape((-1,1)))\n",
    "    #get the movieid from the matrix column value\n",
    "    movie_id = np.array(movie_c.categories)[not_seen][position]\n",
    "    print('movie_id',movie_id)\n",
    "    return movie_id, m[m.movieId == movie_id].title"
   ]
  },
  {
   "cell_type": "code",
   "execution_count": 29,
   "metadata": {
    "scrolled": false
   },
   "outputs": [
    {
     "name": "stdout",
     "output_type": "stream",
     "text": [
      "movie_id 21\n",
      "(21, 20    Get Shorty (1995)\n",
      "Name: title, dtype: object)\n"
     ]
    }
   ],
   "source": [
    "print(recommend_movies(df, sparse_matrix, model, 12, 1))"
   ]
  },
  {
   "cell_type": "code",
   "execution_count": null,
   "metadata": {
    "collapsed": true
   },
   "outputs": [],
   "source": [
    "x = np.array([[1,1,.5],\n",
    "        [1,6,2],\n",
    "        [2,7,4],\n",
    "        [3,2,4.5],\n",
    "        [3,3,3],\n",
    "        [3,4,1],\n",
    "        [4,1,2],\n",
    "        [5,4,1.5],\n",
    "        [6,3,5],\n",
    "        [7,10,4.5],\n",
    "        [8,5,4.5],\n",
    "        [9,8,.5],\n",
    "        [9,9,1.5],\n",
    "        [10,3,3.5]])\n",
    "df = pd.DataFrame(x,columns=['userId','movieId','rating'])\n",
    "\n",
    "user_c = CategoricalDtype(sorted(df.userId.unique()), ordered=True)\n",
    "movie_c = CategoricalDtype(sorted(df.movieId.unique()), ordered=True)\n",
    "\n",
    "row = df.userId.astype(user_c).cat.codes\n",
    "col = df.movieId.astype(movie_c).cat.codes\n",
    "sparse_matrix = csr_matrix((df['rating'], (row, col)), \\\n",
    "                           shape=(user_c.categories.size, movie_c.categories.size))\n",
    "\n",
    "dense = sparse_matrix.todense()"
   ]
  },
  {
   "cell_type": "code",
   "execution_count": null,
   "metadata": {
    "collapsed": true
   },
   "outputs": [],
   "source": []
  }
 ],
 "metadata": {
  "kernelspec": {
   "display_name": "Python 3",
   "language": "python",
   "name": "python3"
  },
  "language_info": {
   "codemirror_mode": {
    "name": "ipython",
    "version": 3
   },
   "file_extension": ".py",
   "mimetype": "text/x-python",
   "name": "python",
   "nbconvert_exporter": "python",
   "pygments_lexer": "ipython3",
   "version": "3.6.8"
  }
 },
 "nbformat": 4,
 "nbformat_minor": 2
}
