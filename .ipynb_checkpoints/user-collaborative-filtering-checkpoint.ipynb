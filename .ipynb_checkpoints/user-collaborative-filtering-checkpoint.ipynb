{
 "cells": [
  {
   "cell_type": "markdown",
   "metadata": {},
   "source": [
    "## Movie Recommender System"
   ]
  },
  {
   "cell_type": "markdown",
   "metadata": {},
   "source": [
    "### KNNeighbors and KMeans"
   ]
  },
  {
   "cell_type": "code",
   "execution_count": 1,
   "metadata": {
    "collapsed": true
   },
   "outputs": [],
   "source": [
    "import pandas as pd\n",
    "from scipy import linalg as la\n",
    "import numpy as np\n",
    "from scipy.sparse import csr_matrix\n",
    "from pandas.api.types import CategoricalDtype\n",
    "from sklearn.neighbors import NearestNeighbors\n",
    "from sklearn.cluster import KMeans\n",
    "from scipy.sparse import linalg as spla\n",
    "from time import time"
   ]
  },
  {
   "cell_type": "markdown",
   "metadata": {},
   "source": [
    "### Notes\n",
    " - Create a graph showing the distribution of average ratings for all users\n",
    " - Maybe another graph grouped by clusters"
   ]
  },
  {
   "cell_type": "code",
   "execution_count": null,
   "metadata": {
    "collapsed": true
   },
   "outputs": [],
   "source": [
    "#Benjamin's path: path = \"/Users/Armen/Desktop/SpringDataProject/\"\n",
    "#Ben C's path:\n",
    "path = \"/Users/benchristensen/Desktop/Recommneder_System_Project/ml-20m/\"\n",
    "ratings = pd.read_csv(path + \"ratings.csv\", nrows = 10000)"
   ]
  },
  {
   "cell_type": "code",
   "execution_count": null,
   "metadata": {
    "collapsed": true
   },
   "outputs": [],
   "source": [
    "ratings.head(20)"
   ]
  },
  {
   "cell_type": "code",
   "execution_count": null,
   "metadata": {
    "collapsed": true
   },
   "outputs": [],
   "source": [
    "#Create variable \"count\" for number of ratings for each movie\n",
    "ratings = ratings.merge(ratings.groupby(\"movieId\").size().reset_index(name='count'), how='right', on='movieId')"
   ]
  },
  {
   "cell_type": "code",
   "execution_count": null,
   "metadata": {
    "collapsed": true
   },
   "outputs": [],
   "source": [
    "#Drop any movies that have 17 or fewer ratings\n",
    "ratings = ratings[ratings[\"count\"]>17].sort_values(['userId', 'movieId'])"
   ]
  },
  {
   "cell_type": "code",
   "execution_count": null,
   "metadata": {
    "collapsed": true,
    "scrolled": true
   },
   "outputs": [],
   "source": [
    "#Find the minimum number of movies reviewed by a user\n",
    "reviews_per_user = ratings.groupby(\"userId\").userId.apply(lambda x: len(x))\n",
    "reviews_per_user.describe().min()"
   ]
  },
  {
   "cell_type": "code",
   "execution_count": null,
   "metadata": {
    "collapsed": true
   },
   "outputs": [],
   "source": [
    "#Generate user-movie matrix with ratings as its values\n",
    "user_c = CategoricalDtype(sorted(ratings.userId.unique()), ordered=True)\n",
    "movie_c = CategoricalDtype(sorted(ratings.movieId.unique()), ordered=True)\n",
    "\n",
    "row = ratings.userId.astype(user_c).cat.codes\n",
    "col = ratings.movieId.astype(movie_c).cat.codes\n",
    "sparse_matrix = csr_matrix((ratings['rating'], (row, col)), \\\n",
    "                           shape=(user_c.categories.size, movie_c.categories.size))\n",
    "\n"
   ]
  },
  {
   "cell_type": "code",
   "execution_count": null,
   "metadata": {
    "collapsed": true
   },
   "outputs": [],
   "source": [
    "df.head()"
   ]
  },
  {
   "cell_type": "code",
   "execution_count": null,
   "metadata": {
    "collapsed": true
   },
   "outputs": [],
   "source": [
    "\"\"\"#Change to dense for viewing its data\n",
    "dense = sparse_matrix.todense()\n",
    "\"\"\""
   ]
  },
  {
   "cell_type": "code",
   "execution_count": null,
   "metadata": {
    "collapsed": true
   },
   "outputs": [],
   "source": [
    "#Initialize nearest neighbors model\n",
    "neigh = NearestNeighbors(n_neighbors=1000, algorithm='brute', metric='cosine')"
   ]
  },
  {
   "cell_type": "code",
   "execution_count": null,
   "metadata": {
    "collapsed": true
   },
   "outputs": [],
   "source": [
    "#Fit on the movie ratings we have\n",
    "model = neigh.fit(sparse_matrix)"
   ]
  },
  {
   "cell_type": "code",
   "execution_count": null,
   "metadata": {
    "collapsed": true
   },
   "outputs": [],
   "source": [
    "m = pd.read_csv(path + \"movies.csv\")"
   ]
  },
  {
   "cell_type": "code",
   "execution_count": null,
   "metadata": {
    "collapsed": true
   },
   "outputs": [],
   "source": [
    "m.head()"
   ]
  },
  {
   "cell_type": "code",
   "execution_count": null,
   "metadata": {
    "collapsed": true
   },
   "outputs": [],
   "source": [
    "def movies_not_seen(df, user_id, matrix, movie_c):\n",
    "    \"\"\"\n",
    "    Determine what movies a user has not seen; \n",
    "    i.e. potential movies to recommend\n",
    "    \n",
    "    Parameters:\n",
    "        df (DataFrame): Dataframe of movies with their titles and genres\n",
    "        user_id (int): id for user we want to recommend something to\n",
    "        matrix (csr matrix): user-movie matrix of movie ratings\n",
    "        \n",
    "    Returns:\n",
    "        new (csr matrix): the columns of matrix corresponding to the movies\n",
    "                          that user_id hasn't seen\n",
    "        not_seen (list): the indices of the movies in the user-movie matrix\n",
    "                         that user_id hasn't seen\n",
    "    \"\"\"\n",
    "    #get the movies the user has seen\n",
    "    movieids_seen = df[df.userId == user_id].movieId.values\n",
    "    \n",
    "    #mask is the indices of the movies that userid has seen in the user-movie matrix\n",
    "    mask = []\n",
    "    for i, j in enumerate(movie_c.categories):\n",
    "        if j in df[df.userId == user_id].movieId.values:\n",
    "            mask.append(i)\n",
    "            \n",
    "    #use the mask to get the indices of the movies userid hasn't seen\n",
    "    not_seen = list(set(range(len(movie_c.categories))) - set(mask))\n",
    "    \n",
    "    #cut out the movies (columns) userid has seen from our matrix\n",
    "    new = matrix[:,not_seen]\n",
    "    \n",
    "    return new, not_seen\n",
    "\n",
    "def count_not_seen(df, movie_c, not_seen, indices):\n",
    "    \"\"\"\n",
    "    This function returns the number a times a movie not seen by the user was seen by the user's nearest neighbors\n",
    "    Input:\n",
    "    Output\n",
    "    \"\"\"\n",
    "    #find how many times each movie has been rated by the neighbors\n",
    "    ratings_count = []\n",
    "    #Loop through the movie_ids not seen by our user\n",
    "    for movie_id in np.array(movie_c.categories)[not_seen]:\n",
    "        count = 0\n",
    "        #Loop through the user_ids of our user's neighbor\n",
    "        for id_ in indices + 1:\n",
    "            #Check if the userId has rated the movie\n",
    "            if movie_id in df[df.userId == id_].movieId.values:\n",
    "                count += 1\n",
    "        ratings_count.append(count)\n",
    "    return np.array(ratings_count)\n",
    "\n",
    "def knn_recommend_movies(df, matrix, fitted_model, user_id, n, movie_c):\n",
    "    \"\"\"\n",
    "    This function uses the K-nearest neighbors algorithm to suggest a movie for the user to watch.\n",
    "    \n",
    "    Inputs:\n",
    "    df: sparse dataframe containing user and movie information. Contains columns user_id, movie_id, rating\n",
    "    matrix: sparse matrix containing user_id on the y axis and movie_id on the x_axis, with the rating for each movie in the rows\n",
    "    fitted_model: the type on model we run this clustering method on  \n",
    "    user_id: the user we want to recommend a movie for\n",
    "    n: number of movies to recommend (MAY NOT USE_ CHECK BEFORE FINAL)\n",
    "    \n",
    "    Outputs: \n",
    "    movie_id, title. The id number and title of the recommended movie\n",
    "    \"\"\"\n",
    "    alpha=1      #we recommend 1 movie \n",
    "    new, not_seen = movies_not_seen(df, user_id, matrix, movie_c)\n",
    "    \n",
    "    #Initialize nearest neighbors model\n",
    "    neigh = NearestNeighbors(n_neighbors=1000, algorithm='brute', metric='cosine')\n",
    "    #Fit on the movie ratings we have\n",
    "    model = neigh.fit(sparse_matrix)\n",
    "    \n",
    "    #get the indices for nearest neighbors of userId\n",
    "    indices = fitted_model.kneighbors(matrix[user_id-1], 3)[1][0]\n",
    "    \n",
    "    #neighbors is the actual rows of the matrix with each neighbors ratings\n",
    "    neighbors = new[indices].todense()\n",
    "\n",
    "    #find how many times each movie has been rated by the neighbors\n",
    "    ratings_count = count_not_seen(df, movie_c, not_seen, indices)\n",
    "    \n",
    "    #Choose the movie to recommend (weight frequently-seen-movies higher)\n",
    "    position = np.argmax(np.mean(neighbors - 2.5, axis=0)*alpha*ratings_count.reshape((-1,1)))\n",
    "    \n",
    "    #get the movieid from the matrix column value\n",
    "    movie_id = np.array(movie_c.categories)[not_seen][position]\n",
    "    print('movie_id',movie_id)\n",
    "    return movie_id, m[m.movieId == movie_id].title"
   ]
  },
  {
   "cell_type": "code",
   "execution_count": null,
   "metadata": {
    "collapsed": true,
    "scrolled": false
   },
   "outputs": [],
   "source": [
    "#FIXME: SPARSE MATRIX IS FILLED WITH 0 NOT 2.5\n",
    "print(knn_recommend_movies(df, sparse_matrix, model, 12, 1, movie_c))"
   ]
  },
  {
   "cell_type": "code",
   "execution_count": null,
   "metadata": {
    "collapsed": true
   },
   "outputs": [],
   "source": [
    "x = np.array([[1,1,.5],\n",
    "        [1,6,2],\n",
    "        [2,7,4],\n",
    "        [3,2,4.5],\n",
    "        [3,3,3],\n",
    "        [3,4,1],\n",
    "        [4,1,2],\n",
    "        [5,4,1.5],\n",
    "        [6,3,5],\n",
    "        [7,10,4.5],\n",
    "        [8,5,4.5],\n",
    "        [9,8,.5],\n",
    "        [9,9,1.5],\n",
    "        [10,3,3.5]])\n",
    "df = pd.DataFrame(x,columns=['userId','movieId','rating'])\n",
    "\n",
    "user_c = CategoricalDtype(sorted(df.userId.unique()), ordered=True)\n",
    "movie_c = CategoricalDtype(sorted(df.movieId.unique()), ordered=True)\n",
    "\n",
    "row = df.userId.astype(user_c).cat.codes\n",
    "col = df.movieId.astype(movie_c).cat.codes\n",
    "sparse_matrix = csr_matrix((df['rating'], (row, col)), \\\n",
    "                           shape=(user_c.categories.size, movie_c.categories.size))\n",
    "\n",
    "dense = sparse_matrix.todense()"
   ]
  },
  {
   "cell_type": "code",
   "execution_count": null,
   "metadata": {
    "collapsed": true
   },
   "outputs": [],
   "source": [
    "def model(avg_rating, score_from_model, recommend = False):\n",
    "    recommended_score = avg_rating + score_from_model\n",
    "    if recommended_score >= 3.5:\n",
    "        recommend = True\n",
    "    pass"
   ]
  },
  {
   "cell_type": "code",
   "execution_count": null,
   "metadata": {
    "collapsed": true
   },
   "outputs": [],
   "source": [
    "def knn_recommend_movies_old(df, matrix, fitted_model, user_id, n):\n",
    "    \"\"\"\n",
    "    This function uses the K-nearest neighbors algorithm to suggest a movie for the user to watch.\n",
    "    \n",
    "    Inputs:\n",
    "    df: sparse dataframe containing user and movie information. Contains columns user_id, movie_id, rating\n",
    "    matrix: sparse matrix containing user_id on the y axis and movie_id on the x_axis, with the rating for each movie in the rows\n",
    "    fitted_model: the type on model we run this clustering method on  \n",
    "    user_id: the user we want to recommend a movie for\n",
    "    n: number of movies to recommend (MAY NOT USE_ CHECK BEFORE FINAL)\n",
    "    \n",
    "    Outputs: \n",
    "    movie_id, title. The id number and title of the recommended movie\n",
    "    \"\"\"\n",
    "    alpha=1\n",
    "    movieids_seen = df[df.userId == user_id].movieId.values\n",
    "    #mask is the indices of the movies that userid has seen in the user-movie matrix\n",
    "    mask = []\n",
    "    for i, j in enumerate(movie_c.categories):\n",
    "        if j in df[df.userId == user_id].movieId.values:\n",
    "            mask.append(i)\n",
    "    #use the mask to get the indices of the movies userid hasn't seen\n",
    "    not_seen = list(set(range(len(movie_c.categories))) - set(mask))\n",
    "    #cut out the movies (columns) userid has seen from our matrix\n",
    "    new = matrix[:,not_seen]\n",
    "    #get the indices for nearest neighbors of userId\n",
    "    indices = fitted_model.kneighbors(matrix[user_id-1], 3)[1][0]\n",
    "    #neighbors is the actual rows of the matrix with each neighbors ratings\n",
    "    neighbors = new[indices].todense()\n",
    "    #find how many times each movie has been rated by the neighbors\n",
    "    neigh_movies = []\n",
    "\n",
    "    #find how many times each movie has been rated by the neighbors\n",
    "    ratings_count = []\n",
    "    #Loop through the movie_ids not seen by our user\n",
    "    for movie_id in np.array(movie_c.categories)[not_seen]:\n",
    "        count = 0\n",
    "        #Loop through the user_ids of our user's neighbor\n",
    "        for id_ in indices + 1:\n",
    "            #Check if the userId has rated the movie\n",
    "            if movie_id in df[df.userId == id_].movieId.values:\n",
    "                count += 1\n",
    "        ratings_count.append(count)\n",
    "    ratings_count = np.array(ratings_count)\n",
    "    #Choose the movie to recommend (weight frequently-seen-movies higher)\n",
    "    position = np.argmax(np.mean(neighbors - 2.5, axis=0)*alpha*ratings_count.reshape((-1,1)))\n",
    "    #get the movieid from the matrix column value\n",
    "    movie_id = np.array(movie_c.categories)[not_seen][position]\n",
    "    print('movie_id',movie_id)\n",
    "    return movie_id, m[m.movieId == movie_id].title\n",
    "\n",
    "print(knn_recommend_movies_old(df, sparse_matrix, model, 12, 1))"
   ]
  },
  {
   "cell_type": "code",
   "execution_count": null,
   "metadata": {
    "collapsed": true
   },
   "outputs": [],
   "source": []
  },
  {
   "cell_type": "markdown",
   "metadata": {},
   "source": [
    "## inherit from sklearn?\n",
    " - Scoring Accuracy:\n",
    " - predict for every movie of the user (binary recommend/do not recommend)\n",
    " - that will be your 'x test'\n",
    " - create a 'y test' that gives if the user liked each movie or not\n",
    " - percent correctly predicted."
   ]
  },
  {
   "cell_type": "markdown",
   "metadata": {},
   "source": [
    "## KMeans - Clustering Users"
   ]
  },
  {
   "cell_type": "markdown",
   "metadata": {},
   "source": [
    "Method for predicting user $i$'s movie rating for movie $j$:\n",
    "\n",
    "$\\bar{u}_i:$ User $i$'s average movie rating\n",
    "\n",
    "$\\bar{m}_j:$ Cluster's average rating for movie $j$\n",
    "\n",
    "$\\bar{c}:$ Cluster's average movie rating\n",
    "\n",
    "$C:$ Cluster corresponding to user $i$\n",
    "\n",
    "$M:$ All movies\n",
    "\n",
    "$\\gamma_j : \\frac{\\sum_{i\\in C}{\\mathbbm{1}(r_{i,j})}}{\\sum_{i\\in C, k\\in M}\\mathbbm{1}(r_{i,k})}$\n",
    "\n",
    "$$prediction_{i,j} = \\bar{u}_i + (\\bar{m}_j - \\bar{c})*\\frac{\\gamma_j}{\\max_{k\\in M}{\\gamma_k}} $$\n",
    "\n"
   ]
  },
  {
   "cell_type": "code",
   "execution_count": 2,
   "metadata": {
    "collapsed": true
   },
   "outputs": [],
   "source": [
    "def KMeans_Predict(model, df):\n",
    "    \"\"\"\n",
    "    Use a fitted KMeans clustering model to predict a user's movie rating\n",
    "    \n",
    "    Parameter:\n",
    "        model (): Fitted KMeans Model\n",
    "        df (Sparse DataFrame): user-movie rating sparse dataframe\n",
    "    \n",
    "    Returns:\n",
    "        df (DataFrame): New Dataframe with NaNs filled with predicted ratings\n",
    "        test (DataFrame): Dataframe for testing that includes predictions rather\n",
    "                          than any actual ratings.\n",
    "    \"\"\"\n",
    "    #Assign clusters\n",
    "    df['cluster'] = model.labels_\n",
    "    #Find the proportion of ratings given for each movie by cluster\n",
    "    share_df = df.groupby(['cluster']).count()/df.groupby(['cluster']).count().sum(1).values.reshape((-1,1)) #SHARE\n",
    "    #Find the average rating for each movie by cluster\n",
    "    cluster_avgs_df = df.groupby([\"cluster\"]).mean()  #m_bar\n",
    "    #Define the average movie rating over all movies by user\n",
    "    df['avg'] = df.mean(1)                            #u_bar\n",
    "    #Find the average movie rating over all movies by cluster\n",
    "    cluster_avgs = df.groupby([\"cluster\"]).mean().avg #c_bar\n",
    "    #Calculate the adjustment for predicting purposes\n",
    "    diff_df = (cluster_avgs_df - cluster_avgs.values.values.reshape((-1,1)))*(share_df/share_df.max(0))\n",
    "    #If no one in cluster has seen the movie, adjustment is zero\n",
    "    diff_df = diff_df.fillna(0)\n",
    "    #Make the diff_df same size as df\n",
    "    update_df = df[['cluster']].reset_index().merge(diff_df, how='left', on='cluster').set_index('index')\n",
    "    #Add the adjustment to each user's avg movie rating\n",
    "    update_df = update_df.iloc[:,1:].apply(lambda x: x + df.avg)\n",
    "    #Fill the NaNs with the predictions\n",
    "    df.update(update_df, overwrite=False)\n",
    "    \n",
    "    return df, update_df\n",
    "\n",
    "def Test_KMeans(updated, predictions):\n",
    "    return ((updated - predictions)**2).sum().sum()\n",
    "\n",
    "def standardize(df):\n",
    "    #Only pass in columns of movie_IDs to standardize movie ratings for\n",
    "    #Wouldn't want to change clusters\n",
    "    clipped = df.clip(.5, 5)\n",
    "    return clipped.apply(lambda x: round(2*x)/2)\n",
    "    "
   ]
  },
  {
   "cell_type": "code",
   "execution_count": 3,
   "metadata": {
    "collapsed": true
   },
   "outputs": [],
   "source": [
    "path = \"/Users/benchristensen/Desktop/Recommneder_System_Project/ml-20m/\"\n",
    "ratings = pd.read_csv(path + \"ratings.csv\", nrows = 10000)\n",
    "#Generate user-movie matrix with ratings as its values\n",
    "user_c = CategoricalDtype(sorted(ratings.userId.unique()), ordered=True)\n",
    "movie_c = CategoricalDtype(sorted(ratings.movieId.unique()), ordered=True)\n",
    "\n",
    "row = ratings.userId.astype(user_c).cat.codes\n",
    "col = ratings.movieId.astype(movie_c).cat.codes\n",
    "sparse_matrix = csr_matrix((ratings['rating'], (row, col)), \\\n",
    "                           shape=(user_c.categories.size, movie_c.categories.size))"
   ]
  },
  {
   "cell_type": "code",
   "execution_count": 4,
   "metadata": {
    "collapsed": true
   },
   "outputs": [],
   "source": [
    "#Create sparse dataframe from user-movie matrix\n",
    "dfs = pd.SparseDataFrame(sparse_matrix, \\\n",
    "                         index=user_c.categories, \\\n",
    "                         columns=movie_c.categories) #,\n",
    "                         #default_fill_value=2.5)\n",
    "#Initialize KMeans model\n",
    "##Kmeans can't be performed in SciKitLearn on data with missing values\n",
    "##So we fill NA with 2.5 to find the clusters\n",
    "KM_model = KMeans(n_clusters=5).fit(dfs.fillna(2.5))\n",
    "KM_model.labels_\n",
    "df = dfs.copy()"
   ]
  },
  {
   "cell_type": "code",
   "execution_count": 6,
   "metadata": {
    "collapsed": true
   },
   "outputs": [],
   "source": [
    "new, test = KMeans_Predict(KM_model, df)\n",
    "SSR = Test_KMeans(new, test)"
   ]
  },
  {
   "cell_type": "code",
   "execution_count": 13,
   "metadata": {},
   "outputs": [
    {
     "name": "stdout",
     "output_type": "stream",
     "text": [
      "Sum of squared residuals: 5035.22465712373\n"
     ]
    }
   ],
   "source": [
    "print(\"Sum of squared residuals:\", SSR)"
   ]
  },
  {
   "cell_type": "code",
   "execution_count": null,
   "metadata": {
    "collapsed": true
   },
   "outputs": [],
   "source": []
  }
 ],
 "metadata": {
  "kernelspec": {
   "display_name": "Python 3",
   "language": "python",
   "name": "python3"
  },
  "language_info": {
   "codemirror_mode": {
    "name": "ipython",
    "version": 3
   },
   "file_extension": ".py",
   "mimetype": "text/x-python",
   "name": "python",
   "nbconvert_exporter": "python",
   "pygments_lexer": "ipython3",
   "version": "3.6.8"
  }
 },
 "nbformat": 4,
 "nbformat_minor": 2
}
