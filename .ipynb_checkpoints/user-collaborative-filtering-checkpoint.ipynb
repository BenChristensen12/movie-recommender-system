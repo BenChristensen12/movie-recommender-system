{
 "cells": [
  {
   "cell_type": "code",
   "execution_count": 1,
   "metadata": {
    "collapsed": true
   },
   "outputs": [],
   "source": [
    "import pandas as pd\n",
    "from scipy import linalg as la\n",
    "import numpy as np\n",
    "from scipy.sparse import csr_matrix\n",
    "from pandas.api.types import CategoricalDtype\n",
    "from sklearn.neighbors import NearestNeighbors\n",
    "from scipy.sparse import linalg as spla"
   ]
  },
  {
   "cell_type": "code",
   "execution_count": 2,
   "metadata": {
    "collapsed": true
   },
   "outputs": [],
   "source": [
    "#Benjamin's path: path = \"/Users/Armen/Desktop/SpringDataProject/\"\n",
    "#Ben C's path:\n",
    "path = \"/Users/benchristensen/Desktop/Recommneder_System_Project/ml-20m/\"\n",
    "r = pd.read_csv(path + \"ratings.csv\", nrows = 10000)"
   ]
  },
  {
   "cell_type": "code",
   "execution_count": 3,
   "metadata": {
    "collapsed": true
   },
   "outputs": [],
   "source": [
    "#Create variable \"count\" for number of ratings for each movie\n",
    "merged = r.merge(r.groupby(\"movieId\").size().reset_index(name='count'), how='right', on='movieId')"
   ]
  },
  {
   "cell_type": "code",
   "execution_count": 4,
   "metadata": {
    "scrolled": true
   },
   "outputs": [],
   "source": [
    "#Find the minimum number of movies reviewed by a user\n",
    "reviews_per_user = merged.groupby(\"userId\").userId.apply(lambda x: len(x))\n"
   ]
  },
  {
   "cell_type": "code",
   "execution_count": 5,
   "metadata": {},
   "outputs": [
    {
     "data": {
      "text/plain": [
       "20.0"
      ]
     },
     "execution_count": 5,
     "metadata": {},
     "output_type": "execute_result"
    }
   ],
   "source": [
    "reviews_per_user.describe().min()"
   ]
  },
  {
   "cell_type": "code",
   "execution_count": 6,
   "metadata": {
    "collapsed": true
   },
   "outputs": [],
   "source": [
    "#Drop any movies that have 17 or fewer ratings\n",
    "df = merged[merged[\"count\"]>17].sort_values(['userId', 'movieId'])"
   ]
  },
  {
   "cell_type": "code",
   "execution_count": 7,
   "metadata": {
    "collapsed": true
   },
   "outputs": [],
   "source": [
    "#Generate user-movie matrix with ratings as its values\n",
    "user_c = CategoricalDtype(sorted(df.userId.unique()), ordered=True)\n",
    "movie_c = CategoricalDtype(sorted(df.movieId.unique()), ordered=True)\n",
    "\n",
    "row = df.userId.astype(user_c).cat.codes\n",
    "col = df.movieId.astype(movie_c).cat.codes\n",
    "sparse_matrix = csr_matrix((df['rating'], (row, col)), \\\n",
    "                           shape=(user_c.categories.size, movie_c.categories.size))\n",
    "\n"
   ]
  },
  {
   "cell_type": "code",
   "execution_count": 8,
   "metadata": {
    "collapsed": true
   },
   "outputs": [],
   "source": [
    "#Change to dense for viewing its data\n",
    "dense = sparse_matrix.todense()"
   ]
  },
  {
   "cell_type": "code",
   "execution_count": 9,
   "metadata": {},
   "outputs": [
    {
     "data": {
      "text/plain": [
       "(89, 74)"
      ]
     },
     "execution_count": 9,
     "metadata": {},
     "output_type": "execute_result"
    }
   ],
   "source": [
    "dense.shape"
   ]
  },
  {
   "cell_type": "code",
   "execution_count": 10,
   "metadata": {
    "collapsed": true
   },
   "outputs": [],
   "source": [
    "#Create sparse dataframe from user-movie matrix\n",
    "dfs = pd.SparseDataFrame(sparse_matrix, \\\n",
    "                         index=user_c.categories, \\\n",
    "                         columns=movie_c.categories, \\\n",
    "                         default_fill_value=2.5)"
   ]
  },
  {
   "cell_type": "code",
   "execution_count": 11,
   "metadata": {
    "collapsed": true
   },
   "outputs": [],
   "source": [
    "#Initialize nearest neighbors model\n",
    "neigh = NearestNeighbors(n_neighbors=1000, algorithm='brute', metric='cosine')"
   ]
  },
  {
   "cell_type": "code",
   "execution_count": 12,
   "metadata": {
    "collapsed": true
   },
   "outputs": [],
   "source": [
    "#Fit on the movie ratings we have\n",
    "model = neigh.fit(sparse_matrix)"
   ]
  },
  {
   "cell_type": "code",
   "execution_count": 13,
   "metadata": {
    "collapsed": true
   },
   "outputs": [],
   "source": [
    "m = pd.read_csv(path + \"movies.csv\")"
   ]
  },
  {
   "cell_type": "code",
   "execution_count": 14,
   "metadata": {},
   "outputs": [
    {
     "data": {
      "text/html": [
       "<div>\n",
       "<style scoped>\n",
       "    .dataframe tbody tr th:only-of-type {\n",
       "        vertical-align: middle;\n",
       "    }\n",
       "\n",
       "    .dataframe tbody tr th {\n",
       "        vertical-align: top;\n",
       "    }\n",
       "\n",
       "    .dataframe thead th {\n",
       "        text-align: right;\n",
       "    }\n",
       "</style>\n",
       "<table border=\"1\" class=\"dataframe\">\n",
       "  <thead>\n",
       "    <tr style=\"text-align: right;\">\n",
       "      <th></th>\n",
       "      <th>movieId</th>\n",
       "      <th>title</th>\n",
       "      <th>genres</th>\n",
       "    </tr>\n",
       "  </thead>\n",
       "  <tbody>\n",
       "    <tr>\n",
       "      <th>0</th>\n",
       "      <td>1</td>\n",
       "      <td>Toy Story (1995)</td>\n",
       "      <td>Adventure|Animation|Children|Comedy|Fantasy</td>\n",
       "    </tr>\n",
       "    <tr>\n",
       "      <th>1</th>\n",
       "      <td>2</td>\n",
       "      <td>Jumanji (1995)</td>\n",
       "      <td>Adventure|Children|Fantasy</td>\n",
       "    </tr>\n",
       "    <tr>\n",
       "      <th>2</th>\n",
       "      <td>3</td>\n",
       "      <td>Grumpier Old Men (1995)</td>\n",
       "      <td>Comedy|Romance</td>\n",
       "    </tr>\n",
       "    <tr>\n",
       "      <th>3</th>\n",
       "      <td>4</td>\n",
       "      <td>Waiting to Exhale (1995)</td>\n",
       "      <td>Comedy|Drama|Romance</td>\n",
       "    </tr>\n",
       "    <tr>\n",
       "      <th>4</th>\n",
       "      <td>5</td>\n",
       "      <td>Father of the Bride Part II (1995)</td>\n",
       "      <td>Comedy</td>\n",
       "    </tr>\n",
       "  </tbody>\n",
       "</table>\n",
       "</div>"
      ],
      "text/plain": [
       "   movieId                               title  \\\n",
       "0        1                    Toy Story (1995)   \n",
       "1        2                      Jumanji (1995)   \n",
       "2        3             Grumpier Old Men (1995)   \n",
       "3        4            Waiting to Exhale (1995)   \n",
       "4        5  Father of the Bride Part II (1995)   \n",
       "\n",
       "                                        genres  \n",
       "0  Adventure|Animation|Children|Comedy|Fantasy  \n",
       "1                   Adventure|Children|Fantasy  \n",
       "2                               Comedy|Romance  \n",
       "3                         Comedy|Drama|Romance  \n",
       "4                                       Comedy  "
      ]
     },
     "execution_count": 14,
     "metadata": {},
     "output_type": "execute_result"
    }
   ],
   "source": [
    "m.head()"
   ]
  },
  {
   "cell_type": "code",
   "execution_count": 22,
   "metadata": {},
   "outputs": [],
   "source": [
    "def movies_not_seen(df, user_id, matrix, movie_c):\n",
    "    \"\"\"\n",
    "    This function determines what movies a user has not seen; i.e. potential movies to recommend\n",
    "    Inputs:\n",
    "    df: movie dataframe\n",
    "    user_id: user we want to recommend something to\n",
    "    matrix: \n",
    "    Outputs:\n",
    "    \"\"\"\n",
    "    #get the movies the user has seen\n",
    "    movieids_seen = df[df.userId == user_id].movieId.values\n",
    "    \n",
    "    #mask is the indices of the movies that userid has seen in the user-movie matrix\n",
    "    mask = []\n",
    "    for i, j in enumerate(movie_c.categories):\n",
    "        if j in df[df.userId == user_id].movieId.values:\n",
    "            mask.append(i)\n",
    "            \n",
    "    #use the mask to get the indices of the movies userid hasn't seen\n",
    "    not_seen = list(set(range(len(movie_c.categories))) - set(mask))\n",
    "    \n",
    "    #cut out the movies (columns) userid has seen from our matrix\n",
    "    new = matrix[:,not_seen]\n",
    "    \n",
    "    return new, not_seen\n",
    "\n",
    "def count_not_seen(df, movie_c, not_seen, indices):\n",
    "    \"\"\"\n",
    "    This function returns the number a times a movie not seen by the user was seen by the user's nearest neighbors\n",
    "    Input:\n",
    "    Output\n",
    "    \"\"\"\n",
    "    #find how many times each movie has been rated by the neighbors\n",
    "    ratings_count = []\n",
    "    #Loop through the movie_ids not seen by our user\n",
    "    for movie_id in np.array(movie_c.categories)[not_seen]:\n",
    "        count = 0\n",
    "        #Loop through the user_ids of our user's neighbor\n",
    "        for id_ in indices + 1:\n",
    "            #Check if the userId has rated the movie\n",
    "            if movie_id in df[df.userId == id_].movieId.values:\n",
    "                count += 1\n",
    "        ratings_count.append(count)\n",
    "    return np.array(ratings_count)\n",
    "\n",
    "def knn_recommend_movies(df, matrix, fitted_model, user_id, n, movie_c):\n",
    "    \"\"\"\n",
    "    This function uses the K-nearest neighbors algorithm to suggest a movie for the user to watch.\n",
    "    \n",
    "    Inputs:\n",
    "    df: sparse dataframe containing user and movie information. Contains columns user_id, movie_id, rating\n",
    "    matrix: sparse matrix containing user_id on the y axis and movie_id on the x_axis, with the rating for each movie in the rows\n",
    "    fitted_model: the type on model we run this clustering method on  \n",
    "    user_id: the user we want to recommend a movie for\n",
    "    n: number of movies to recommend (MAY NOT USE_ CHECK BEFORE FINAL)\n",
    "    \n",
    "    Outputs: \n",
    "    movie_id, title. The id number and title of the recommended movie\n",
    "    \"\"\"\n",
    "    alpha=1      #we recommend 1 movie \n",
    "    new, not_seen = movies_not_seen(df, user_id, matrix, movie_c)\n",
    "    \n",
    "    #Initialize nearest neighbors model\n",
    "    neigh = NearestNeighbors(n_neighbors=1000, algorithm='brute', metric='cosine')\n",
    "    #Fit on the movie ratings we have\n",
    "    model = neigh.fit(sparse_matrix)\n",
    "    \n",
    "    #get the indices for nearest neighbors of userId\n",
    "    indices = fitted_model.kneighbors(matrix[user_id-1], 3)[1][0]\n",
    "    \n",
    "    #neighbors is the actual rows of the matrix with each neighbors ratings\n",
    "    neighbors = new[indices].todense()\n",
    "\n",
    "    #find how many times each movie has been rated by the neighbors\n",
    "    ratings_count = count_not_seen(df, movie_c, not_seen, indices)\n",
    "    \n",
    "    #Choose the movie to recommend (weight frequently-seen-movies higher)\n",
    "    position = np.argmax(np.mean(neighbors - 2.5, axis=0)*alpha*ratings_count.reshape((-1,1)))\n",
    "    \n",
    "    #get the movieid from the matrix column value\n",
    "    movie_id = np.array(movie_c.categories)[not_seen][position]\n",
    "    print('movie_id',movie_id)\n",
    "    return movie_id, m[m.movieId == movie_id].title"
   ]
  },
  {
   "cell_type": "code",
   "execution_count": 23,
   "metadata": {
    "scrolled": false
   },
   "outputs": [
    {
     "name": "stdout",
     "output_type": "stream",
     "text": [
      "<class 'scipy.sparse.csr.csr_matrix'>\n",
      "movie_id 21\n",
      "(21, 20    Get Shorty (1995)\n",
      "Name: title, dtype: object)\n"
     ]
    }
   ],
   "source": [
    "print(knn_recommend_movies(df, sparse_matrix, model, 12, 1, movie_c))"
   ]
  },
  {
   "cell_type": "code",
   "execution_count": null,
   "metadata": {
    "collapsed": true
   },
   "outputs": [],
   "source": [
    "x = np.array([[1,1,.5],\n",
    "        [1,6,2],\n",
    "        [2,7,4],\n",
    "        [3,2,4.5],\n",
    "        [3,3,3],\n",
    "        [3,4,1],\n",
    "        [4,1,2],\n",
    "        [5,4,1.5],\n",
    "        [6,3,5],\n",
    "        [7,10,4.5],\n",
    "        [8,5,4.5],\n",
    "        [9,8,.5],\n",
    "        [9,9,1.5],\n",
    "        [10,3,3.5]])\n",
    "df = pd.DataFrame(x,columns=['userId','movieId','rating'])\n",
    "\n",
    "user_c = CategoricalDtype(sorted(df.userId.unique()), ordered=True)\n",
    "movie_c = CategoricalDtype(sorted(df.movieId.unique()), ordered=True)\n",
    "\n",
    "row = df.userId.astype(user_c).cat.codes\n",
    "col = df.movieId.astype(movie_c).cat.codes\n",
    "sparse_matrix = csr_matrix((df['rating'], (row, col)), \\\n",
    "                           shape=(user_c.categories.size, movie_c.categories.size))\n",
    "\n",
    "dense = sparse_matrix.todense()"
   ]
  },
  {
   "cell_type": "code",
   "execution_count": null,
   "metadata": {
    "collapsed": true
   },
   "outputs": [],
   "source": [
    "def model(avg_rating, score_from_model, recommend = False):\n",
    "    recommended_score = avg_rating + score_from_model\n",
    "    if recommended_score >= 3.5:\n",
    "        recommend = True\n",
    "    pass"
   ]
  },
  {
   "cell_type": "code",
   "execution_count": null,
   "metadata": {},
   "outputs": [],
   "source": [
    "def knn_recommend_movies_old(df, matrix, fitted_model, user_id, n):\n",
    "    \"\"\"\n",
    "    This function uses the K-nearest neighbors algorithm to suggest a movie for the user to watch.\n",
    "    \n",
    "    Inputs:\n",
    "    df: sparse dataframe containing user and movie information. Contains columns user_id, movie_id, rating\n",
    "    matrix: sparse matrix containing user_id on the y axis and movie_id on the x_axis, with the rating for each movie in the rows\n",
    "    fitted_model: the type on model we run this clustering method on  \n",
    "    user_id: the user we want to recommend a movie for\n",
    "    n: number of movies to recommend (MAY NOT USE_ CHECK BEFORE FINAL)\n",
    "    \n",
    "    Outputs: \n",
    "    movie_id, title. The id number and title of the recommended movie\n",
    "    \"\"\"\n",
    "    alpha=1\n",
    "    movieids_seen = df[df.userId == user_id].movieId.values\n",
    "    #mask is the indices of the movies that userid has seen in the user-movie matrix\n",
    "    mask = []\n",
    "    for i, j in enumerate(movie_c.categories):\n",
    "        if j in df[df.userId == user_id].movieId.values:\n",
    "            mask.append(i)\n",
    "    #use the mask to get the indices of the movies userid hasn't seen\n",
    "    not_seen = list(set(range(len(movie_c.categories))) - set(mask))\n",
    "    #cut out the movies (columns) userid has seen from our matrix\n",
    "    new = matrix[:,not_seen]\n",
    "    #get the indices for nearest neighbors of userId\n",
    "    indices = fitted_model.kneighbors(matrix[user_id-1], 3)[1][0]\n",
    "    #neighbors is the actual rows of the matrix with each neighbors ratings\n",
    "    neighbors = new[indices].todense()\n",
    "    #find how many times each movie has been rated by the neighbors\n",
    "    neigh_movies = []\n",
    "\n",
    "    #find how many times each movie has been rated by the neighbors\n",
    "    ratings_count = []\n",
    "    #Loop through the movie_ids not seen by our user\n",
    "    for movie_id in np.array(movie_c.categories)[not_seen]:\n",
    "        count = 0\n",
    "        #Loop through the user_ids of our user's neighbor\n",
    "        for id_ in indices + 1:\n",
    "            #Check if the userId has rated the movie\n",
    "            if movie_id in df[df.userId == id_].movieId.values:\n",
    "                count += 1\n",
    "        ratings_count.append(count)\n",
    "    ratings_count = np.array(ratings_count)\n",
    "    #Choose the movie to recommend (weight frequently-seen-movies higher)\n",
    "    position = np.argmax(np.mean(neighbors - 2.5, axis=0)*alpha*ratings_count.reshape((-1,1)))\n",
    "    #get the movieid from the matrix column value\n",
    "    movie_id = np.array(movie_c.categories)[not_seen][position]\n",
    "    print('movie_id',movie_id)\n",
    "    return movie_id, m[m.movieId == movie_id].title\n",
    "\n",
    "print(knn_recommend_movies_old(df, sparse_matrix, model, 12, 1))"
   ]
  },
  {
   "cell_type": "markdown",
   "metadata": {},
   "source": [
    "## inherit from sklearn?\n",
    " - Scoring Accuracy:\n",
    " - predict for every movie of the user (binary recommend/do not recommend)\n",
    " - that will be your 'x test'\n",
    " - create a 'y test' that gives if the user liked each movie or not\n",
    " - percent correctly predicted."
   ]
  },
  {
   "cell_type": "code",
   "execution_count": null,
   "metadata": {
    "collapsed": true
   },
   "outputs": [],
   "source": []
  }
 ],
 "metadata": {
  "kernelspec": {
   "display_name": "Python 3",
   "language": "python",
   "name": "python3"
  },
  "language_info": {
   "codemirror_mode": {
    "name": "ipython",
    "version": 3
   },
   "file_extension": ".py",
   "mimetype": "text/x-python",
   "name": "python",
   "nbconvert_exporter": "python",
   "pygments_lexer": "ipython3",
   "version": "3.6.8"
  }
 },
 "nbformat": 4,
 "nbformat_minor": 2
}
