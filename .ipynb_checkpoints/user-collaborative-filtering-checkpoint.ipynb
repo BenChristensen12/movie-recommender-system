{
 "cells": [
  {
   "cell_type": "markdown",
   "metadata": {},
   "source": [
    "## Movie Recommender System"
   ]
  },
  {
   "cell_type": "markdown",
   "metadata": {},
   "source": [
    "### KNNeighbors and KMeans"
   ]
  },
  {
   "cell_type": "code",
   "execution_count": 2,
   "metadata": {
    "collapsed": true
   },
   "outputs": [],
   "source": [
    "import pandas as pd\n",
    "from scipy import linalg as la\n",
    "import numpy as np\n",
    "from scipy.sparse import csr_matrix\n",
    "from pandas.api.types import CategoricalDtype\n",
    "from sklearn.neighbors import NearestNeighbors\n",
    "from sklearn.cluster import KMeans\n",
    "from scipy.sparse import linalg as spla\n",
    "from time import time"
   ]
  },
  {
   "cell_type": "markdown",
   "metadata": {},
   "source": [
    "### Notes\n",
    " - Create a graph showing the distribution of average ratings for all users\n",
    " - Maybe another graph grouped by clusters"
   ]
  },
  {
   "cell_type": "code",
   "execution_count": 22,
   "metadata": {
    "collapsed": true
   },
   "outputs": [],
   "source": [
    "#Benjamin's path: path = \"/Users/Armen/Desktop/SpringDataProject/\"\n",
    "#Ben C's path:\n",
    "path = \"/Users/benchristensen/Desktop/Recommneder_System_Project/ml-20m/\"\n",
    "ratings = pd.read_csv(path + \"ratings.csv\", nrows = 10000)"
   ]
  },
  {
   "cell_type": "code",
   "execution_count": 4,
   "metadata": {
    "collapsed": true
   },
   "outputs": [],
   "source": [
    "#Create variable \"count\" for number of ratings for each movie\n",
    "ratings = ratings.merge(ratings.groupby(\"movieId\").size().reset_index(name='count'), how='right', on='movieId')"
   ]
  },
  {
   "cell_type": "code",
   "execution_count": 5,
   "metadata": {
    "collapsed": true
   },
   "outputs": [],
   "source": [
    "#Drop any movies that have 17 or fewer ratings\n",
    "ratings = ratings[ratings[\"count\"]>17].sort_values(['userId', 'movieId'])"
   ]
  },
  {
   "cell_type": "code",
   "execution_count": 6,
   "metadata": {
    "scrolled": true
   },
   "outputs": [
    {
     "data": {
      "text/plain": [
       "1.0"
      ]
     },
     "execution_count": 6,
     "metadata": {},
     "output_type": "execute_result"
    }
   ],
   "source": [
    "#Find the minimum number of movies reviewed by a user\n",
    "reviews_per_user = ratings.groupby(\"userId\").userId.apply(lambda x: len(x))\n",
    "reviews_per_user.describe().min()"
   ]
  },
  {
   "cell_type": "markdown",
   "metadata": {},
   "source": [
    "## inherit from sklearn?\n",
    " - Scoring Accuracy:\n",
    " - predict for every movie of the user (binary recommend/do not recommend)\n",
    " - that will be your 'x test'\n",
    " - create a 'y test' that gives if the user liked each movie or not\n",
    " - percent correctly predicted."
   ]
  },
  {
   "cell_type": "markdown",
   "metadata": {},
   "source": [
    "## KMeans - Clustering Users"
   ]
  },
  {
   "cell_type": "markdown",
   "metadata": {},
   "source": [
    "Method for predicting user $i$'s movie rating for movie $j$:\n",
    "\n",
    "$P_{i, j}:$ Prediction for user $i$'s rating of movie $j$\n",
    "\n",
    "$\\bar{u}_i:$ User $i$'s average movie rating\n",
    "\n",
    "$\\bar{m}_j:$ Cluster's average rating for movie $j$\n",
    "\n",
    "$\\bar{c}:$ Cluster's average movie rating\n",
    "\n",
    "$C:$ Cluster corresponding to user $i$\n",
    "\n",
    "$M:$ All movies\n",
    "\n",
    "$\\mathbb{1}(r_{i,j}):$ A function indiciating if user $i$ has rated movie $j$ \n",
    "\n",
    "$\\gamma_j : \\frac{\\sum_{i\\in C}{\\mathbb{1}(r_{i,j})}}{\\sum_{i\\in C, k\\in M}\\mathbb{1}(r_{i,k})}$\n",
    "\n",
    "$$P_{i, j} = \\bar{u}_i + (\\bar{m}_j - \\bar{c})*\\frac{\\gamma_j}{\\max_{k\\in M}{\\gamma_k}} $$\n",
    "\n"
   ]
  },
  {
   "cell_type": "code",
   "execution_count": 19,
   "metadata": {
    "collapsed": true
   },
   "outputs": [],
   "source": [
    "def KMeans_Predict(model, df):\n",
    "    \"\"\"\n",
    "    Use a fitted KMeans clustering model to predict a user's movie rating\n",
    "    \n",
    "    Parameter:\n",
    "        model (): Fitted KMeans Model\n",
    "        df (Sparse DataFrame): user-movie rating sparse dataframe\n",
    "    \n",
    "    Returns:\n",
    "        df (DataFrame): New Dataframe with NaNs filled with predicted ratings\n",
    "        update_df (DataFrame): Dataframe for testing that includes predictions rather\n",
    "                              than any actual ratings.\n",
    "    \"\"\"\n",
    "    #Assign clusters\n",
    "    df['cluster'] = model.labels_\n",
    "    #Find the proportion of ratings given for each movie by cluster\n",
    "    share_df = df.groupby(['cluster']).count()/df.groupby(['cluster']).count().sum(1).values.reshape((-1,1)) #SHARE\n",
    "    #Find the average rating for each movie by cluster\n",
    "    cluster_avgs_df = df.groupby([\"cluster\"]).mean()  #m_bar\n",
    "    #Define the average movie rating over all movies by user\n",
    "    df['avg'] = df.mean(1)                            #u_bar\n",
    "    #Find the average movie rating over all movies by cluster\n",
    "    cluster_avgs = df.groupby([\"cluster\"]).mean().avg #c_bar\n",
    "    #Calculate the adjustment for predicting purposes\n",
    "    diff_df = (cluster_avgs_df - cluster_avgs.values.values.reshape((-1,1)))*(share_df/share_df.max(0))\n",
    "    #If no one in cluster has seen the movie, adjustment is zero\n",
    "    diff_df = diff_df.fillna(0)\n",
    "    #Make the diff_df same size as df\n",
    "    update_df = df[['cluster']].reset_index().merge(diff_df, how='left', on='cluster').set_index('index')\n",
    "    #Add the adjustment to each user's avg movie rating\n",
    "    update_df = update_df.iloc[:,1:].apply(lambda x: x + df.avg)\n",
    "    #Fill the NaNs with the predictions\n",
    "    df.update(update_df, overwrite=False)\n",
    "    \n",
    "    return df.iloc[:,:-2], update_df\n",
    "\n",
    "def Test_KMeans(updated, predictions):\n",
    "    #Find the sum of squared residuals REPLACE WITH ANOTHER LOSS METRIC? SOFTMAX??\n",
    "    residuals = updated - predictions\n",
    "    return ((residuals)**2).sum().sum() / (residuals!=0).sum().sum()\n",
    "\n",
    "def standardize(df):\n",
    "    \"\"\"\n",
    "    Change Predictions to standard movie rating format:\n",
    "        Only takes values 0.5, 1, 1.5, ..., 5.0\n",
    "        \n",
    "    Parameters:\n",
    "        df(Sparse Dataframe): user-movie rating dataframe\n",
    "        \n",
    "    Returns:\n",
    "        (Sparse Dataframe): Standardized user-movie rating dataframe\n",
    "    \"\"\"\n",
    "    #Only pass in columns of movie_IDs to standardize movie ratings for\n",
    "    #Wouldn't want to change clusters\n",
    "    clipped = df.clip(.5, 5)\n",
    "    return clipped.apply(lambda x: round(2*x)/2)\n",
    "    "
   ]
  },
  {
   "cell_type": "code",
   "execution_count": 4,
   "metadata": {
    "collapsed": true
   },
   "outputs": [],
   "source": [
    "path = \"/Users/benchristensen/Desktop/Recommneder_System_Project/ml-20m/\"\n",
    "ratings = pd.read_csv(path + \"ratings.csv\", nrows = 10000)\n",
    "#Generate user-movie matrix with ratings as its values\n",
    "user_c = CategoricalDtype(sorted(ratings.userId.unique()), ordered=True)\n",
    "movie_c = CategoricalDtype(sorted(ratings.movieId.unique()), ordered=True)\n",
    "\n",
    "row = ratings.userId.astype(user_c).cat.codes\n",
    "col = ratings.movieId.astype(movie_c).cat.codes\n",
    "sparse_matrix = csr_matrix((ratings['rating'], (row, col)), \\\n",
    "                           shape=(user_c.categories.size, movie_c.categories.size))"
   ]
  },
  {
   "cell_type": "code",
   "execution_count": 5,
   "metadata": {
    "collapsed": true
   },
   "outputs": [],
   "source": [
    "#Create sparse dataframe from user-movie matrix\n",
    "dfs = pd.SparseDataFrame(sparse_matrix, \\\n",
    "                         index=user_c.categories, \\\n",
    "                         columns=movie_c.categories) #,\n",
    "                         #default_fill_value=2.5)\n",
    "#Initialize KMeans model\n",
    "##Kmeans can't be performed in SciKitLearn on data with missing values\n",
    "##So we fill NA with 2.5 to find the clusters\n",
    "KM_model = KMeans(n_clusters=5).fit(dfs.fillna(2.5))\n",
    "KM_model.labels_\n",
    "df = dfs.copy()"
   ]
  },
  {
   "cell_type": "code",
   "execution_count": 6,
   "metadata": {
    "collapsed": true
   },
   "outputs": [],
   "source": [
    "KM_model = KMeans(n_clusters=5).fit(dfs.fillna(2.5))\n",
    "KM_model.labels_\n",
    "df = dfs.copy()"
   ]
  },
  {
   "cell_type": "code",
   "execution_count": 20,
   "metadata": {
    "collapsed": true
   },
   "outputs": [],
   "source": [
    "new, test = KMeans_Predict(KM_model, df)\n",
    "mse1 = Test_KMeans(new, test)\n",
    "mse2 = Test_KMeans(standardize(new), standardize(test))\n"
   ]
  },
  {
   "cell_type": "code",
   "execution_count": 21,
   "metadata": {
    "scrolled": true
   },
   "outputs": [
    {
     "name": "stdout",
     "output_type": "stream",
     "text": [
      "mean squared error: 0.018543372035064457\n",
      "mean squared error of standardized: 0.6335435779816514\n"
     ]
    }
   ],
   "source": [
    "print(\"mean squared error:\", mse1)\n",
    "print('mean squared error of standardized:', mse2)"
   ]
  },
  {
   "cell_type": "markdown",
   "metadata": {},
   "source": [
    "## KNN with cosine similarity"
   ]
  },
  {
   "cell_type": "code",
   "execution_count": 15,
   "metadata": {
    "collapsed": true
   },
   "outputs": [],
   "source": [
    "path = \"/Users/benchristensen/Desktop/Recommneder_System_Project/ml-20m/\"\n",
    "ratings = pd.read_csv(path + \"ratings.csv\", nrows = 10000)\n",
    "#Generate user-movie matrix with ratings as its values\n",
    "user_c = CategoricalDtype(sorted(ratings.userId.unique()), ordered=True)\n",
    "movie_c = CategoricalDtype(sorted(ratings.movieId.unique()), ordered=True)\n",
    "\n",
    "row = ratings.userId.astype(user_c).cat.codes\n",
    "col = ratings.movieId.astype(movie_c).cat.codes\n",
    "sparse_matrix = csr_matrix((ratings['rating'], (row, col)), \\\n",
    "                           shape=(user_c.categories.size, movie_c.categories.size))\n",
    "#Create sparse dataframe from user-movie matrix\n",
    "dfs = pd.SparseDataFrame(sparse_matrix, \\\n",
    "                         index=user_c.categories, \\\n",
    "                         columns=movie_c.categories) #,\n",
    "                         #default_fill_value=2.5)"
   ]
  },
  {
   "cell_type": "markdown",
   "metadata": {},
   "source": [
    "Cosine Similarity:\n",
    "\n",
    "\n",
    "$$sim(u, v) = \\frac{\\sum_i{(r_{ui}-\\bar{r_u})(r_{vi}-\\bar{r_v})}}{\\sqrt{\\sum_i{(r_{ui}-\\bar{r_u})^2}}\\sqrt{\\sum_i{(r_{vi}-\\bar{r_v})^2}}}$$"
   ]
  },
  {
   "cell_type": "code",
   "execution_count": 16,
   "metadata": {
    "collapsed": true
   },
   "outputs": [],
   "source": [
    "def cosine_similarity(u, v):\n",
    "    \"\"\"\n",
    "    Find the cosine similarity between two users given their \n",
    "        movie ratings.\n",
    "        \n",
    "    Parameters:\n",
    "        u (Series): user 'u' movie ratings\n",
    "        v (Series): user 'v' movie ratings\n",
    "        \n",
    "    Returns:\n",
    "        (float): cosine similarity between u and v\n",
    "    \"\"\"\n",
    "    #Demean the ratings\n",
    "    #    then fill NaN values with 0\n",
    "    #    this penalizes not seeing the same movies\n",
    "    u_hat = (u-u.mean()).fillna(0)\n",
    "    v_hat = (v-v.mean()).fillna(0)\n",
    "    \n",
    "    return np.sum(u_hat*v_hat)/(np.sqrt(np.sum(u_hat**2))*np.sqrt(np.sum(v_hat**2)))\n",
    "    "
   ]
  },
  {
   "cell_type": "markdown",
   "metadata": {},
   "source": [
    "Prediction using cosine similarity (Pham et. al):\n",
    "\n",
    "$P_{i, j}:$ Prediction for user $i$'s rating of movie $j$\n",
    "\n",
    "$r_{k,j}:$ User $k$'s rating of movie $j$ (Equal to $\\bar{r}_k$ if user $k$ hasn't rated movie $j$)\n",
    "\n",
    "$\\bar{r}_i:$ User $i$'s average movie rating\n",
    "\n",
    "$w_{i,k}:$ Cosine similarity between user $i$ and user $k$\n",
    "\n",
    "$N_i:$ The set of user $i$'s neighbors\n",
    "\n",
    "$$P_{i,j} = \\bar{r}_i + \\frac{\\sum_{k\\in N_i}{(r_{k,j}-\\bar{r}_k)w_{i,k}}}{\\sum_{k\\in N_i}{\\mid w_{i,k}\\mid}}    $$\n"
   ]
  },
  {
   "cell_type": "code",
   "execution_count": 125,
   "metadata": {
    "collapsed": true
   },
   "outputs": [],
   "source": [
    "def KNN_Predict(df, k):\n",
    "    \"\"\"\n",
    "    Peform K-Nearest Neighbors and use it to predict movie ratings\n",
    "    \n",
    "    Parameter:\n",
    "        df (Sparse DataFrame): user-movie rating sparse dataframe\n",
    "        k (int): Hyperparameter - the number of neighbors\n",
    "    \n",
    "    Returns:\n",
    "        df (DataFrame): New Dataframe with NaNs filled with predicted ratings\n",
    "        update_df (DataFrame): Dataframe for testing that includes predictions rather\n",
    "                              than any actual ratings.\n",
    "    \"\"\"\n",
    "    update_df = df.copy().to_dense()\n",
    "    for user_id in df.index:\n",
    "        user = df.loc[user_id]\n",
    "        #Find the cosine similarity for 'user' with every other user\n",
    "        similarities = df.apply(lambda row: cosine_similarity(row, user), axis=1)\n",
    "        similarity_df = pd.DataFrame(data={\"similarity\": similarities, \"idx\": similarities.index})\n",
    "        similarity_df.sort_values(\"similarity\", ascending = False, inplace=True)\n",
    "        #Find the k nearest neighbors\n",
    "        neighbors = similarity_df.iloc[1:k+1].idx.values\n",
    "        #Predict movie rating using eq. (4) from Pham et. al paper\n",
    "        predict = user.mean() + ((df.loc[neighbors] - df.loc[neighbors].mean(1).values.reshape((-1,1))) * similarity_df.iloc[1:k+1][\"similarity\"].values.values.reshape((-1,1))).sum()/similarity_df.iloc[1:k+1][\"similarity\"].abs().sum()  \n",
    "        update_df.loc[user_id] = predict\n",
    "    \n",
    "    df.update(update_df, overwrite=False)\n",
    "    return df, update_df"
   ]
  },
  {
   "cell_type": "code",
   "execution_count": 90,
   "metadata": {
    "collapsed": true
   },
   "outputs": [],
   "source": [
    "df = dfs.copy()"
   ]
  },
  {
   "cell_type": "code",
   "execution_count": 126,
   "metadata": {
    "collapsed": true
   },
   "outputs": [],
   "source": [
    "new, test = KNN_Predict(df, 5)"
   ]
  },
  {
   "cell_type": "code",
   "execution_count": 130,
   "metadata": {},
   "outputs": [
    {
     "name": "stdout",
     "output_type": "stream",
     "text": [
      "mean squared error: 94.4532967032967\n"
     ]
    }
   ],
   "source": [
    "mse = Test_KMeans(standardize(new), standardize(test))\n",
    "print(\"mean squared error:\", mse)"
   ]
  },
  {
   "cell_type": "code",
   "execution_count": 133,
   "metadata": {},
   "outputs": [
    {
     "name": "stdout",
     "output_type": "stream",
     "text": [
      "mean squared error: 91.78305731559963\n"
     ]
    }
   ],
   "source": [
    "mse = Test_KMeans(new, test)\n",
    "print(\"mean squared error:\", mse)"
   ]
  },
  {
   "cell_type": "markdown",
   "metadata": {},
   "source": [
    "## Selecting Hyperparameters"
   ]
  },
  {
   "cell_type": "code",
   "execution_count": null,
   "metadata": {
    "collapsed": true
   },
   "outputs": [],
   "source": []
  }
 ],
 "metadata": {
  "kernelspec": {
   "display_name": "Python 3",
   "language": "python",
   "name": "python3"
  },
  "language_info": {
   "codemirror_mode": {
    "name": "ipython",
    "version": 3
   },
   "file_extension": ".py",
   "mimetype": "text/x-python",
   "name": "python",
   "nbconvert_exporter": "python",
   "pygments_lexer": "ipython3",
   "version": "3.6.8"
  }
 },
 "nbformat": 4,
 "nbformat_minor": 2
}
