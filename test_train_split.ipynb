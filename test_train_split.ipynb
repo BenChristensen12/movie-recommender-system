{
 "cells": [
  {
   "cell_type": "code",
   "execution_count": 18,
   "metadata": {},
   "outputs": [],
   "source": [
    "import numpy as np\n",
    "from sklearn.model_selection import train_test_split\n",
    "from sklearn.metrics import mean_squared_error\n",
    "import pandas as pd\n",
    "from scipy import linalg as la\n",
    "from scipy import sparse\n",
    "from pandas.api.types import CategoricalDtype\n",
    "from scipy.sparse import linalg as spla"
   ]
  },
  {
   "cell_type": "code",
   "execution_count": 19,
   "metadata": {},
   "outputs": [],
   "source": [
    "#Benjamin's path: path = \"/Users/Armen/Desktop/SpringDataProject/\"\n",
    "#Ben C's path: path = \"/Users/benchristensen/Desktop/Recommneder_System_Project/ml-20m/\"\n",
    "path = \"/Users/Armen/Desktop/SpringDataProject/\"\n",
    "r = pd.read_csv(path+\"ratings.csv\",nrows=10000)"
   ]
  },
  {
   "cell_type": "code",
   "execution_count": 20,
   "metadata": {},
   "outputs": [],
   "source": [
    "#get only those movies with more than 17 ratings (cutting out ~50% of movies)\n",
    "#merged = r.merge(r.groupby(\"movieId\").size().reset_index(name='count'), how='right', on='movieId')\n",
    "#df = merged[merged[\"count\"]>17].sort_values(['userId', 'movieId'])\n",
    "\n",
    "#create a matrix from the ratings list\n",
    "user_c = CategoricalDtype(sorted(r.userId.unique()), ordered=True)\n",
    "movie_c = CategoricalDtype(sorted(r.movieId.unique()), ordered=True)\n",
    "row = r.userId.astype(user_c).cat.codes\n",
    "col = r.movieId.astype(movie_c).cat.codes\n",
    "\n",
    "#this matrix is movies x users\n",
    "sparse_matrix = sparse.csr_matrix((r['rating'], (row, col)), \\\n",
    "                           shape=(user_c.categories.size, movie_c.categories.size))\n",
    "\n",
    "#we can't deal with these NaN's, so we're lazy and just replace them all with 3's\n",
    "dfs = pd.SparseDataFrame(sparse_matrix, \\\n",
    "                     index=user_c.categories, \\\n",
    "                     columns=movie_c.categories)#, \\\n",
    "                     #default_fill_value=0)"
   ]
  },
  {
   "cell_type": "markdown",
   "metadata": {},
   "source": [
    "# Workflow"
   ]
  },
  {
   "cell_type": "code",
   "execution_count": 21,
   "metadata": {},
   "outputs": [],
   "source": [
    "#first we do an overall test train split along user lines using sklearn\n",
    "#    assuming dfs is user x movie\n",
    "ratio = .2\n",
    "X_train, X_test = train_test_split(dfs,test_size=ratio)\n",
    "#if you want to do it along movie lines, tranpose the matrix before you pass it in."
   ]
  },
  {
   "cell_type": "code",
   "execution_count": 22,
   "metadata": {},
   "outputs": [],
   "source": [
    "def set_up_scoring(X):\n",
    "    \"\"\"\n",
    "    hide a rating for each user from the matrix so we have a label y to test accuracy on.\n",
    "    \"\"\"\n",
    "    X = X.to_dense()\n",
    "    y = np.zeros(X.shape[0])\n",
    "    indices = np.zeros(X.shape[0])\n",
    "    #for each row, get non nan entries\n",
    "    exist = X[pd.notna(X)]\n",
    "    #randomly select a movie from the remaining\n",
    "    for i in range(X.shape[0]):\n",
    "        movie = np.random.choice(exist.columns)\n",
    "        indices[i] = movie\n",
    "        y[i] = exist.loc[:,movie].iloc[i]\n",
    "        \n",
    "        X.loc[:,movie].iloc[i] = np.nan #remove that rating from X\n",
    "    #store as a series, with movieId as index and rating as value\n",
    "    return X.to_sparse(),pd.Series(data=y,index=indices)\n",
    "\n",
    "def custom_scoring(X,y):\n",
    "    \"\"\"\n",
    "    given a completed ratings matrix X, find out if our hidden ratings were accurately predicted\n",
    "    \"\"\"\n",
    "    #first we have to extract y_pred from X\n",
    "    y_pred = np.zeros_like(y)\n",
    "    for i in range(len(y)):\n",
    "        movie = int(y.index[i])\n",
    "        y_pred[i] = X.loc[:,movie].iloc[i]\n",
    "    \n",
    "    return mean_squared_error(y,y_pred)\n",
    "        "
   ]
  },
  {
   "cell_type": "code",
   "execution_count": null,
   "metadata": {},
   "outputs": [],
   "source": []
  }
 ],
 "metadata": {
  "kernelspec": {
   "display_name": "Python 3",
   "language": "python",
   "name": "python3"
  },
  "language_info": {
   "codemirror_mode": {
    "name": "ipython",
    "version": 3
   },
   "file_extension": ".py",
   "mimetype": "text/x-python",
   "name": "python",
   "nbconvert_exporter": "python",
   "pygments_lexer": "ipython3",
   "version": "3.6.8"
  }
 },
 "nbformat": 4,
 "nbformat_minor": 2
}
