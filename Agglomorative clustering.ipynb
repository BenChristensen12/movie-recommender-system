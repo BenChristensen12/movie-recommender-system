{
 "cells": [
  {
   "cell_type": "code",
   "execution_count": 41,
   "metadata": {},
   "outputs": [],
   "source": [
    "import numpy as np\n",
    "from sklearn.svm import SVC\n",
    "from sklearn.model_selection import train_test_split\n",
    "from sklearn.model_selection import GridSearchCV\n",
    "\n",
    "import pandas as pd\n",
    "from scipy import linalg as la\n",
    "from scipy.sparse import csr_matrix\n",
    "from pandas.api.types import CategoricalDtype\n",
    "from scipy.sparse import linalg as spla\n",
    "\n",
    "import scipy.cluster.hierarchy as sch\n",
    "from sklearn.cluster import AgglomerativeClustering\n",
    "\n",
    "from sklearn.metrics import accuracy_score\n",
    "from matplotlib import pyplot as plt"
   ]
  },
  {
   "cell_type": "code",
   "execution_count": 20,
   "metadata": {},
   "outputs": [],
   "source": [
    "ratings = pd.read_csv(\"ml-20m/ratings.csv\",nrows=100000)"
   ]
  },
  {
   "cell_type": "code",
   "execution_count": 21,
   "metadata": {},
   "outputs": [
    {
     "data": {
      "text/plain": [
       "2.0"
      ]
     },
     "execution_count": 21,
     "metadata": {},
     "output_type": "execute_result"
    }
   ],
   "source": [
    "#Create variable \"count\" for number of ratings for each movie\n",
    "ratings = ratings.merge(ratings.groupby(\"movieId\").size().reset_index(name='count'), how='right', on='movieId')\n",
    "#Drop any movies that have 17 or fewer ratings\n",
    "ratings = ratings[ratings[\"count\"]>17].sort_values(['userId', 'movieId'])\n",
    "#Find the minimum number of movies reviewed by a user\n",
    "reviews_per_user = ratings.groupby(\"userId\").userId.apply(lambda x: len(x))\n",
    "reviews_per_user.describe().min()"
   ]
  },
  {
   "cell_type": "code",
   "execution_count": 25,
   "metadata": {},
   "outputs": [],
   "source": [
    "#Generate user-movie matrix with ratings as its values\n",
    "user_c = CategoricalDtype(sorted(ratings.userId.unique()), ordered=True)\n",
    "movie_c = CategoricalDtype(sorted(ratings.movieId.unique()), ordered=True)\n",
    "\n",
    "row = ratings.userId.astype(user_c).cat.codes\n",
    "col = ratings.movieId.astype(movie_c).cat.codes\n",
    "sparse_matrix = csr_matrix((ratings['rating'], (row, col)), \\\n",
    "                           shape=(user_c.categories.size, movie_c.categories.size))"
   ]
  },
  {
   "cell_type": "code",
   "execution_count": 28,
   "metadata": {},
   "outputs": [],
   "source": [
    "#Create sparse dataframe from user-movie matrix\n",
    "dfs = pd.SparseDataFrame(sparse_matrix, \\\n",
    "                         index=user_c.categories, \\\n",
    "                         columns=movie_c.categories,default_fill_value=2.5)"
   ]
  },
  {
   "cell_type": "code",
   "execution_count": 38,
   "metadata": {},
   "outputs": [],
   "source": [
    "def data_setup(user_id):\n",
    "    \"\"\"\n",
    "    This function prepares our data for the train test split\n",
    "    Inputs: \n",
    "    user_id\n",
    "    Outputs:\n",
    "    dfs \n",
    "    movies_not_seen\n",
    "    movies_seen\n",
    "    known_ratings\n",
    "    \"\"\"\n",
    "    #get only those movies with more than 17 ratings (cutting out ~50% of movies)\n",
    "    merged = r.merge(r.groupby(\"movieId\").size().reset_index(name='count'),\n",
    "                     how='right', on='movieId')\n",
    "    df = merged[merged[\"count\"]>17].sort_values(['userId', 'movieId'])\n",
    "    \n",
    "    #get our lucky user\n",
    "    user1 = df[df.userId == user_id]\n",
    "\n",
    "    df.drop(labels=df[df.userId == user_id].index, axis=0, inplace=True)\n",
    "    \n",
    "    #create a matrix from the ratings list\n",
    "    user_c = CategoricalDtype(sorted(df.userId.unique()), ordered=True)\n",
    "    movie_c = CategoricalDtype(sorted(df.movieId.unique()), ordered=True)\n",
    "    row = df.userId.astype(user_c).cat.codes\n",
    "    col = df.movieId.astype(movie_c).cat.codes\n",
    "    \n",
    "    #this matrix is movies x users\n",
    "    sparse_matrix = csr_matrix((df['rating'], (row, col)), \\\n",
    "                               shape=(user_c.categories.size, movie_c.categories.size)).T\n",
    "    \n",
    "    #we can't deal with these NaN's, so we're lazy and just replace them all with 3's\n",
    "    dfs = pd.SparseDataFrame(sparse_matrix, \\\n",
    "                         index=movie_c.categories, \\\n",
    "                         columns=user_c.categories, \\\n",
    "                         default_fill_value=3)\n",
    "    \n",
    "    #we can only train on the movies that the user has seen\n",
    "    movies_seen = dfs.loc[user1.movieId.values].index.values\n",
    "    movies_not_seen = list(set(dfs.index.values) - set(movies_seen))\n",
    "    \n",
    "    #turn user's rating into binary 'liked' (1) or 'disliked' (-1)\n",
    "    known_ratings = user1.rating.values\n",
    "    known_ratings[known_ratings <= 3] = -1 #right now the cutoff is 3. could also try 2.5?\n",
    "    known_ratings[known_ratings > 3] = 1\n",
    "    \n",
    "    return dfs, movies_not_seen, movies_seen, known_ratings"
   ]
  },
  {
   "cell_type": "code",
   "execution_count": 40,
   "metadata": {},
   "outputs": [
    {
     "data": {
      "image/png": "[encoded data removed]",
      "text/plain": [
       "<Figure size 432x288 with 1 Axes>"
      ]
     },
     "metadata": {
      "needs_background": "light"
     },
     "output_type": "display_data"
    }
   ],
   "source": [
    "# create dendrogram\n",
    "dendrogram = sch.dendrogram(sch.linkage(dfs, method='ward'))\n",
    "# create clusters\n",
    "hc = AgglomerativeClustering(n_clusters=4, affinity = 'cosine', linkage = 'single')\n",
    "# save clusters for chart\n",
    "y_hc = hc.fit_predict(dfs)"
   ]
  },
  {
   "cell_type": "code",
   "execution_count": 45,
   "metadata": {},
   "outputs": [],
   "source": [
    "User_id = 100\n",
    "dfs, movies_not_seen, movies_seen, known_ratings = data_setup(User_id)\n",
    "x_train, x_test, y_train, y_test = train_test_split(dfs.loc[movies_seen].values,known_ratings)"
   ]
  },
  {
   "cell_type": "code",
   "execution_count": 69,
   "metadata": {},
   "outputs": [
    {
     "name": "stdout",
     "output_type": "stream",
     "text": [
      "[-1.  1. -1. -1. -1. -1. -1. -1.  1.  1. -1.  1.  1.] [0 0 2 0 2 2 0 0 3 0 0 1 0]\n",
      "0.07692307692307693\n"
     ]
    },
    {
     "data": {
      "image/png": "[encoded data removed]",
      "text/plain": [
       "<Figure size 432x288 with 1 Axes>"
      ]
     },
     "metadata": {
      "needs_background": "light"
     },
     "output_type": "display_data"
    }
   ],
   "source": [
    "dendrogram = sch.dendrogram(sch.linkage(x_train, method='ward'))\n",
    "# create clusters\n",
    "hc = AgglomerativeClustering(n_clusters=4, affinity = 'euclidean', linkage = 'ward')\n",
    "# save clusters for chart\n",
    "y_hc = hc.fit_predict(x_test)\n",
    "print(y_test, y_hc)\n",
    "print(accuracy_score(y_test,y_hc))\n"
   ]
  },
  {
   "cell_type": "code",
   "execution_count": null,
   "metadata": {},
   "outputs": [],
   "source": [
    "users = 138493\n",
    "accuracy = []\n",
    "for user_id in range(1,users):\n",
    "    dfs, movies_not_seen, movies_seen, known_ratings = data_setup(user_id)\n",
    "    x_train, x_test, y_train, y_test = train_test_split(dfs.loc[movies_seen].values,known_ratings)\n",
    "    endrogram = sch.dendrogram(sch.linkage(x_train, method='ward'))\n",
    "    # create clusters\n",
    "    hc = AgglomerativeClustering(n_clusters=4, affinity = 'euclidean', linkage = 'ward')\n",
    "    # save clusters for chart\n",
    "    y_hc = hc.fit_predict(x_test)\n",
    "    accuracy.append(accuracy_score(y_test,y_hc))"
   ]
  },
  {
   "cell_type": "code",
   "execution_count": null,
   "metadata": {},
   "outputs": [],
   "source": []
  }
 ],
 "metadata": {
  "kernelspec": {
   "display_name": "Python 3",
   "language": "python",
   "name": "python3"
  },
  "language_info": {
   "codemirror_mode": {
    "name": "ipython",
    "version": 3
   },
   "file_extension": ".py",
   "mimetype": "text/x-python",
   "name": "python",
   "nbconvert_exporter": "python",
   "pygments_lexer": "ipython3",
   "version": "3.7.3"
  }
 },
 "nbformat": 4,
 "nbformat_minor": 2
}
