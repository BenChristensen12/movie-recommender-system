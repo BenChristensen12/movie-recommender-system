{
 "cells": [
  {
   "cell_type": "markdown",
   "metadata": {},
   "source": [
    "# SVM Model\n",
    "\n",
    "Ben Burt\n",
    "\n",
    "Ben Christensen\n",
    "\n",
    "Jane Cox"
   ]
  },
  {
   "cell_type": "code",
   "execution_count": null,
   "metadata": {},
   "outputs": [],
   "source": [
    "import numpy as np\n",
    "from sklearn.svm import SVC\n",
    "from sklearn.model_selection import train_test_split\n",
    "from sklearn.model_selection import GridSearchCV\n",
    "\n",
    "import pandas as pd\n",
    "from scipy import linalg as la\n",
    "from scipy.sparse import csr_matrix\n",
    "from pandas.api.types import CategoricalDtype\n",
    "from scipy.sparse import linalg as spla"
   ]
  },
  {
   "cell_type": "markdown",
   "metadata": {},
   "source": [
    "# Our Data Set"
   ]
  },
  {
   "cell_type": "code",
   "execution_count": null,
   "metadata": {},
   "outputs": [],
   "source": [
    "#Benjamin's path: path = \"/Users/Armen/Desktop/SpringDataProject/\"\n",
    "#Ben C's path:\n",
    "path = \"/Users/benchristensen/Desktop/Recommneder_System_Project/ml-20m/\"\n",
    "r = pd.read_csv(\"ml-20m/ratings.csv\",nrows=100000)"
   ]
  },
  {
   "cell_type": "code",
   "execution_count": null,
   "metadata": {},
   "outputs": [],
   "source": [
    "def data_setup(user_id):\n",
    "    \"\"\"\n",
    "    This function prepares our data for the train test split\n",
    "    Inputs: \n",
    "    user_id\n",
    "    Outputs:\n",
    "    dfs \n",
    "    movies_not_seen\n",
    "    movies_seen\n",
    "    known_ratings\n",
    "    \"\"\"\n",
    "    #get only those movies with more than 17 ratings (cutting out ~50% of movies)\n",
    "    merged = r.merge(r.groupby(\"movieId\").size().reset_index(name='count'),\n",
    "                     how='right', on='movieId')\n",
    "    df = merged[merged[\"count\"]>17].sort_values(['userId', 'movieId'])\n",
    "    \n",
    "    #get our lucky user\n",
    "    user1 = df[df.userId == user_id]\n",
    "\n",
    "    df.drop(labels=df[df.userId == user_id].index, axis=0, inplace=True)\n",
    "    \n",
    "    #create a matrix from the ratings list\n",
    "    user_c = CategoricalDtype(sorted(df.userId.unique()), ordered=True)\n",
    "    movie_c = CategoricalDtype(sorted(df.movieId.unique()), ordered=True)\n",
    "    row = df.userId.astype(user_c).cat.codes\n",
    "    col = df.movieId.astype(movie_c).cat.codes\n",
    "    \n",
    "    #this matrix is movies x users\n",
    "    sparse_matrix = csr_matrix((df['rating'], (row, col)), \\\n",
    "                               shape=(user_c.categories.size, movie_c.categories.size)).T\n",
    "    \n",
    "    #we can't deal with these NaN's, so we're lazy and just replace them all with 3's\n",
    "    dfs = pd.SparseDataFrame(sparse_matrix, \\\n",
    "                         index=movie_c.categories, \\\n",
    "                         columns=user_c.categories, \\\n",
    "                         default_fill_value=3)\n",
    "    \n",
    "    #we can only train on the movies that the user has seen\n",
    "    movies_seen = dfs.loc[user1.movieId.values].index.values\n",
    "    movies_not_seen = list(set(dfs.index.values) - set(movies_seen))\n",
    "    \n",
    "    #turn user's rating into binary 'liked' (1) or 'disliked' (-1)\n",
    "    known_ratings = user1.rating.values\n",
    "    known_ratings[known_ratings <= 3] = -1 #right now the cutoff is 3. could also try 2.5?\n",
    "    known_ratings[known_ratings > 3] = 1\n",
    "    \n",
    "    return dfs, movies_not_seen, movies_seen, known_ratings"
   ]
  },
  {
   "cell_type": "code",
   "execution_count": null,
   "metadata": {},
   "outputs": [],
   "source": [
    "user__id = 50\n",
    "#dfs, movies_not_seen, movies_seen, known_ratings = set_up_test(user_id)\n",
    "dfs, movies_not_seen, movies_seen, known_ratings = data_setup(user__id)"
   ]
  },
  {
   "cell_type": "code",
   "execution_count": null,
   "metadata": {
    "scrolled": true
   },
   "outputs": [],
   "source": [
    "#for the test train split, we only want the movies for which we have labels\n",
    "#print(movies_seen)\n",
    "#print(dfs.loc[movies_seen])\n",
    "x_train, x_test, y_train, y_test = train_test_split(dfs.loc[movies_seen].values,known_ratings)\n",
    "\n",
    "#This is what we'll want to predict\n",
    "x_to_predict = dfs.loc[movies_not_seen]"
   ]
  },
  {
   "cell_type": "code",
   "execution_count": null,
   "metadata": {},
   "outputs": [],
   "source": [
    "#check the accuracy of the model\n",
    "parameters = {'kernel' : ('rbf', 'poly')\n",
    "              ,'C' : [1,50], 'degree' : [1,2,3,10], 'gamma' : [1,2,3,'auto']}\n",
    "model = SVC()\n",
    "clf = GridSearchCV(model, parameters)\n",
    "clf.fit(x_train,y_train)\n",
    "clf.score(x_test,y_test)"
   ]
  },
  {
   "cell_type": "code",
   "execution_count": null,
   "metadata": {},
   "outputs": [],
   "source": [
    "users = 138493 #from the errata file\n",
    "scores = []\n",
    "parameters = {'kernel' : ('rbf', 'poly')\n",
    "              ,'C' : [1,50], 'degree' : [1,2,3,10], 'gamma' : [1,2,3,'auto']}\n",
    "model = SVC()\n",
    "clf = GridSearchCV(model, parameters)\n",
    "for user_id in range(1,5):\n",
    "    dfs, movies_not_seen, movies_seen, known_ratings = data_setup(user_id)\n",
    "    x_train, x_test, y_train, y_test = train_test_split(dfs.loc[movies_seen].values,known_ratings)\n",
    "    clf.fit(x_train,y_train)\n",
    "    scores.append(clf.score(x_test,y_test))\n",
    "#This is what we'll want to predict\n",
    "x_to_predict = dfs.loc[movies_not_seen]"
   ]
  },
  {
   "cell_type": "markdown",
   "metadata": {},
   "source": [
    "## STILL TO DO\n",
    " - run it through an average model. Do we recommend or not? \n",
    " - potentially compare if things run or not\n",
    " - NMF\n",
    " - Kmeans (on users... and movies/genome_scores?)\n",
    " - PCA (both or one?)\n",
    " - Unknown "
   ]
  },
  {
   "cell_type": "code",
   "execution_count": null,
   "metadata": {},
   "outputs": [],
   "source": []
  }
 ],
 "metadata": {
  "kernelspec": {
   "display_name": "Python 3",
   "language": "python",
   "name": "python3"
  },
  "language_info": {
   "codemirror_mode": {
    "name": "ipython",
    "version": 3
   },
   "file_extension": ".py",
   "mimetype": "text/x-python",
   "name": "python",
   "nbconvert_exporter": "python",
   "pygments_lexer": "ipython3",
   "version": "3.7.3"
  }
 },
 "nbformat": 4,
 "nbformat_minor": 2
}
