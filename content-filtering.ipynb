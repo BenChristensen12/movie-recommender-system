{
 "cells": [
  {
   "cell_type": "code",
   "execution_count": 2,
   "metadata": {
    "collapsed": true
   },
   "outputs": [],
   "source": [
    "import pandas as pd\n",
    "from scipy import linalg as la\n",
    "import numpy as np\n",
    "from scipy.sparse import csr_matrix\n",
    "from pandas.api.types import CategoricalDtype\n",
    "from sklearn.neighbors import NearestNeighbors\n",
    "from sklearn.cluster import KMeans\n",
    "from scipy.sparse import linalg as spla\n",
    "from time import time\n",
    "import timeit\n",
    "from IPython.display import clear_output"
   ]
  },
  {
   "cell_type": "code",
   "execution_count": 3,
   "metadata": {
    "collapsed": true
   },
   "outputs": [],
   "source": [
    "#Benjamin's path: path = \"/Users/Armen/Desktop/SpringDataProject/\"\n",
    "#Ben C's path:\n",
    "path = \"/Users/benchristensen/Desktop/Recommneder_System_Project/ml-20m/\"\n",
    "ratings = pd.read_csv(path + \"ratings.csv\")#, nrows = 10000)\n",
    "movies = pd.read_csv(path+\"movies.csv\")#, nrows=10000)\n",
    "genome_scores = pd.read_csv(path+\"genome-scores.csv\")#, nrows=10000)"
   ]
  },
  {
   "cell_type": "code",
   "execution_count": 4,
   "metadata": {
    "collapsed": true
   },
   "outputs": [],
   "source": [
    "#Generate user-movie matrix with ratings as its values\n",
    "user_c = CategoricalDtype(sorted(ratings.userId.unique()), ordered=True)\n",
    "movie_c = CategoricalDtype(sorted(ratings.movieId.unique()), ordered=True)\n",
    "\n",
    "row = ratings.userId.astype(user_c).cat.codes\n",
    "col = ratings.movieId.astype(movie_c).cat.codes\n",
    "sparse_matrix = csr_matrix((ratings['rating'], (row, col)), \\\n",
    "                           shape=(user_c.categories.size, movie_c.categories.size))\n",
    "#Create sparse dataframe from user-movie matrix\n",
    "rating_df = pd.SparseDataFrame(sparse_matrix, \\\n",
    "                             index=user_c.categories, \\\n",
    "                             columns=movie_c.categories)"
   ]
  },
  {
   "cell_type": "code",
   "execution_count": 7,
   "metadata": {},
   "outputs": [
    {
     "data": {
      "text/plain": [
       "0.539984781355445"
      ]
     },
     "execution_count": 7,
     "metadata": {},
     "output_type": "execute_result"
    }
   ],
   "source": [
    "rating_df.density * 100"
   ]
  },
  {
   "cell_type": "markdown",
   "metadata": {},
   "source": [
    "Similarity between two movies using Pearson Correlation:\n",
    "\n",
    "$r_{ui}:$ User $u$'s rating of movie $i$\n",
    "\n",
    "$\\bar{r_i}:$ Average movie rating for movie $i$\n",
    "\n",
    "$$sim(i, j) = \\frac{\\sum_u{(r_{ui}-\\bar{r_i})(r_{uj}-\\bar{r_j})}}{\\sqrt{\\sum_u{(r_{ui}-\\bar{r_i})^2}}\\sqrt{\\sum_u{(r_{uj}-\\bar{r_j})^2}}}$$\n",
    "\n",
    "Since there are no NaN values in the content-based-filtering approach, cosine similarity is equivalent to pearson correlation."
   ]
  },
  {
   "cell_type": "code",
   "execution_count": null,
   "metadata": {
    "collapsed": true
   },
   "outputs": [],
   "source": [
    "def cosine_similarity(u, v):\n",
    "    \"\"\"\n",
    "    Find the cosine similarity between two users given their \n",
    "        movie ratings.\n",
    "        \n",
    "    Parameters:\n",
    "        u (Series): user 'u' movie ratings\n",
    "        v (Series): user 'v' movie ratings\n",
    "        \n",
    "    Returns:\n",
    "        (float): cosine similarity between u and v\n",
    "    \"\"\"\n",
    "    #Demean the ratings\n",
    "    #    then fill NaN values with 0\n",
    "    #    this penalizes not seeing the same movies\n",
    "    u_hat = (u-u.mean()).fillna(0)\n",
    "    v_hat = (v-v.mean()).fillna(0)\n",
    "    \n",
    "    return np.sum(u_hat*v_hat)/(np.sqrt(np.sum(u_hat**2))*np.sqrt(np.sum(v_hat**2)))\n",
    "    "
   ]
  },
  {
   "cell_type": "markdown",
   "metadata": {},
   "source": [
    "Prediction using cosine similarity (Pham et. al):\n",
    "\n",
    "$P_{i, j}:$ Prediction for user $i$'s rating of movie $j$\n",
    "\n",
    "$r_{i,k}:$ User $i$'s rating of movie $k$ (Equal to $\\bar{r}_k$ if user $k$ hasn't rated movie $j$)\n",
    "\n",
    "$\\bar{r}_k:$ Average rating for movie $k$\n",
    "\n",
    "$w_{j,k}:$ Cosine similarity between movie $j$ and movie $k$\n",
    "\n",
    "$N_j:$ The set of movie $j$'s neighbors\n",
    "\n",
    "$$P_{i,j} = \\bar{r}_i + \\frac{\\sum_{k\\in N_j}{(r_{i,k}-\\bar{r}_k)w_{j,k}}}{\\sum_{k\\in N_j}{\\mid w_{j,k}\\mid}}    $$\n",
    "\n"
   ]
  },
  {
   "cell_type": "code",
   "execution_count": null,
   "metadata": {
    "collapsed": true
   },
   "outputs": [],
   "source": [
    "def KNN_Predict(df, rating_df, k):\n",
    "    \"\"\"\n",
    "    Peform K-Nearest Neighbors and use it to predict movie ratings\n",
    "    \n",
    "    Parameter:\n",
    "        df (DataFrame): user-movie rating sparse dataframe\n",
    "        rating_df (Sparse DataFrame):\n",
    "        k (int): Hyperparameter - the number of neighbors\n",
    "    \n",
    "    Returns:\n",
    "        df (DataFrame): New Dataframe with NaNs filled with predicted ratings\n",
    "        update_df (DataFrame): Dataframe for testing that includes predictions rather\n",
    "                              than any actual ratings.\n",
    "    \"\"\"\n",
    "    update_df = rating_df.copy()#.to_dense()\n",
    "    start = timeit.default_timer()\n",
    "    for i, movie_id in enumerate(df.index):\n",
    "        clear_output(wait=True)\n",
    "        movie = df.loc[movie_id]\n",
    "        #Find the cosine similarity for 'user' with every other user\n",
    "        similarities = df.apply(lambda row: cosine_similarity(row, movie), axis=1)\n",
    "        similarity_df = pd.DataFrame(data={\"similarity\": similarities, \"idx\": similarities.index})\n",
    "        similarity_df.sort_values(\"similarity\", ascending = False, inplace=True)\n",
    "        #Find the k nearest neighbors\n",
    "        neighbors = similarity_df.iloc[1:k+1].idx.values\n",
    "             \n",
    "        predict = rating_df.mean(1) + ((rating_df.reindex(neighbors, axis='columns') - rating_df.reindex(neighbors, axis='columns').mean(0))*similarity_df.iloc[1:k+1][\"similarity\"].values).sum(1)/similarity_df.iloc[1:k+1][\"similarity\"].abs().sum()         \n",
    "        update_df.loc[:,movie_id] = predict\n",
    "        \n",
    "        stop = timeit.default_timer()\n",
    "        \n",
    "        if (i/len(df.index)*100) < 5:\n",
    "            expected_time = \"Calculating...\"\n",
    "        else:\n",
    "            time_perc = timeit.default_timer()\n",
    "            expected_time = np.round(((time_perc - start) / (i/len(df.index)))/60,2)\n",
    "        \n",
    "        print(\"Current progress: \", np.round(i/len(df.index) * 100, 2), \"%\", sep=\"\")\n",
    "        print(\"Current run time:\", np.round((stop - start)/60,2), \"minutes\")\n",
    "        print(\"Expected Run Time:\", expected_time, \"minutes\")\n",
    "    \n",
    "    rating_df.update(update_df, overwrite=False)\n",
    "    return df, update_df"
   ]
  },
  {
   "cell_type": "markdown",
   "metadata": {},
   "source": [
    "Method for predicting user $i$'s movie rating for movie $j$:\n",
    "\n",
    "$P_{i, j}:$ Prediction for user $i$'s rating of movie $j$\n",
    "\n",
    "$\\bar{r}_i:$ Average rating for user $i$ if $i$ represents a user\n",
    "\n",
    "$\\bar{r}_k:$ Average rating for movie $k$ if $k$ represents a movie\n",
    "\n",
    "$N_j:$ The neighbors in movie $j$'s cluster\n",
    "\n",
    "$\\mid N_j\\mid :$ Number of neighbors in movie $j$'s cluster\n",
    "\n",
    "$M:$ All movies\n",
    "\n",
    "$\\mathbb{1}(r_{i,k}):$ A function indiciating if user $i$ has rated movie $k$ \n",
    "\n",
    "$\\gamma_j : \\frac{\\sum_{k\\in N_j}{\\mathbb{1}(r_{i,k})}}{\\mid N_j \\mid}$\n",
    "\n",
    "$$P_{i, j} = \\bar{r}_i + \\frac{\\sum_{k\\in N_j}{(r_{i,k} - \\bar{r}_k)}}{\\mid N_j \\mid}*\\frac{\\gamma_j}{\\max_{k\\in M}{\\gamma_k}} $$\n",
    "\n",
    "Change to average movie rating by cluster instead of the current difference?\n",
    "\n",
    "\n"
   ]
  },
  {
   "cell_type": "code",
   "execution_count": null,
   "metadata": {
    "collapsed": true
   },
   "outputs": [],
   "source": [
    "def KMeans_Predict(model, df, rating_df):\n",
    "    \"\"\"\n",
    "    Use a fitted KMeans clustering model to predict a user's movie rating\n",
    "    \n",
    "    Parameter:\n",
    "        model (): Fitted KMeans Model\n",
    "        df (Sparse DataFrame): user-movie rating sparse dataframe\n",
    "    \n",
    "    Returns:\n",
    "        df (DataFrame): New Dataframe with NaNs filled with predicted ratings\n",
    "        update_df (DataFrame): Dataframe for testing that includes predictions rather\n",
    "                              than any actual ratings.\n",
    "    \"\"\"\n",
    "    #Assign clusters\n",
    "    df['cluster'] = model.labels_\n",
    "    update_df = rating_df.copy()#.to_dense()\n",
    "    start = timeit.default_timer()\n",
    "    for i, movie_id in enumerate(df.index):\n",
    "        clear_output(wait=True)\n",
    "        neighbors = df.groupby(['cluster']).groups[df.loc[movie_id].cluster]\n",
    "        update = (rating_df.reindex(neighbors, axis='columns') - rating_df.reindex(neighbors, axis='columns').mean()).mean(1)\n",
    "        share = rating_df.reindex(neighbors, axis='columns').count(1)/len(neighbors)\n",
    "        update = df.mean(1) + update*(share/share.max())\n",
    "        update_df.loc[:,movie_id] = update\n",
    "        \n",
    "        stop = timeit.default_timer()\n",
    "        \n",
    "        if (i/len(df.index)*100) < 5:\n",
    "            expected_time = \"Calculating...\"\n",
    "        else:\n",
    "            time_perc = timeit.default_timer()\n",
    "            expected_time = np.round(((time_perc - start) / (i/len(df.index)))/60,2)\n",
    "        \n",
    "        print(\"Current progress: \", np.round(i/len(df.index) * 100, 2), \"%\", sep=\"\")\n",
    "        print(\"Current run time:\", np.round((stop - start)/60,2), \"minutes\")\n",
    "        print(\"Expected Run Time:\", expected_time, \"minutes\")\n",
    "        \n",
    "    rating_df.update(update_df, overwrite=False)\n",
    "    \n",
    "    return rating_df, update_df"
   ]
  },
  {
   "cell_type": "markdown",
   "metadata": {},
   "source": [
    "## Using Genome Scores"
   ]
  },
  {
   "cell_type": "code",
   "execution_count": null,
   "metadata": {
    "collapsed": true
   },
   "outputs": [],
   "source": [
    "genome_scores.head()"
   ]
  },
  {
   "cell_type": "code",
   "execution_count": null,
   "metadata": {
    "collapsed": true
   },
   "outputs": [],
   "source": [
    "#Generate movie-tag matrix with relevance scores as its values\n",
    "movie_c = CategoricalDtype(sorted(genome_scores.movieId.unique()), ordered=True)\n",
    "tag_c = CategoricalDtype(sorted(genome_scores.tagId.unique()), ordered=True)\n",
    "\n",
    "row = genome_scores.movieId.astype(movie_c).cat.codes\n",
    "col = genome_scores.tagId.astype(tag_c).cat.codes\n",
    "sparse_matrix = csr_matrix((genome_scores['relevance'], (row, col)), \\\n",
    "                           shape=(movie_c.categories.size, tag_c.categories.size))\n",
    "#Create sparse dataframe from user-movie matrix\n",
    "dfs = pd.SparseDataFrame(sparse_matrix, \\\n",
    "                         index=movie_c.categories, \\\n",
    "                         columns=tag_c.categories)\n",
    "genome_df = dfs.to_dense()"
   ]
  },
  {
   "cell_type": "markdown",
   "metadata": {},
   "source": [
    "### KNN"
   ]
  },
  {
   "cell_type": "code",
   "execution_count": null,
   "metadata": {
    "collapsed": true
   },
   "outputs": [],
   "source": [
    "new_KNN_1, test_KNN_1 = KNN_Predict(genome_df, rating_df, 10)"
   ]
  },
  {
   "cell_type": "markdown",
   "metadata": {},
   "source": [
    "### KMeans"
   ]
  },
  {
   "cell_type": "code",
   "execution_count": null,
   "metadata": {
    "collapsed": true
   },
   "outputs": [],
   "source": [
    "KM_model = KMeans(n_clusters=5).fit(genome_df)\n",
    "new_KMeans_1, test_KMeans_1 = KMeans_Predict(KM_model, genome_df, rating_df)"
   ]
  },
  {
   "cell_type": "markdown",
   "metadata": {},
   "source": [
    "## Using Genres"
   ]
  },
  {
   "cell_type": "code",
   "execution_count": null,
   "metadata": {},
   "outputs": [],
   "source": [
    "movies.head()"
   ]
  },
  {
   "cell_type": "code",
   "execution_count": null,
   "metadata": {
    "collapsed": true
   },
   "outputs": [],
   "source": [
    "#Perform one-hot encoding on genres\n",
    "genres = [\"Action\", \"Adventure\", \"Animation\", \"Children's\", \"Comedy\", \"Crime\", \n",
    "          \"Documentary\", \"Drama\", \"Fantasy\", \"Film-Noir\", \"Horror\", \"Musical\", \n",
    "          \"Mystery\", \"Romance\", \"Sci-Fi\", \"Thriller\", \"War\", \"Western\"]\n",
    "for genre in genres:\n",
    "    movies[genre] = 1*(movies[\"genres\"].str.contains(genre))\n",
    "movie_df = movies.set_index(\"movieId\").iloc[:,2:].copy()"
   ]
  },
  {
   "cell_type": "markdown",
   "metadata": {},
   "source": [
    "### KNN"
   ]
  },
  {
   "cell_type": "code",
   "execution_count": null,
   "metadata": {},
   "outputs": [],
   "source": [
    "new_KNN_2, test_KNN_2 = KNN_Predict(movie_df, rating_df, 10)"
   ]
  },
  {
   "cell_type": "markdown",
   "metadata": {},
   "source": [
    "### KMeans"
   ]
  },
  {
   "cell_type": "code",
   "execution_count": null,
   "metadata": {
    "collapsed": true
   },
   "outputs": [],
   "source": [
    "KM_model = KMeans(n_clusters=50).fit(movie_df)"
   ]
  },
  {
   "cell_type": "code",
   "execution_count": null,
   "metadata": {},
   "outputs": [],
   "source": [
    "new_KMeans_2, test_KMeans_2 = KMeans_Predict(KM_model, movie_df, rating_df)"
   ]
  },
  {
   "cell_type": "code",
   "execution_count": null,
   "metadata": {
    "collapsed": true
   },
   "outputs": [],
   "source": []
  }
 ],
 "metadata": {
  "kernelspec": {
   "display_name": "Python 3",
   "language": "python",
   "name": "python3"
  },
  "language_info": {
   "codemirror_mode": {
    "name": "ipython",
    "version": 3
   },
   "file_extension": ".py",
   "mimetype": "text/x-python",
   "name": "python",
   "nbconvert_exporter": "python",
   "pygments_lexer": "ipython3",
   "version": "3.6.8"
  }
 },
 "nbformat": 4,
 "nbformat_minor": 2
}
