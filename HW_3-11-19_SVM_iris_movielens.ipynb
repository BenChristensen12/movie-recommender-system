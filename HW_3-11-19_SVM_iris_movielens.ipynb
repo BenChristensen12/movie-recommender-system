{
 "cells": [
  {
   "cell_type": "markdown",
   "metadata": {},
   "source": [
    "# HW\n",
    "\n",
    "Ben Burt\n",
    "\n",
    "Ben Christensen\n",
    "\n",
    "Jane Cox"
   ]
  },
  {
   "cell_type": "code",
   "execution_count": 8,
   "metadata": {},
   "outputs": [],
   "source": [
    "import numpy as np\n",
    "from sklearn.svm import SVC\n",
    "from sklearn.model_selection import train_test_split\n",
    "from sklearn.model_selection import GridSearchCV\n",
    "\n",
    "import pandas as pd\n",
    "from scipy import linalg as la\n",
    "from scipy.sparse import csr_matrix\n",
    "from pandas.api.types import CategoricalDtype\n",
    "from scipy.sparse import linalg as spla"
   ]
  },
  {
   "cell_type": "markdown",
   "metadata": {},
   "source": [
    "# Our Data Set"
   ]
  },
  {
   "cell_type": "code",
   "execution_count": 10,
   "metadata": {},
   "outputs": [],
   "source": [
    "r = pd.read_csv(\"/Users/Armen/Desktop/SpringDataProject/ratings.csv\",nrows=100000)"
   ]
  },
  {
   "cell_type": "code",
   "execution_count": 11,
   "metadata": {},
   "outputs": [],
   "source": [
    "def set_up_test(user_id):\n",
    "    #inidiscriminately chopping up the dataset to get something small\n",
    "    df = r[r.userId < 200]\n",
    "    df = df[df.movieId < 2000]\n",
    "    user_c = CategoricalDtype(sorted(df.userId.unique()), ordered=True)\n",
    "    movie_c = CategoricalDtype(sorted(df.movieId.unique()), ordered=True)\n",
    "    row = df.userId.astype(user_c).cat.codes\n",
    "    col = df.movieId.astype(movie_c).cat.codes\n",
    "    #this matrix is movies x users\n",
    "    matrix = csr_matrix((df['rating'], (row, col)) \\\n",
    "                        , shape=(user_c.categories.size, movie_c.categories.size)).todense().T\n",
    "    \n",
    "    #take out our lucky user\n",
    "    user1 = np.ravel(matrix[:,user_id])\n",
    "    matrix = np.delete(matrix, user_id, axis = 1)\n",
    "\n",
    "    #we can only train on the movies that the user has seen\n",
    "    movies_not_seen = np.where(user1 == 0)[0]\n",
    "    movies_seen = np.where(user1 != 0)[0]\n",
    "    \n",
    "    #turn user's rating into binary 'liked' (1) or 'disliked' (-1)\n",
    "    known_ratings = user1[movies_seen]\n",
    "    known_ratings[known_ratings <= 3] = -1 #right now the cutoff is 3. could also try 2.5?\n",
    "    known_ratings[known_ratings > 3] = 1\n",
    "    \n",
    "    #replace all the Nan's with 3's.\n",
    "    matrix[matrix == 0] = 3\n",
    "    \n",
    "    return pd.DataFrame(matrix), movies_not_seen, movies_seen, known_ratings\n",
    "\n",
    "def for_real(user_id):\n",
    "    #get only those movies with more than 17 ratings (cutting out ~50% of movies)\n",
    "    merged = r.merge(r.groupby(\"movieId\").size().reset_index(name='count'),\n",
    "                     how='right', on='movieId')\n",
    "    df = merged[merged[\"count\"]>17].sort_values(['userId', 'movieId'])\n",
    "    \n",
    "    #get our lucky user\n",
    "    user1 = df[df.userId == user_id]\n",
    "    print(user1.shape)\n",
    "    df.drop(labels=df[df.userId == user_id].index, axis=0, inplace=True)\n",
    "    \n",
    "    #create a matrix from the ratings list\n",
    "    user_c = CategoricalDtype(sorted(df.userId.unique()), ordered=True)\n",
    "    movie_c = CategoricalDtype(sorted(df.movieId.unique()), ordered=True)\n",
    "    row = df.userId.astype(user_c).cat.codes\n",
    "    col = df.movieId.astype(movie_c).cat.codes\n",
    "    \n",
    "    #this matrix is movies x users\n",
    "    sparse_matrix = csr_matrix((df['rating'], (row, col)), \\\n",
    "                               shape=(user_c.categories.size, movie_c.categories.size)).T\n",
    "    \n",
    "    #we can't deal with these NaN's, so we're lazy and just replace them all with 3's\n",
    "    dfs = pd.SparseDataFrame(sparse_matrix, \\\n",
    "                         index=movie_c.categories, \\\n",
    "                         columns=user_c.categories, \\\n",
    "                         default_fill_value=3)\n",
    "    \n",
    "    #we can only train on the movies that the user has seen\n",
    "    movies_seen = dfs.loc[user1.movieId.values].index.values\n",
    "    movies_not_seen = list(set(dfs.index.values) - set(movies_seen))\n",
    "    \n",
    "    #turn user's rating into binary 'liked' (1) or 'disliked' (-1)\n",
    "    known_ratings = user1.rating.values\n",
    "    known_ratings[known_ratings <= 3] = -1 #right now the cutoff is 3. could also try 2.5?\n",
    "    known_ratings[known_ratings > 3] = 1\n",
    "    \n",
    "    return dfs, movies_not_seen, movies_seen, known_ratings"
   ]
  },
  {
   "cell_type": "code",
   "execution_count": 12,
   "metadata": {},
   "outputs": [
    {
     "name": "stdout",
     "output_type": "stream",
     "text": [
      "       userId  movieId  rating   timestamp  count\n",
      "170        50       32     4.0  1182349090    220\n",
      "37346      50       39     3.5  1182349203    146\n",
      "391        50       47     4.0  1182348347    214\n",
      "26575      50      150     3.5  1182349064    235\n",
      "74290      50      215     5.0  1182347856     25\n",
      "1607       50      296     5.0  1182348326    350\n",
      "74315      50      308     4.0  1182347603     29\n",
      "1952       50      318     4.0  1182349053    305\n",
      "57215      50      319     3.0  1181646332     35\n",
      "38828      50      344     2.0  1182677668    193\n",
      "24327      50      356     4.5  1182349043    340\n",
      "30495      50      357     4.0  1182349181    136\n",
      "39235      50      372     5.0  1181644438     39\n",
      "50540      50      497     4.0  1182678132     78\n",
      "30757      50      539     4.0  1182349170    136\n",
      "2508       50      541     4.0  1182677784    156\n",
      "39686      50      551     4.0  1182677995    105\n",
      "2677       50      589     4.5  1182349075    256\n",
      "28018      50      590     3.5  1182349067    216\n",
      "2935       50      593     4.0  1182349047    295\n",
      "30969      50      597     3.5  1182677714    172\n",
      "28399      50      608     4.0  1182349093    230\n",
      "50855      50      910     3.5  1181646278     52\n",
      "31404      50      912     5.0  1182349274    122\n",
      "57421      50      923     3.5  1182678075     95\n",
      "3406       50      924     5.0  1182349293    128\n",
      "3796       50     1080     5.0  1182677979    117\n",
      "17899      50     1094     4.0  1182678292     62\n",
      "4138       50     1097     4.0  1182349156    158\n",
      "4295       50     1136     5.0  1182349214    166\n",
      "...       ...      ...     ...         ...    ...\n",
      "58521      50     3147     3.0  1182678167    104\n",
      "64103      50     3148     4.0  1182347558     37\n",
      "35473      50     3578     4.0  1182349239    154\n",
      "43947      50     3863     3.5  1181646325     45\n",
      "66076      50     3949     5.0  1182348568     73\n",
      "10004      50     3996     5.0  1182349290    111\n",
      "40574      50     4022     3.0  1182678223     95\n",
      "44212      50     4235     4.0  1182677428     29\n",
      "10543      50     4306     4.0  1182677811    171\n",
      "52824      50     4886     4.5  1182678083    111\n",
      "44536      50     4973     5.0  1182677383    128\n",
      "45353      50     5618     5.0  1182677455     61\n",
      "11429      50     5952     4.0  1182677844    172\n",
      "74422      50     6104     4.0  1181644750     19\n",
      "11756      50     6539     4.0  1182678186    115\n",
      "46147      50     6711     5.0  1181644397     70\n",
      "46276      50     6874     5.0  1182347860    110\n",
      "74441      50     7147     4.0  1182348695     43\n",
      "12001      50     7153     4.0  1182678020    147\n",
      "46654      50     7361     5.0  1182348559    113\n",
      "12171      50     7438     5.0  1181644394    103\n",
      "74504      50     8784     3.0  1182348597     44\n",
      "71312      50     8983     4.0  1182348778     26\n",
      "47231      50    30707     3.5  1182348759     42\n",
      "71379      50    30810     5.0  1182348782     26\n",
      "47343      50    31658     4.0  1182349388     27\n",
      "47407      50    33166     3.5  1182348899     41\n",
      "71510      50    36529     5.0  1182348755     35\n",
      "48218      50    48394     5.0  1182348190     51\n",
      "48268      50    48516     4.5  1182348571     71\n",
      "\n",
      "[90 rows x 5 columns]\n"
     ]
    }
   ],
   "source": [
    "user_id = 50\n",
    "#dfs, movies_not_seen, movies_seen, known_ratings = set_up_test(user_id)\n",
    "dfs, movies_not_seen, movies_seen, known_ratings = for_real(user_id)"
   ]
  },
  {
   "cell_type": "code",
   "execution_count": 13,
   "metadata": {
    "scrolled": true
   },
   "outputs": [
    {
     "ename": "IndexError",
     "evalue": "positional indexers are out-of-bounds",
     "output_type": "error",
     "traceback": [
      "\u001b[0;31m---------------------------------------------------------------------------\u001b[0m",
      "\u001b[0;31mIndexError\u001b[0m                                Traceback (most recent call last)",
      "\u001b[0;32m~/anaconda/lib/python3.6/site-packages/pandas/core/indexing.py\u001b[0m in \u001b[0;36m_get_list_axis\u001b[0;34m(self, key, axis)\u001b[0m\n\u001b[1;32m   2199\u001b[0m         \u001b[0;32mtry\u001b[0m\u001b[0;34m:\u001b[0m\u001b[0;34m\u001b[0m\u001b[0;34m\u001b[0m\u001b[0m\n\u001b[0;32m-> 2200\u001b[0;31m             \u001b[0;32mreturn\u001b[0m \u001b[0mself\u001b[0m\u001b[0;34m.\u001b[0m\u001b[0mobj\u001b[0m\u001b[0;34m.\u001b[0m\u001b[0m_take\u001b[0m\u001b[0;34m(\u001b[0m\u001b[0mkey\u001b[0m\u001b[0;34m,\u001b[0m \u001b[0maxis\u001b[0m\u001b[0;34m=\u001b[0m\u001b[0maxis\u001b[0m\u001b[0;34m)\u001b[0m\u001b[0;34m\u001b[0m\u001b[0;34m\u001b[0m\u001b[0m\n\u001b[0m\u001b[1;32m   2201\u001b[0m         \u001b[0;32mexcept\u001b[0m \u001b[0mIndexError\u001b[0m\u001b[0;34m:\u001b[0m\u001b[0;34m\u001b[0m\u001b[0;34m\u001b[0m\u001b[0m\n",
      "\u001b[0;32m~/anaconda/lib/python3.6/site-packages/pandas/core/generic.py\u001b[0m in \u001b[0;36m_take\u001b[0;34m(self, indices, axis, is_copy)\u001b[0m\n\u001b[1;32m   3348\u001b[0m                                    \u001b[0maxis\u001b[0m\u001b[0;34m=\u001b[0m\u001b[0mself\u001b[0m\u001b[0;34m.\u001b[0m\u001b[0m_get_block_manager_axis\u001b[0m\u001b[0;34m(\u001b[0m\u001b[0maxis\u001b[0m\u001b[0;34m)\u001b[0m\u001b[0;34m,\u001b[0m\u001b[0;34m\u001b[0m\u001b[0;34m\u001b[0m\u001b[0m\n\u001b[0;32m-> 3349\u001b[0;31m                                    verify=True)\n\u001b[0m\u001b[1;32m   3350\u001b[0m         \u001b[0mresult\u001b[0m \u001b[0;34m=\u001b[0m \u001b[0mself\u001b[0m\u001b[0;34m.\u001b[0m\u001b[0m_constructor\u001b[0m\u001b[0;34m(\u001b[0m\u001b[0mnew_data\u001b[0m\u001b[0;34m)\u001b[0m\u001b[0;34m.\u001b[0m\u001b[0m__finalize__\u001b[0m\u001b[0;34m(\u001b[0m\u001b[0mself\u001b[0m\u001b[0;34m)\u001b[0m\u001b[0;34m\u001b[0m\u001b[0;34m\u001b[0m\u001b[0m\n",
      "\u001b[0;32m~/anaconda/lib/python3.6/site-packages/pandas/core/internals/managers.py\u001b[0m in \u001b[0;36mtake\u001b[0;34m(self, indexer, axis, verify, convert)\u001b[0m\n\u001b[1;32m   1340\u001b[0m         \u001b[0;32mif\u001b[0m \u001b[0mconvert\u001b[0m\u001b[0;34m:\u001b[0m\u001b[0;34m\u001b[0m\u001b[0;34m\u001b[0m\u001b[0m\n\u001b[0;32m-> 1341\u001b[0;31m             \u001b[0mindexer\u001b[0m \u001b[0;34m=\u001b[0m \u001b[0mmaybe_convert_indices\u001b[0m\u001b[0;34m(\u001b[0m\u001b[0mindexer\u001b[0m\u001b[0;34m,\u001b[0m \u001b[0mn\u001b[0m\u001b[0;34m)\u001b[0m\u001b[0;34m\u001b[0m\u001b[0;34m\u001b[0m\u001b[0m\n\u001b[0m\u001b[1;32m   1342\u001b[0m \u001b[0;34m\u001b[0m\u001b[0m\n",
      "\u001b[0;32m~/anaconda/lib/python3.6/site-packages/pandas/core/indexing.py\u001b[0m in \u001b[0;36mmaybe_convert_indices\u001b[0;34m(indices, n)\u001b[0m\n\u001b[1;32m   2614\u001b[0m     \u001b[0;32mif\u001b[0m \u001b[0mmask\u001b[0m\u001b[0;34m.\u001b[0m\u001b[0many\u001b[0m\u001b[0;34m(\u001b[0m\u001b[0;34m)\u001b[0m\u001b[0;34m:\u001b[0m\u001b[0;34m\u001b[0m\u001b[0;34m\u001b[0m\u001b[0m\n\u001b[0;32m-> 2615\u001b[0;31m         \u001b[0;32mraise\u001b[0m \u001b[0mIndexError\u001b[0m\u001b[0;34m(\u001b[0m\u001b[0;34m\"indices are out-of-bounds\"\u001b[0m\u001b[0;34m)\u001b[0m\u001b[0;34m\u001b[0m\u001b[0;34m\u001b[0m\u001b[0m\n\u001b[0m\u001b[1;32m   2616\u001b[0m     \u001b[0;32mreturn\u001b[0m \u001b[0mindices\u001b[0m\u001b[0;34m\u001b[0m\u001b[0;34m\u001b[0m\u001b[0m\n",
      "\u001b[0;31mIndexError\u001b[0m: indices are out-of-bounds",
      "\nDuring handling of the above exception, another exception occurred:\n",
      "\u001b[0;31mIndexError\u001b[0m                                Traceback (most recent call last)",
      "\u001b[0;32m<ipython-input-13-2b81d1f19abb>\u001b[0m in \u001b[0;36m<module>\u001b[0;34m\u001b[0m\n\u001b[1;32m      1\u001b[0m \u001b[0;31m#for the test train split, we only want the movies for which we have labels\u001b[0m\u001b[0;34m\u001b[0m\u001b[0;34m\u001b[0m\u001b[0;34m\u001b[0m\u001b[0m\n\u001b[0;32m----> 2\u001b[0;31m \u001b[0mx_train\u001b[0m\u001b[0;34m,\u001b[0m \u001b[0mx_test\u001b[0m\u001b[0;34m,\u001b[0m \u001b[0my_train\u001b[0m\u001b[0;34m,\u001b[0m \u001b[0my_test\u001b[0m \u001b[0;34m=\u001b[0m \u001b[0mtrain_test_split\u001b[0m\u001b[0;34m(\u001b[0m\u001b[0mdfs\u001b[0m\u001b[0;34m.\u001b[0m\u001b[0miloc\u001b[0m\u001b[0;34m[\u001b[0m\u001b[0mmovies_seen\u001b[0m\u001b[0;34m]\u001b[0m\u001b[0;34m.\u001b[0m\u001b[0mvalues\u001b[0m\u001b[0;34m,\u001b[0m\u001b[0mknown_ratings\u001b[0m\u001b[0;34m)\u001b[0m\u001b[0;34m\u001b[0m\u001b[0;34m\u001b[0m\u001b[0m\n\u001b[0m\u001b[1;32m      3\u001b[0m \u001b[0;34m\u001b[0m\u001b[0m\n\u001b[1;32m      4\u001b[0m \u001b[0;31m#This is what we'll want to predict\u001b[0m\u001b[0;34m\u001b[0m\u001b[0;34m\u001b[0m\u001b[0;34m\u001b[0m\u001b[0m\n\u001b[1;32m      5\u001b[0m \u001b[0mx_to_predict\u001b[0m \u001b[0;34m=\u001b[0m \u001b[0mdfs\u001b[0m\u001b[0;34m.\u001b[0m\u001b[0miloc\u001b[0m\u001b[0;34m[\u001b[0m\u001b[0mmovies_not_seen\u001b[0m\u001b[0;34m]\u001b[0m\u001b[0;34m\u001b[0m\u001b[0;34m\u001b[0m\u001b[0m\n",
      "\u001b[0;32m~/anaconda/lib/python3.6/site-packages/pandas/core/indexing.py\u001b[0m in \u001b[0;36m__getitem__\u001b[0;34m(self, key)\u001b[0m\n\u001b[1;32m   1498\u001b[0m \u001b[0;34m\u001b[0m\u001b[0m\n\u001b[1;32m   1499\u001b[0m             \u001b[0mmaybe_callable\u001b[0m \u001b[0;34m=\u001b[0m \u001b[0mcom\u001b[0m\u001b[0;34m.\u001b[0m\u001b[0mapply_if_callable\u001b[0m\u001b[0;34m(\u001b[0m\u001b[0mkey\u001b[0m\u001b[0;34m,\u001b[0m \u001b[0mself\u001b[0m\u001b[0;34m.\u001b[0m\u001b[0mobj\u001b[0m\u001b[0;34m)\u001b[0m\u001b[0;34m\u001b[0m\u001b[0;34m\u001b[0m\u001b[0m\n\u001b[0;32m-> 1500\u001b[0;31m             \u001b[0;32mreturn\u001b[0m \u001b[0mself\u001b[0m\u001b[0;34m.\u001b[0m\u001b[0m_getitem_axis\u001b[0m\u001b[0;34m(\u001b[0m\u001b[0mmaybe_callable\u001b[0m\u001b[0;34m,\u001b[0m \u001b[0maxis\u001b[0m\u001b[0;34m=\u001b[0m\u001b[0maxis\u001b[0m\u001b[0;34m)\u001b[0m\u001b[0;34m\u001b[0m\u001b[0;34m\u001b[0m\u001b[0m\n\u001b[0m\u001b[1;32m   1501\u001b[0m \u001b[0;34m\u001b[0m\u001b[0m\n\u001b[1;32m   1502\u001b[0m     \u001b[0;32mdef\u001b[0m \u001b[0m_is_scalar_access\u001b[0m\u001b[0;34m(\u001b[0m\u001b[0mself\u001b[0m\u001b[0;34m,\u001b[0m \u001b[0mkey\u001b[0m\u001b[0;34m)\u001b[0m\u001b[0;34m:\u001b[0m\u001b[0;34m\u001b[0m\u001b[0;34m\u001b[0m\u001b[0m\n",
      "\u001b[0;32m~/anaconda/lib/python3.6/site-packages/pandas/core/indexing.py\u001b[0m in \u001b[0;36m_getitem_axis\u001b[0;34m(self, key, axis)\u001b[0m\n\u001b[1;32m   2219\u001b[0m         \u001b[0;31m# a list of integers\u001b[0m\u001b[0;34m\u001b[0m\u001b[0;34m\u001b[0m\u001b[0;34m\u001b[0m\u001b[0m\n\u001b[1;32m   2220\u001b[0m         \u001b[0;32melif\u001b[0m \u001b[0mis_list_like_indexer\u001b[0m\u001b[0;34m(\u001b[0m\u001b[0mkey\u001b[0m\u001b[0;34m)\u001b[0m\u001b[0;34m:\u001b[0m\u001b[0;34m\u001b[0m\u001b[0;34m\u001b[0m\u001b[0m\n\u001b[0;32m-> 2221\u001b[0;31m             \u001b[0;32mreturn\u001b[0m \u001b[0mself\u001b[0m\u001b[0;34m.\u001b[0m\u001b[0m_get_list_axis\u001b[0m\u001b[0;34m(\u001b[0m\u001b[0mkey\u001b[0m\u001b[0;34m,\u001b[0m \u001b[0maxis\u001b[0m\u001b[0;34m=\u001b[0m\u001b[0maxis\u001b[0m\u001b[0;34m)\u001b[0m\u001b[0;34m\u001b[0m\u001b[0;34m\u001b[0m\u001b[0m\n\u001b[0m\u001b[1;32m   2222\u001b[0m \u001b[0;34m\u001b[0m\u001b[0m\n\u001b[1;32m   2223\u001b[0m         \u001b[0;31m# a single integer\u001b[0m\u001b[0;34m\u001b[0m\u001b[0;34m\u001b[0m\u001b[0;34m\u001b[0m\u001b[0m\n",
      "\u001b[0;32m~/anaconda/lib/python3.6/site-packages/pandas/core/indexing.py\u001b[0m in \u001b[0;36m_get_list_axis\u001b[0;34m(self, key, axis)\u001b[0m\n\u001b[1;32m   2201\u001b[0m         \u001b[0;32mexcept\u001b[0m \u001b[0mIndexError\u001b[0m\u001b[0;34m:\u001b[0m\u001b[0;34m\u001b[0m\u001b[0;34m\u001b[0m\u001b[0m\n\u001b[1;32m   2202\u001b[0m             \u001b[0;31m# re-raise with different error message\u001b[0m\u001b[0;34m\u001b[0m\u001b[0;34m\u001b[0m\u001b[0;34m\u001b[0m\u001b[0m\n\u001b[0;32m-> 2203\u001b[0;31m             \u001b[0;32mraise\u001b[0m \u001b[0mIndexError\u001b[0m\u001b[0;34m(\u001b[0m\u001b[0;34m\"positional indexers are out-of-bounds\"\u001b[0m\u001b[0;34m)\u001b[0m\u001b[0;34m\u001b[0m\u001b[0;34m\u001b[0m\u001b[0m\n\u001b[0m\u001b[1;32m   2204\u001b[0m \u001b[0;34m\u001b[0m\u001b[0m\n\u001b[1;32m   2205\u001b[0m     \u001b[0;32mdef\u001b[0m \u001b[0m_getitem_axis\u001b[0m\u001b[0;34m(\u001b[0m\u001b[0mself\u001b[0m\u001b[0;34m,\u001b[0m \u001b[0mkey\u001b[0m\u001b[0;34m,\u001b[0m \u001b[0maxis\u001b[0m\u001b[0;34m=\u001b[0m\u001b[0;32mNone\u001b[0m\u001b[0;34m)\u001b[0m\u001b[0;34m:\u001b[0m\u001b[0;34m\u001b[0m\u001b[0;34m\u001b[0m\u001b[0m\n",
      "\u001b[0;31mIndexError\u001b[0m: positional indexers are out-of-bounds"
     ]
    }
   ],
   "source": [
    "#for the test train split, we only want the movies for which we have labels\n",
    "x_train, x_test, y_train, y_test = train_test_split(dfs.iloc[movies_seen].values,known_ratings)\n",
    "\n",
    "#This is what we'll want to predict\n",
    "x_to_predict = dfs.iloc[movies_not_seen]"
   ]
  },
  {
   "cell_type": "code",
   "execution_count": null,
   "metadata": {},
   "outputs": [],
   "source": [
    "parameters = {'kernel' : ('rbf', 'poly')\n",
    "              ,'C' : [1,10], 'degree' : [1,2,3,4], 'gamma' : [1,2,3,'auto']}\n",
    "model = SVC()\n",
    "#clf = GridSearchCV(model, parameters)\n",
    "model.fit(x_train,y_train)\n",
    "model.score(x_test,y_test)"
   ]
  },
  {
   "cell_type": "code",
   "execution_count": null,
   "metadata": {},
   "outputs": [],
   "source": []
  }
 ],
 "metadata": {
  "kernelspec": {
   "display_name": "Python 3",
   "language": "python",
   "name": "python3"
  },
  "language_info": {
   "codemirror_mode": {
    "name": "ipython",
    "version": 3
   },
   "file_extension": ".py",
   "mimetype": "text/x-python",
   "name": "python",
   "nbconvert_exporter": "python",
   "pygments_lexer": "ipython3",
   "version": "3.6.8"
  }
 },
 "nbformat": 4,
 "nbformat_minor": 2
}
