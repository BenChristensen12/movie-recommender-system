{
 "cells": [
  {
   "cell_type": "markdown",
   "metadata": {},
   "source": [
    "# HW\n",
    "\n",
    "Ben Burt\n",
    "\n",
    "Ben Christensen\n",
    "\n",
    "Jane Cox"
   ]
  },
  {
   "cell_type": "code",
   "execution_count": 1,
   "metadata": {},
   "outputs": [],
   "source": [
    "import numpy as np\n",
    "from sklearn.svm import SVC\n",
    "from sklearn.model_selection import train_test_split\n",
    "from sklearn.model_selection import GridSearchCV\n",
    "\n",
    "import pandas as pd\n",
    "from scipy import linalg as la\n",
    "from scipy.sparse import csr_matrix\n",
    "from pandas.api.types import CategoricalDtype\n",
    "from scipy.sparse import linalg as spla"
   ]
  },
  {
   "cell_type": "markdown",
   "metadata": {},
   "source": [
    "# Our Data Set"
   ]
  },
  {
   "cell_type": "code",
   "execution_count": 2,
   "metadata": {},
   "outputs": [],
   "source": [
    "r = pd.read_csv(\"/Users/Armen/Desktop/SpringDataProject/ratings.csv\")"
   ]
  },
  {
   "cell_type": "code",
   "execution_count": 3,
   "metadata": {},
   "outputs": [],
   "source": [
    "def set_up_test(user_id):\n",
    "    #inidiscriminately chopping up the dataset to get something small\n",
    "    df = r[r.userId < 200]\n",
    "    df = df[df.movieId < 2000]\n",
    "    user_c = CategoricalDtype(sorted(df.userId.unique()), ordered=True)\n",
    "    movie_c = CategoricalDtype(sorted(df.movieId.unique()), ordered=True)\n",
    "    row = df.userId.astype(user_c).cat.codes\n",
    "    col = df.movieId.astype(movie_c).cat.codes\n",
    "    #this matrix is movies x users\n",
    "    matrix = csr_matrix((df['rating'], (row, col)) \\\n",
    "                        , shape=(user_c.categories.size, movie_c.categories.size)).todense().T\n",
    "    \n",
    "    #take out our lucky user\n",
    "    user1 = np.ravel(matrix[:,user_id])\n",
    "    matrix = np.delete(matrix, user_id, axis = 1)\n",
    "\n",
    "    #we can only train on the movies that the user has seen\n",
    "    movies_not_seen = np.where(user1 == 0)[0]\n",
    "    movies_seen = np.where(user1 != 0)[0]\n",
    "    \n",
    "    #turn user's rating into binary 'liked' (1) or 'disliked' (-1)\n",
    "    known_ratings = user1[movies_seen]\n",
    "    known_ratings[known_ratings <= 3] = -1 #right now the cutoff is 3. could also try 2.5?\n",
    "    known_ratings[known_ratings > 3] = 1\n",
    "    \n",
    "    #replace all the Nan's with 3's.\n",
    "    matrix[matrix == 0] = 3\n",
    "    \n",
    "    return pd.DataFrame(matrix), movies_not_seen, movies_seen, known_ratings\n",
    "\n",
    "def for_real(user_id):\n",
    "    #get only those movies with more than 17 ratings (cutting out ~50% of movies)\n",
    "    merged = r.merge(r.groupby(\"movieId\").size().reset_index(name='count'),\n",
    "                     how='right', on='movieId')\n",
    "    df = merged[merged[\"count\"]>17].sort_values(['userId', 'movieId'])\n",
    "    \n",
    "    #get our lucky user\n",
    "    user1 = df[df.userId == user_id]\n",
    "    print(user1)\n",
    "    df.drop(labels=df[df.userId == user_id].index, axis=0, inplace=True)\n",
    "    \n",
    "    #create a matrix from the ratings list\n",
    "    user_c = CategoricalDtype(sorted(df.userId.unique()), ordered=True)\n",
    "    movie_c = CategoricalDtype(sorted(df.movieId.unique()), ordered=True)\n",
    "    row = df.userId.astype(user_c).cat.codes\n",
    "    col = df.movieId.astype(movie_c).cat.codes\n",
    "    \n",
    "    #this matrix is movies x users\n",
    "    sparse_matrix = csr_matrix((df['rating'], (row, col)), \\\n",
    "                               shape=(user_c.categories.size, movie_c.categories.size)).T\n",
    "    \n",
    "    #we can't deal with these NaN's, so we're lazy and just replace them all with 3's\n",
    "    dfs = pd.SparseDataFrame(sparse_matrix, \\\n",
    "                         index=movie_c.categories, \\\n",
    "                         columns=user_c.categories, \\\n",
    "                         default_fill_value=3)\n",
    "    \n",
    "    #we can only train on the movies that the user has seen\n",
    "    movies_seen = dfs.loc[user1.movieId.values].index.values\n",
    "    movies_not_seen = list(set(dfs.index.values) - set(movies_seen))\n",
    "    \n",
    "    #turn user's rating into binary 'liked' (1) or 'disliked' (-1)\n",
    "    known_ratings = user1.rating.values\n",
    "    known_ratings[known_ratings <= 3] = -1 #right now the cutoff is 3. could also try 2.5?\n",
    "    known_ratings[known_ratings > 3] = 1\n",
    "    \n",
    "    return dfs, movies_not_seen, movies_seen, known_ratings"
   ]
  },
  {
   "cell_type": "code",
   "execution_count": 4,
   "metadata": {},
   "outputs": [],
   "source": [
    "user_id = 50\n",
    "dfs, movies_not_seen, movies_seen, known_ratings = set_up_test(user_id)\n",
    "#dfs, movies_not_seen, movies_seen, known_ratings = for_real(user_id)"
   ]
  },
  {
   "cell_type": "code",
   "execution_count": 5,
   "metadata": {
    "scrolled": true
   },
   "outputs": [],
   "source": [
    "#for the test train split, we only want the movies for which we have labels\n",
    "x_train, x_test, y_train, y_test = train_test_split(dfs.iloc[movies_seen].values,known_ratings)\n",
    "\n",
    "#This is what we'll want to predict\n",
    "x_to_predict = dfs.iloc[movies_not_seen]"
   ]
  },
  {
   "cell_type": "code",
   "execution_count": 6,
   "metadata": {},
   "outputs": [
    {
     "data": {
      "text/plain": [
       "0.7142857142857143"
      ]
     },
     "execution_count": 6,
     "metadata": {},
     "output_type": "execute_result"
    }
   ],
   "source": [
    "parameters = {'kernel' : ('rbf', 'poly')\n",
    "              ,'C' : [1,10], 'degree' : [1,2,3,4], 'gamma' : [1,2,3,'auto']}\n",
    "model = SVC()\n",
    "#clf = GridSearchCV(model, parameters)\n",
    "model.fit(x_train,y_train)\n",
    "model.score(x_test,y_test)"
   ]
  },
  {
   "cell_type": "code",
   "execution_count": null,
   "metadata": {},
   "outputs": [],
   "source": []
  }
 ],
 "metadata": {
  "kernelspec": {
   "display_name": "Python 3",
   "language": "python",
   "name": "python3"
  },
  "language_info": {
   "codemirror_mode": {
    "name": "ipython",
    "version": 3
   },
   "file_extension": ".py",
   "mimetype": "text/x-python",
   "name": "python",
   "nbconvert_exporter": "python",
   "pygments_lexer": "ipython3",
   "version": "3.6.8"
  }
 },
 "nbformat": 4,
 "nbformat_minor": 2
}
