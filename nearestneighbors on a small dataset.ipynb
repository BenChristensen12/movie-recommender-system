{
 "cells": [
  {
   "cell_type": "code",
   "execution_count": 219,
   "metadata": {},
   "outputs": [],
   "source": [
    "import pandas as pd\n",
    "from scipy import linalg as la\n",
    "import numpy as np\n",
    "from scipy.sparse import csr_matrix\n",
    "from pandas.api.types import CategoricalDtype\n",
    "from sklearn.neighbors import NearestNeighbors\n",
    "from scipy.sparse import linalg as spla"
   ]
  },
  {
   "cell_type": "code",
   "execution_count": 220,
   "metadata": {},
   "outputs": [
    {
     "data": {
      "text/html": [
       "<div>\n",
       "<style scoped>\n",
       "    .dataframe tbody tr th:only-of-type {\n",
       "        vertical-align: middle;\n",
       "    }\n",
       "\n",
       "    .dataframe tbody tr th {\n",
       "        vertical-align: top;\n",
       "    }\n",
       "\n",
       "    .dataframe thead th {\n",
       "        text-align: right;\n",
       "    }\n",
       "</style>\n",
       "<table border=\"1\" class=\"dataframe\">\n",
       "  <thead>\n",
       "    <tr style=\"text-align: right;\">\n",
       "      <th></th>\n",
       "      <th>userId</th>\n",
       "      <th>movieId</th>\n",
       "      <th>rating</th>\n",
       "    </tr>\n",
       "  </thead>\n",
       "  <tbody>\n",
       "    <tr>\n",
       "      <th>0</th>\n",
       "      <td>1.0</td>\n",
       "      <td>10.0</td>\n",
       "      <td>0.5</td>\n",
       "    </tr>\n",
       "    <tr>\n",
       "      <th>1</th>\n",
       "      <td>1.0</td>\n",
       "      <td>60.0</td>\n",
       "      <td>2.0</td>\n",
       "    </tr>\n",
       "    <tr>\n",
       "      <th>2</th>\n",
       "      <td>2.0</td>\n",
       "      <td>70.0</td>\n",
       "      <td>4.0</td>\n",
       "    </tr>\n",
       "    <tr>\n",
       "      <th>3</th>\n",
       "      <td>2.0</td>\n",
       "      <td>20.0</td>\n",
       "      <td>5.0</td>\n",
       "    </tr>\n",
       "    <tr>\n",
       "      <th>4</th>\n",
       "      <td>2.0</td>\n",
       "      <td>30.0</td>\n",
       "      <td>2.0</td>\n",
       "    </tr>\n",
       "  </tbody>\n",
       "</table>\n",
       "</div>"
      ],
      "text/plain": [
       "   userId  movieId  rating\n",
       "0     1.0     10.0     0.5\n",
       "1     1.0     60.0     2.0\n",
       "2     2.0     70.0     4.0\n",
       "3     2.0     20.0     5.0\n",
       "4     2.0     30.0     2.0"
      ]
     },
     "execution_count": 220,
     "metadata": {},
     "output_type": "execute_result"
    }
   ],
   "source": [
    "x = np.array([[1,10,.5],\n",
    "        [1,60,2],\n",
    "        [2,70,4],\n",
    "        [2,20,5],\n",
    "        [2,30,2],\n",
    "        [2,40,1],\n",
    "        [2,90,5],\n",
    "        [3,20,4.5],\n",
    "        [3,30,3],\n",
    "        [3,40,1],\n",
    "        [4,10,2],\n",
    "        [5,40,1.5],\n",
    "        [6,30,5],\n",
    "        [6,20,4],\n",
    "        [6,40,.5],\n",
    "        [6,70,1],\n",
    "        [6,90,4.5],\n",
    "        [7,100,4.5],\n",
    "        [8,50,4.5],\n",
    "        [9,80,.5],\n",
    "        [9,90,1.5],\n",
    "        [10,30,3.5],\n",
    "        [10,20,4.5],\n",
    "        [10,50,2],\n",
    "        [10,70,2],\n",
    "        [10,90,4]])\n",
    "df = pd.DataFrame(x,columns=['userId','movieId','rating'])\n",
    "df.head()"
   ]
  },
  {
   "cell_type": "code",
   "execution_count": 221,
   "metadata": {},
   "outputs": [],
   "source": [
    "user_c = CategoricalDtype(sorted(df.userId.unique()), ordered=True)\n",
    "movie_c = CategoricalDtype(sorted(df.movieId.unique()), ordered=True)\n",
    "\n",
    "row = df.userId.astype(user_c).cat.codes\n",
    "col = df.movieId.astype(movie_c).cat.codes\n",
    "sparse_matrix = csr_matrix((df['rating'], (row, col)), \\\n",
    "                           shape=(user_c.categories.size, movie_c.categories.size))\n",
    "\n",
    "#dense = sparse_matrix.todense()\n",
    "dfs = pd.SparseDataFrame(sparse_matrix, \\\n",
    "                         index=user_c.categories, \\\n",
    "                         columns=movie_c.categories, \\\n",
    "                         default_fill_value=2.5)\n",
    "dense = dfs.values"
   ]
  },
  {
   "cell_type": "code",
   "execution_count": 222,
   "metadata": {},
   "outputs": [
    {
     "data": {
      "text/plain": [
       "array([[0.5, 2.5, 2.5, 2.5, 2.5, 2. , 2.5, 2.5, 2.5, 2.5],\n",
       "       [2.5, 5. , 2. , 1. , 2.5, 2.5, 4. , 2.5, 5. , 2.5],\n",
       "       [2.5, 4.5, 3. , 1. , 2.5, 2.5, 2.5, 2.5, 2.5, 2.5],\n",
       "       [2. , 2.5, 2.5, 2.5, 2.5, 2.5, 2.5, 2.5, 2.5, 2.5],\n",
       "       [2.5, 2.5, 2.5, 1.5, 2.5, 2.5, 2.5, 2.5, 2.5, 2.5],\n",
       "       [2.5, 4. , 5. , 0.5, 2.5, 2.5, 1. , 2.5, 4.5, 2.5],\n",
       "       [2.5, 2.5, 2.5, 2.5, 2.5, 2.5, 2.5, 2.5, 2.5, 4.5],\n",
       "       [2.5, 2.5, 2.5, 2.5, 4.5, 2.5, 2.5, 2.5, 2.5, 2.5],\n",
       "       [2.5, 2.5, 2.5, 2.5, 2.5, 2.5, 2.5, 0.5, 1.5, 2.5],\n",
       "       [2.5, 4.5, 3.5, 2.5, 2. , 2.5, 2. , 2.5, 4. , 2.5]])"
      ]
     },
     "execution_count": 222,
     "metadata": {},
     "output_type": "execute_result"
    }
   ],
   "source": [
    "dense"
   ]
  },
  {
   "cell_type": "code",
   "execution_count": 223,
   "metadata": {},
   "outputs": [
    {
     "data": {
      "text/plain": [
       "pandas.core.indexes.numeric.Float64Index"
      ]
     },
     "execution_count": 223,
     "metadata": {},
     "output_type": "execute_result"
    }
   ],
   "source": [
    "type(movie_c.categories)"
   ]
  },
  {
   "cell_type": "code",
   "execution_count": 224,
   "metadata": {},
   "outputs": [
    {
     "data": {
      "text/html": [
       "<div>\n",
       "<style scoped>\n",
       "    .dataframe tbody tr th:only-of-type {\n",
       "        vertical-align: middle;\n",
       "    }\n",
       "\n",
       "    .dataframe tbody tr th {\n",
       "        vertical-align: top;\n",
       "    }\n",
       "\n",
       "    .dataframe thead th {\n",
       "        text-align: right;\n",
       "    }\n",
       "</style>\n",
       "<table border=\"1\" class=\"dataframe\">\n",
       "  <thead>\n",
       "    <tr style=\"text-align: right;\">\n",
       "      <th></th>\n",
       "      <th>userId</th>\n",
       "      <th>movieId</th>\n",
       "      <th>rating</th>\n",
       "    </tr>\n",
       "  </thead>\n",
       "  <tbody>\n",
       "    <tr>\n",
       "      <th>0</th>\n",
       "      <td>1.0</td>\n",
       "      <td>10.0</td>\n",
       "      <td>0.5</td>\n",
       "    </tr>\n",
       "    <tr>\n",
       "      <th>1</th>\n",
       "      <td>1.0</td>\n",
       "      <td>60.0</td>\n",
       "      <td>2.0</td>\n",
       "    </tr>\n",
       "    <tr>\n",
       "      <th>2</th>\n",
       "      <td>2.0</td>\n",
       "      <td>70.0</td>\n",
       "      <td>4.0</td>\n",
       "    </tr>\n",
       "    <tr>\n",
       "      <th>3</th>\n",
       "      <td>2.0</td>\n",
       "      <td>20.0</td>\n",
       "      <td>5.0</td>\n",
       "    </tr>\n",
       "    <tr>\n",
       "      <th>4</th>\n",
       "      <td>2.0</td>\n",
       "      <td>30.0</td>\n",
       "      <td>2.0</td>\n",
       "    </tr>\n",
       "    <tr>\n",
       "      <th>5</th>\n",
       "      <td>2.0</td>\n",
       "      <td>40.0</td>\n",
       "      <td>1.0</td>\n",
       "    </tr>\n",
       "    <tr>\n",
       "      <th>6</th>\n",
       "      <td>2.0</td>\n",
       "      <td>90.0</td>\n",
       "      <td>5.0</td>\n",
       "    </tr>\n",
       "  </tbody>\n",
       "</table>\n",
       "</div>"
      ],
      "text/plain": [
       "   userId  movieId  rating\n",
       "0     1.0     10.0     0.5\n",
       "1     1.0     60.0     2.0\n",
       "2     2.0     70.0     4.0\n",
       "3     2.0     20.0     5.0\n",
       "4     2.0     30.0     2.0\n",
       "5     2.0     40.0     1.0\n",
       "6     2.0     90.0     5.0"
      ]
     },
     "execution_count": 224,
     "metadata": {},
     "output_type": "execute_result"
    }
   ],
   "source": [
    "\n",
    "df[(df.userId == 1) | (df.userId == 2)]"
   ]
  },
  {
   "cell_type": "code",
   "execution_count": 225,
   "metadata": {},
   "outputs": [],
   "source": [
    "neigh = NearestNeighbors(algorithm='brute', metric='cosine')\n",
    "model = neigh.fit(sparse_matrix)\n",
    "#m = pd.read_csv(\"/Users/Armen/Desktop/SpringDataProject/movies.csv\")"
   ]
  },
  {
   "cell_type": "code",
   "execution_count": 248,
   "metadata": {},
   "outputs": [],
   "source": [
    "def recommend_movies(fitted_model, user_id, n):\n",
    "    alpha=1\n",
    "    movieids_seen = df[df.userId == user_id].movieId.values\n",
    "    #mask is the indices of the movies that userid has seen\n",
    "    mask = []\n",
    "    for i, j in enumerate(movie_c.categories):\n",
    "        if j in df[df.userId == 3].movieId.values:\n",
    "            mask.append(i)\n",
    "    #use the mask to get the indices of the movies userid hasn't seen\n",
    "    not_seen = list(set(range(len(movie_c.categories))) - set(mask))\n",
    "    #cut out the movies (columns) userid has seen from our matrix\n",
    "    new = dense[:,not_seen]\n",
    "\n",
    "    #get the 50 nearest neighbors of userId\n",
    "    input_ = fitted_model.kneighbors(dense[user_id-1], 3)\n",
    "    \n",
    "    #neighbors is the actual rows of the matrix with each neighbors ratings\n",
    "    neighbors = new[input_[1][0]]\n",
    "    #find how many times each movie has been rated by the neighbors\n",
    "    neigh_movies = []\n",
    "    for id in input_[1][0] + 1:\n",
    "        x = df[df.userId == id].movieId.values\n",
    "        x = list(set(x) - set(movieids_seen))\n",
    "        neigh_movies += x\n",
    "    ratings_count = np.array(np.unique(neigh_movies,return_counts = True)[1])\n",
    "    \n",
    "    #Ben's calculation\n",
    "    position = np.argmax((np.array(np.mean(neighbors - 2.5, axis=0))*alpha*ratings_count[2]))\n",
    "    #get the movieid from the matrix column value\n",
    "    movie_id = np.array(movie_c.categories)[not_seen][position]\n",
    "    print('movie_id',movie_id)\n",
    "    return movie_id#m[m.movieId == movie_id].title"
   ]
  },
  {
   "cell_type": "code",
   "execution_count": 249,
   "metadata": {},
   "outputs": [
    {
     "name": "stdout",
     "output_type": "stream",
     "text": [
      "[1 3 3]\n",
      "[ 0.         -0.16666667  0.         -0.16666667  0.          2.\n",
      "  0.        ]\n",
      "5\n",
      "movie_id 90.0\n"
     ]
    },
    {
     "name": "stderr",
     "output_type": "stream",
     "text": [
      "/Users/Armen/anaconda/lib/python3.6/site-packages/sklearn/utils/validation.py:395: DeprecationWarning: Passing 1d arrays as data is deprecated in 0.17 and will raise ValueError in 0.19. Reshape your data either using X.reshape(-1, 1) if your data has a single feature or X.reshape(1, -1) if it contains a single sample.\n",
      "  DeprecationWarning)\n"
     ]
    }
   ],
   "source": [
    "x = recommend_movies(model, 3, 1)"
   ]
  },
  {
   "cell_type": "code",
   "execution_count": null,
   "metadata": {},
   "outputs": [],
   "source": []
  },
  {
   "cell_type": "code",
   "execution_count": null,
   "metadata": {},
   "outputs": [],
   "source": []
  },
  {
   "cell_type": "code",
   "execution_count": null,
   "metadata": {},
   "outputs": [],
   "source": []
  }
 ],
 "metadata": {
  "kernelspec": {
   "display_name": "Python 3",
   "language": "python",
   "name": "python3"
  },
  "language_info": {
   "codemirror_mode": {
    "name": "ipython",
    "version": 3
   },
   "file_extension": ".py",
   "mimetype": "text/x-python",
   "name": "python",
   "nbconvert_exporter": "python",
   "pygments_lexer": "ipython3",
   "version": "3.6.8"
  }
 },
 "nbformat": 4,
 "nbformat_minor": 2
}
